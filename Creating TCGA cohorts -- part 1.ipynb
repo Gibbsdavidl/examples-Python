{
 "cells": [
  {
   "cell_type": "markdown",
   "metadata": {},
   "source": [
    "# Creating TCGA cohorts  (part 1)\n",
    "\n",
    "This notebook will show you how to create a TCGA cohort using the publicly available TCGA BigQuery tables that the [ISB-CGC](isb-cgc.org) project has produced based on the open-access [TCGA](http://cancergenome.nih.gov/) data available at the [Data Portal](https://tcga-data.nci.nih.gov/tcga/).  You will need to have access to a Google Cloud Platform (GCP) project in order to use BigQuery.  If you don't already have one, you can sign up for a [free-trial](https://cloud.google.com/free-trial/) or contact [us](email info at isb-cgc dot org) and become part of the community evaluation phase of our [Cancer Genomics Cloud pilot](https://cbiit.nci.nih.gov/ncip/nci-cancer-genomics-cloud-pilots).\n",
    "\n",
    "We are not attempting to provide a thorough BigQuery or IPython tutorial here, as a wealth of such information already exists.  Here are some links to some resources that you might find useful: \n",
    "* [BigQuery](https://cloud.google.com/bigquery/what-is-bigquery), \n",
    "* the BIgQuery [web UI](https://bigquery.cloud.google.com/) where you can run queries interactively, \n",
    "* [IPython](http://ipython.org/) (now known as [Jupyter](http://jupyter.org/)), and \n",
    "* [Cloud Datalab](https://cloud.google.com/datalab/) the recently announced interactive cloud-based platform that this notebook is being developed on. \n",
    "\n",
    "There are also many tutorials and samples available on github (see, in particular, the [datalab](https://github.com/GoogleCloudPlatform/datalab) repo and the [Google Genomics](  https://github.com/googlegenomics) project).\n",
    "\n",
    "OK then, let's get started!  In order to work with BigQuery, the first thing you need to do is import the bigquery module:"
   ]
  },
  {
   "cell_type": "code",
   "execution_count": 1,
   "metadata": {
    "collapsed": true
   },
   "outputs": [],
   "source": [
    "import gcp.bigquery as bq"
   ]
  },
  {
   "cell_type": "markdown",
   "metadata": {},
   "source": [
    "The next thing you need to know is how to access the specific tables you are interested in.  BigQuery tables are organized into datasets, and datasets are owned by a specific GCP project.  The tables we will be working with in this notebook are in a dataset called **`tcga_201510_alpha`**, owned by the **`isb-cgc`** project.  A full table identifier is of the form `<project_id>:<dataset_id>.<table_id>`.  Let's start by getting some basic information about the tables in this dataset:"
   ]
  },
  {
   "cell_type": "code",
   "execution_count": 2,
   "metadata": {
    "collapsed": false
   },
   "outputs": [
    {
     "name": "stdout",
     "output_type": "stream",
     "text": [
      "     17519 rows       6072735 bytes   Annotations\n",
      "     23688 rows       6361090 bytes   Biospecimen_data\n",
      "     11152 rows       4215264 bytes   Clinical_data\n",
      "   2586033 rows     326181970 bytes   Copy_Number_segments\n",
      "3874187076 rows  437382491205 bytes   DNA_Methylation_betas\n",
      "   1618973 rows     180121639 bytes   Protein_RPPA_data\n",
      "   5813281 rows    6392929246 bytes   Somatic_Mutation_calls\n",
      "  38299138 rows    4459086535 bytes   mRNA_BCGSC_HiSeq_RPKM\n",
      " 212475319 rows   25083953060 bytes   mRNA_UNC_HiSeq_RSEM\n",
      "  13483548 rows    1644762154 bytes   miRNA_expression\n"
     ]
    }
   ],
   "source": [
    "d = bq.DataSet('isb-cgc:tcga_201510_alpha')\n",
    "for t in d.tables():\n",
    "  print '%10d rows  %12d bytes   %s' \\\n",
    "      % (t.metadata.rows, t.metadata.size, t.name.table_id)"
   ]
  },
  {
   "cell_type": "markdown",
   "metadata": {},
   "source": [
    "In this tutorial, we are going to look at a few different ways that we can use the information in these tables to create cohorts.  Now, you maybe asking what we mean by \"cohort\" and why you might be interested in *creating* one, or maybe what it even means to \"create\" a cohort.  The TCGA dataset includes clinical, biospecimen, and molecular data from over 10,000 cancer patients who agreed to be a part of this landmark research project to build [The Cancer Genome Atlas](http://cancergenome.nih.gov/).  This large dataset was originally organized and studied according to [cancer type](http://cancergenome.nih.gov/cancersselected) but now that this multi-year project is nearing completion, with over 30 types of cancer and over 10,000 tumors analyzed, **you** have the opportunity to look at this dataset from whichever angle most interests you.  Maybe you are particularly interested in early-onset cancers, or gastro-intestinal cancers, or a specific type of genetic mutation.  This is where the idea of a \"cohort\" comes in.  The original TCGA \"cohorts\" were based on cancer type (aka \"study\"), but now you can define a cohort based on virtually any clinical or molecular feature by querying these BigQuery tables.  A cohort is simply a list of samples, using the [TCGA barcode](https://wiki.nci.nih.gov/display/TCGA/TCGA+barcode) system.  Once you have created a cohort you can use it in any number of ways: you could further explore the data available for one cohort, or compare one cohort to another, for example.\n",
    "\n",
    "In the rest of this tutorial, we will create several different cohorts based on different motivating research questions.  We hope that these examples will provide you with a starting point from which you can build, to answer your own research questions."
   ]
  },
  {
   "cell_type": "markdown",
   "metadata": {},
   "source": [
    "### Exploring the Clinical data table\n",
    "Let's start by looking at the clinical data table.  The TCGA dataset contains a few very basic clinical data elements for almost all patients, and contains additional information for some tumor types only.  For example smoking history information is generally available only for lung cancer patients, and BMI (body mass index) is only available for tumor types where that is a known significant risk factor.  Let's take a look at the clinical data table and see how many different pieces of information are available to us:"
   ]
  },
  {
   "cell_type": "code",
   "execution_count": 3,
   "metadata": {
    "collapsed": false
   },
   "outputs": [
    {
     "data": {
      "text/html": [
       "\n",
       "    <div class=\"bqsv\" id=\"1_144720381357\"></div>\n",
       "    <script>\n",
       "      require(['extensions/bigquery', 'element!1_144720381357', 'style!/static/extensions/bigquery.css'],\n",
       "        function(bq, dom) {\n",
       "          bq.renderSchema(dom, [{\"type\": \"STRING\", \"name\": \"ParticipantBarcode\"}, {\"type\": \"STRING\", \"name\": \"Study\"}, {\"type\": \"STRING\", \"name\": \"Project\"}, {\"type\": \"STRING\", \"name\": \"ParticipantUUID\"}, {\"type\": \"STRING\", \"name\": \"TSSCode\"}, {\"type\": \"INTEGER\", \"name\": \"age_at_initial_pathologic_diagnosis\"}, {\"type\": \"STRING\", \"name\": \"anatomic_neoplasm_subdivision\"}, {\"type\": \"INTEGER\", \"name\": \"batch_number\"}, {\"type\": \"STRING\", \"name\": \"bcr\"}, {\"type\": \"STRING\", \"name\": \"clinical_M\"}, {\"type\": \"STRING\", \"name\": \"clinical_N\"}, {\"type\": \"STRING\", \"name\": \"clinical_T\"}, {\"type\": \"STRING\", \"name\": \"clinical_stage\"}, {\"type\": \"STRING\", \"name\": \"colorectal_cancer\"}, {\"type\": \"STRING\", \"name\": \"country\"}, {\"type\": \"STRING\", \"name\": \"vital_status\"}, {\"type\": \"INTEGER\", \"name\": \"days_to_birth\"}, {\"type\": \"INTEGER\", \"name\": \"days_to_death\"}, {\"type\": \"INTEGER\", \"name\": \"days_to_last_known_alive\"}, {\"type\": \"INTEGER\", \"name\": \"days_to_last_followup\"}, {\"type\": \"INTEGER\", \"name\": \"days_to_initial_pathologic_diagnosis\"}, {\"type\": \"INTEGER\", \"name\": \"days_to_submitted_specimen_dx\"}, {\"type\": \"STRING\", \"name\": \"ethnicity\"}, {\"type\": \"STRING\", \"name\": \"frozen_specimen_anatomic_site\"}, {\"type\": \"STRING\", \"name\": \"gender\"}, {\"type\": \"FLOAT\", \"name\": \"gleason_score_combined\"}, {\"type\": \"STRING\", \"name\": \"histological_type\"}, {\"type\": \"STRING\", \"name\": \"history_of_colon_polyps\"}, {\"type\": \"STRING\", \"name\": \"history_of_neoadjuvant_treatment\"}, {\"type\": \"STRING\", \"name\": \"hpv_calls\"}, {\"type\": \"STRING\", \"name\": \"hpv_status\"}, {\"type\": \"STRING\", \"name\": \"icd_10\"}, {\"type\": \"STRING\", \"name\": \"icd_o_3_histology\"}, {\"type\": \"STRING\", \"name\": \"icd_o_3_site\"}, {\"type\": \"STRING\", \"name\": \"lymphatic_invasion\"}, {\"type\": \"STRING\", \"name\": \"lymphnodes_examined\"}, {\"type\": \"STRING\", \"name\": \"lymphovascular_invasion_present\"}, {\"type\": \"STRING\", \"name\": \"menopause_status\"}, {\"type\": \"STRING\", \"name\": \"mononucleotide_and_dinucleotide_marker_panel_analysis_status\"}, {\"type\": \"FLOAT\", \"name\": \"mononucleotide_marker_panel_analysis_status\"}, {\"type\": \"STRING\", \"name\": \"neoplasm_histologic_grade\"}, {\"type\": \"STRING\", \"name\": \"new_tumor_event_after_initial_treatment\"}, {\"type\": \"FLOAT\", \"name\": \"number_of_lymphnodes_examined\"}, {\"type\": \"FLOAT\", \"name\": \"number_of_lymphnodes_positive_by_he\"}, {\"type\": \"FLOAT\", \"name\": \"number_pack_years_smoked\"}, {\"type\": \"INTEGER\", \"name\": \"year_of_initial_pathologic_diagnosis\"}, {\"type\": \"STRING\", \"name\": \"pathologic_M\"}, {\"type\": \"STRING\", \"name\": \"pathologic_N\"}, {\"type\": \"STRING\", \"name\": \"pathologic_T\"}, {\"type\": \"STRING\", \"name\": \"pathologic_stage\"}, {\"type\": \"STRING\", \"name\": \"person_neoplasm_cancer_status\"}, {\"type\": \"STRING\", \"name\": \"pregnancies\"}, {\"type\": \"STRING\", \"name\": \"primary_neoplasm_melanoma_dx\"}, {\"type\": \"STRING\", \"name\": \"primary_therapy_outcome_success\"}, {\"type\": \"STRING\", \"name\": \"prior_dx\"}, {\"type\": \"FLOAT\", \"name\": \"psa_value\"}, {\"type\": \"STRING\", \"name\": \"race\"}, {\"type\": \"STRING\", \"name\": \"residual_tumor\"}, {\"type\": \"STRING\", \"name\": \"tobacco_smoking_history\"}, {\"type\": \"STRING\", \"name\": \"tumor_tissue_site\"}, {\"type\": \"STRING\", \"name\": \"tumor_type\"}, {\"type\": \"STRING\", \"name\": \"venous_invasion\"}, {\"type\": \"FLOAT\", \"name\": \"weight\"}, {\"type\": \"FLOAT\", \"name\": \"height\"}, {\"type\": \"FLOAT\", \"name\": \"BMI\"}]);\n",
       "        }\n",
       "      );\n",
       "    </script>\n",
       "    "
      ],
      "text/plain": [
       "<IPython.core.display.HTML object>"
      ]
     },
     "execution_count": 3,
     "metadata": {},
     "output_type": "execute_result"
    }
   ],
   "source": [
    "%bigquery schema --table isb-cgc:tcga_201510_alpha.Clinical_data"
   ]
  },
  {
   "cell_type": "markdown",
   "metadata": {},
   "source": [
    "That's a lot of fields!  We can also get at the schema programmatically:"
   ]
  },
  {
   "cell_type": "code",
   "execution_count": 4,
   "metadata": {
    "collapsed": false
   },
   "outputs": [
    {
     "name": "stdout",
     "output_type": "stream",
     "text": [
      " This table has 65 fields. \n",
      " The first few field names and types are: \n",
      "      [u'ParticipantBarcode', u'Study', u'Project', u'ParticipantUUID', u'TSSCode']\n",
      "      [u'STRING', u'STRING', u'STRING', u'STRING', u'STRING']\n"
     ]
    }
   ],
   "source": [
    "table = bq.Table('isb-cgc:tcga_201510_alpha.Clinical_data')\n",
    "if ( table.exists() ):\n",
    "    fieldNames = map(lambda tsf: tsf.name, table.schema)\n",
    "    fieldTypes = map(lambda tsf: tsf.data_type, table.schema)\n",
    "    print \" This table has %d fields. \" % ( len(fieldNames) )\n",
    "    print \" The first few field names and types are: \" \n",
    "    print \"     \", fieldNames[:5]\n",
    "    print \"     \", fieldTypes[:5]\n",
    "else: \n",
    "    print \" There is no existing table called %s:%s.%s\" % ( table.name.project_id, table.name.dataset_id, table.name.table_id )"
   ]
  },
  {
   "cell_type": "markdown",
   "metadata": {},
   "source": [
    "Let's look at these fields and see which ones might be the most \"interesting\", by looking at how many times they are filled-in (not NULL), or how much variation exists in the values.  If we wanted to look at just a single field, \"tobacco_smoking_history\" for example, we could use a very simple query to get a basic summary:"
   ]
  },
  {
   "cell_type": "code",
   "execution_count": 5,
   "metadata": {
    "collapsed": false
   },
   "outputs": [
    {
     "data": {
      "text/html": [
       "\n",
       "    <div class=\"bqtv\" id=\"2_144720381601\"></div>\n",
       "    <br />(rows: 6, time: 2.2s,    88KB processed, job: job_IGF9eI-ny_8k4QmtVrof0G_mfj8)<br />\n",
       "    <script>\n",
       "      require(['extensions/charting', 'element!2_144720381601', 'style!/static/extensions/charting.css'],\n",
       "        function(charts, dom) {\n",
       "          charts.render(dom,\n",
       "            {\n",
       "              chartStyle:\"table\",\n",
       "              dataName:\"0\",\n",
       "              fields:\"tobacco_smoking_history,n\",\n",
       "              totalRows:6,\n",
       "              rowsPerPage:25,\n",
       "            }, {}, {\"rows\": [{\"c\": [{\"v\": null}, {\"v\": 8226}]}, {\"c\": [{\"v\": \"Current reformed smoker for < or = 15 years\"}, {\"v\": 835}]}, {\"c\": [{\"v\": \"Lifelong Non-smoker\"}, {\"v\": 834}]}, {\"c\": [{\"v\": \"Current smoker\"}, {\"v\": 710}]}, {\"c\": [{\"v\": \"Current reformed smoker for > 15 years\"}, {\"v\": 496}]}, {\"c\": [{\"v\": \"Current Reformed Smoker, Duration Not Specified\"}, {\"v\": 51}]}], \"cols\": [{\"type\": \"string\", \"id\": \"tobacco_smoking_history\", \"label\": \"tobacco_smoking_history\"}, {\"type\": \"number\", \"id\": \"n\", \"label\": \"n\"}]});\n",
       "        }\n",
       "      );\n",
       "    </script>\n",
       "  "
      ],
      "text/plain": [
       "QueryResultsTable job_IGF9eI-ny_8k4QmtVrof0G_mfj8"
      ]
     },
     "execution_count": 5,
     "metadata": {},
     "output_type": "execute_result"
    }
   ],
   "source": [
    "%%sql \n",
    "\n",
    "SELECT tobacco_smoking_history, COUNT(*) AS n\n",
    "FROM [isb-cgc:tcga_201510_alpha.Clinical_data]\n",
    "GROUP BY tobacco_smoking_history\n",
    "ORDER BY n DESC"
   ]
  },
  {
   "cell_type": "markdown",
   "metadata": {},
   "source": [
    "But if we want to loop over all 65 fields and get a sense of which fields might provide us with useful criteria for specifying a cohort, we'll want to automate that.  We'll put a threshold on the minimum number of patients that we expect information for, and the maximum number of unique values (since fields such as the \"ParticipantBarcode\" will be unique for every patient and, although we will need that field later, it's probably not useful for defining a cohort)."
   ]
  },
  {
   "cell_type": "code",
   "execution_count": 6,
   "metadata": {
    "collapsed": false
   },
   "outputs": [
    {
     "name": "stdout",
     "output_type": "stream",
     "text": [
      " The Clinical_data table describes a total of 11152 patients. \n",
      "     > Study has 11152 values with 33 unique (BRCA occurs 1097 times) \n",
      "     > age_at_initial_pathologic_diagnosis has 11102 values (mean=59, sigma=14) \n",
      "     > batch_number has 11152 values (mean=203, sigma=134) \n",
      "     > vital_status has 11148 values with 2 unique (Alive occurs 7548 times) \n",
      "     > days_to_birth has 11034 values (mean=-21761, sigma=5268) \n",
      "     > days_to_last_known_alive has 11100 values (mean=1033, sigma=1040) \n",
      "     > gender has 11152 values with 2 unique (FEMALE occurs 5811 times) \n",
      "     > year_of_initial_pathologic_diagnosis has 11023 values (mean=2008, sigma=4) \n",
      "     > person_neoplasm_cancer_status has 10254 values with 2 unique (TUMOR FREE occurs 6531 times) \n",
      "     > race has 9828 values with 5 unique (WHITE occurs 8179 times) \n",
      " \n",
      " Found 10 potentially interesting features: \n",
      "    [u'Study', u'age_at_initial_pathologic_diagnosis', u'batch_number', u'vital_status', u'days_to_birth', u'days_to_last_known_alive', u'gender', u'year_of_initial_pathologic_diagnosis', u'person_neoplasm_cancer_status', u'race']\n"
     ]
    }
   ],
   "source": [
    "numPatients = table.metadata.rows\n",
    "print \" The %s table describes a total of %d patients. \" % ( table.name.table_id, numPatients )\n",
    "\n",
    "# let's set a threshold for the minimum number of values that a field should have,\n",
    "# and also the maximum number of unique values\n",
    "minNumPatients = int(numPatients*0.80)\n",
    "maxNumValues = 50\n",
    "\n",
    "numInteresting = 0\n",
    "iList = []\n",
    "for iField in range(len(fieldNames)):\n",
    "  aField = fieldNames[iField]\n",
    "  aType = fieldTypes[iField]\n",
    "  try:\n",
    "    qString = \"SELECT {0} FROM [{1}]\".format(aField,table)\n",
    "    query = bq.Query(qString)\n",
    "    df = query.to_dataframe()\n",
    "    summary = df[str(aField)].describe()\n",
    "    if ( aType == \"STRING\" ):\n",
    "      topFrac = float(summary['freq'])/float(summary['count'])\n",
    "      if ( summary['count'] >= minNumPatients ):\n",
    "        if ( summary['unique'] <= maxNumValues and summary['unique'] > 1 ):\n",
    "          if ( topFrac < 0.90 ):\n",
    "            numInteresting += 1\n",
    "            iList += [aField]\n",
    "            print \"     > %s has %d values with %d unique (%s occurs %d times) \" \\\n",
    "              % (str(aField), summary['count'], summary['unique'], summary['top'], summary['freq'])\n",
    "    else:\n",
    "      if ( summary['count'] >= minNumPatients ):\n",
    "        if ( summary['std'] > 0.1 ):\n",
    "          numInteresting += 1\n",
    "          iList += [aField]\n",
    "          print \"     > %s has %d values (mean=%.0f, sigma=%.0f) \" \\\n",
    "            % (str(aField), summary['count'], summary['mean'], summary['std'])\n",
    "  except:\n",
    "    pass\n",
    "\n",
    "print \" \"\n",
    "print \" Found %d potentially interesting features: \" % numInteresting\n",
    "print \"   \", iList"
   ]
  },
  {
   "cell_type": "markdown",
   "metadata": {},
   "source": [
    "The above helps us narrow down on which fields are likely to be the most useful, but if you have a specific interest, for example in menopause or HPV status, you can still look at those in more detail very easily: "
   ]
  },
  {
   "cell_type": "code",
   "execution_count": 8,
   "metadata": {
    "collapsed": false
   },
   "outputs": [
    {
     "data": {
      "text/html": [
       "\n",
       "    <div class=\"bqtv\" id=\"3_144704534368\"></div>\n",
       "    <br />(rows: 4, time: 1.5s,   150KB processed, job: job_sHjYaTQ04gf5Rkwgx6vP-yCU4VY)<br />\n",
       "    <script>\n",
       "      require(['extensions/charting', 'element!3_144704534368', 'style!/static/extensions/charting.css'],\n",
       "        function(charts, dom) {\n",
       "          charts.render(dom,\n",
       "            {\n",
       "              chartStyle:\"table\",\n",
       "              dataName:\"1\",\n",
       "              fields:\"menopause_status,n\",\n",
       "              totalRows:4,\n",
       "              rowsPerPage:25,\n",
       "            }, {}, {\"rows\": [{\"c\": [{\"v\": \"Post (prior bilateral ovariectomy OR >12 mo since LMP with no prior hysterectomy)\"}, {\"v\": 1291}]}, {\"c\": [{\"v\": \"Pre (<6 months since LMP AND no prior bilateral ovariectomy AND not on estrogen replacement)\"}, {\"v\": 390}]}, {\"c\": [{\"v\": \"Peri (6-12 months since last menstrual period)\"}, {\"v\": 82}]}, {\"c\": [{\"v\": \"Indeterminate (neither Pre or Postmenopausal)\"}, {\"v\": 54}]}], \"cols\": [{\"type\": \"string\", \"id\": \"menopause_status\", \"label\": \"menopause_status\"}, {\"type\": \"number\", \"id\": \"n\", \"label\": \"n\"}]});\n",
       "        }\n",
       "      );\n",
       "    </script>\n",
       "  "
      ],
      "text/plain": [
       "QueryResultsTable job_sHjYaTQ04gf5Rkwgx6vP-yCU4VY"
      ]
     },
     "execution_count": 8,
     "metadata": {},
     "output_type": "execute_result"
    },
    {
     "data": {
      "text/html": [
       "\n",
       "    <div class=\"bqtv\" id=\"3_144704534368\"></div>\n",
       "    <br />(rows: 4, time: 1.5s,   150KB processed, job: job_sHjYaTQ04gf5Rkwgx6vP-yCU4VY)<br />\n",
       "    <script>\n",
       "      require(['extensions/charting', 'element!3_144704534368', 'style!/static/extensions/charting.css'],\n",
       "        function(charts, dom) {\n",
       "          charts.render(dom,\n",
       "            {\n",
       "              chartStyle:\"table\",\n",
       "              dataName:\"1\",\n",
       "              fields:\"menopause_status,n\",\n",
       "              totalRows:4,\n",
       "              rowsPerPage:25,\n",
       "            }, {}, {\"rows\": [{\"c\": [{\"v\": \"Post (prior bilateral ovariectomy OR >12 mo since LMP with no prior hysterectomy)\"}, {\"v\": 1291}]}, {\"c\": [{\"v\": \"Pre (<6 months since LMP AND no prior bilateral ovariectomy AND not on estrogen replacement)\"}, {\"v\": 390}]}, {\"c\": [{\"v\": \"Peri (6-12 months since last menstrual period)\"}, {\"v\": 82}]}, {\"c\": [{\"v\": \"Indeterminate (neither Pre or Postmenopausal)\"}, {\"v\": 54}]}], \"cols\": [{\"type\": \"string\", \"id\": \"menopause_status\", \"label\": \"menopause_status\"}, {\"type\": \"number\", \"id\": \"n\", \"label\": \"n\"}]});\n",
       "        }\n",
       "      );\n",
       "    </script>\n",
       "  "
      ],
      "text/plain": [
       "QueryResultsTable job_sHjYaTQ04gf5Rkwgx6vP-yCU4VY"
      ]
     },
     "execution_count": 8,
     "metadata": {},
     "output_type": "execute_result"
    }
   ],
   "source": [
    "%%sql\n",
    "SELECT menopause_status, COUNT(*) AS n\n",
    "FROM [isb-cgc:tcga_201510_alpha.Clinical_data]\n",
    "WHERE menopause_status IS NOT NULL\n",
    "GROUP BY menopause_status\n",
    "ORDER BY n DESC"
   ]
  },
  {
   "cell_type": "markdown",
   "metadata": {},
   "source": [
    "We might wonder which specific tumor types have menopause information:"
   ]
  },
  {
   "cell_type": "code",
   "execution_count": 9,
   "metadata": {
    "collapsed": false
   },
   "outputs": [
    {
     "data": {
      "text/html": [
       "\n",
       "    <div class=\"bqtv\" id=\"4_144704534466\"></div>\n",
       "    <br />(rows: 4, time: 0.7s,   214KB processed, job: job_u_hzgeeZa5vmgW3DAIVnjdoDi-k)<br />\n",
       "    <script>\n",
       "      require(['extensions/charting', 'element!4_144704534466', 'style!/static/extensions/charting.css'],\n",
       "        function(charts, dom) {\n",
       "          charts.render(dom,\n",
       "            {\n",
       "              chartStyle:\"table\",\n",
       "              dataName:\"2\",\n",
       "              fields:\"Study,n\",\n",
       "              totalRows:4,\n",
       "              rowsPerPage:25,\n",
       "            }, {}, {\"rows\": [{\"c\": [{\"v\": \"BRCA\"}, {\"v\": 1007}]}, {\"c\": [{\"v\": \"UCEC\"}, {\"v\": 517}]}, {\"c\": [{\"v\": \"CESC\"}, {\"v\": 238}]}, {\"c\": [{\"v\": \"UCS\"}, {\"v\": 55}]}], \"cols\": [{\"type\": \"string\", \"id\": \"Study\", \"label\": \"Study\"}, {\"type\": \"number\", \"id\": \"n\", \"label\": \"n\"}]});\n",
       "        }\n",
       "      );\n",
       "    </script>\n",
       "  "
      ],
      "text/plain": [
       "QueryResultsTable job_u_hzgeeZa5vmgW3DAIVnjdoDi-k"
      ]
     },
     "execution_count": 9,
     "metadata": {},
     "output_type": "execute_result"
    },
    {
     "data": {
      "text/html": [
       "\n",
       "    <div class=\"bqtv\" id=\"4_144704534466\"></div>\n",
       "    <br />(rows: 4, time: 0.7s,   214KB processed, job: job_u_hzgeeZa5vmgW3DAIVnjdoDi-k)<br />\n",
       "    <script>\n",
       "      require(['extensions/charting', 'element!4_144704534466', 'style!/static/extensions/charting.css'],\n",
       "        function(charts, dom) {\n",
       "          charts.render(dom,\n",
       "            {\n",
       "              chartStyle:\"table\",\n",
       "              dataName:\"2\",\n",
       "              fields:\"Study,n\",\n",
       "              totalRows:4,\n",
       "              rowsPerPage:25,\n",
       "            }, {}, {\"rows\": [{\"c\": [{\"v\": \"BRCA\"}, {\"v\": 1007}]}, {\"c\": [{\"v\": \"UCEC\"}, {\"v\": 517}]}, {\"c\": [{\"v\": \"CESC\"}, {\"v\": 238}]}, {\"c\": [{\"v\": \"UCS\"}, {\"v\": 55}]}], \"cols\": [{\"type\": \"string\", \"id\": \"Study\", \"label\": \"Study\"}, {\"type\": \"number\", \"id\": \"n\", \"label\": \"n\"}]});\n",
       "        }\n",
       "      );\n",
       "    </script>\n",
       "  "
      ],
      "text/plain": [
       "QueryResultsTable job_u_hzgeeZa5vmgW3DAIVnjdoDi-k"
      ]
     },
     "execution_count": 9,
     "metadata": {},
     "output_type": "execute_result"
    }
   ],
   "source": [
    "%%sql\n",
    "SELECT Study, COUNT(*) AS n\n",
    "FROM [isb-cgc:tcga_201510_alpha.Clinical_data]\n",
    "WHERE menopause_status IS NOT NULL\n",
    "GROUP BY Study\n",
    "ORDER BY n DESC"
   ]
  },
  {
   "cell_type": "code",
   "execution_count": 10,
   "metadata": {
    "collapsed": false
   },
   "outputs": [
    {
     "data": {
      "text/html": [
       "\n",
       "    <div class=\"bqtv\" id=\"5_144704534699\"></div>\n",
       "    <br />(rows: 5, time: 2.1s,    11KB processed, job: job_vm3Sg4MmepW0qEEaEhtWEGx9xhg)<br />\n",
       "    <script>\n",
       "      require(['extensions/charting', 'element!5_144704534699', 'style!/static/extensions/charting.css'],\n",
       "        function(charts, dom) {\n",
       "          charts.render(dom,\n",
       "            {\n",
       "              chartStyle:\"table\",\n",
       "              dataName:\"3\",\n",
       "              fields:\"hpv_status,hpv_calls,n\",\n",
       "              totalRows:5,\n",
       "              rowsPerPage:25,\n",
       "            }, {}, {\"rows\": [{\"c\": [{\"v\": \"Negative\"}, {\"v\": null}, {\"v\": 449}]}, {\"c\": [{\"v\": \"Positive\"}, {\"v\": \"HPV16\"}, {\"v\": 238}]}, {\"c\": [{\"v\": \"Positive\"}, {\"v\": \"HPV18\"}, {\"v\": 41}]}, {\"c\": [{\"v\": \"Positive\"}, {\"v\": \"HPV33\"}, {\"v\": 25}]}, {\"c\": [{\"v\": \"Positive\"}, {\"v\": \"HPV45\"}, {\"v\": 24}]}], \"cols\": [{\"type\": \"string\", \"id\": \"hpv_status\", \"label\": \"hpv_status\"}, {\"type\": \"string\", \"id\": \"hpv_calls\", \"label\": \"hpv_calls\"}, {\"type\": \"number\", \"id\": \"n\", \"label\": \"n\"}]});\n",
       "        }\n",
       "      );\n",
       "    </script>\n",
       "  "
      ],
      "text/plain": [
       "QueryResultsTable job_vm3Sg4MmepW0qEEaEhtWEGx9xhg"
      ]
     },
     "execution_count": 10,
     "metadata": {},
     "output_type": "execute_result"
    },
    {
     "data": {
      "text/html": [
       "\n",
       "    <div class=\"bqtv\" id=\"5_144704534699\"></div>\n",
       "    <br />(rows: 5, time: 2.1s,    11KB processed, job: job_vm3Sg4MmepW0qEEaEhtWEGx9xhg)<br />\n",
       "    <script>\n",
       "      require(['extensions/charting', 'element!5_144704534699', 'style!/static/extensions/charting.css'],\n",
       "        function(charts, dom) {\n",
       "          charts.render(dom,\n",
       "            {\n",
       "              chartStyle:\"table\",\n",
       "              dataName:\"3\",\n",
       "              fields:\"hpv_status,hpv_calls,n\",\n",
       "              totalRows:5,\n",
       "              rowsPerPage:25,\n",
       "            }, {}, {\"rows\": [{\"c\": [{\"v\": \"Negative\"}, {\"v\": null}, {\"v\": 449}]}, {\"c\": [{\"v\": \"Positive\"}, {\"v\": \"HPV16\"}, {\"v\": 238}]}, {\"c\": [{\"v\": \"Positive\"}, {\"v\": \"HPV18\"}, {\"v\": 41}]}, {\"c\": [{\"v\": \"Positive\"}, {\"v\": \"HPV33\"}, {\"v\": 25}]}, {\"c\": [{\"v\": \"Positive\"}, {\"v\": \"HPV45\"}, {\"v\": 24}]}], \"cols\": [{\"type\": \"string\", \"id\": \"hpv_status\", \"label\": \"hpv_status\"}, {\"type\": \"string\", \"id\": \"hpv_calls\", \"label\": \"hpv_calls\"}, {\"type\": \"number\", \"id\": \"n\", \"label\": \"n\"}]});\n",
       "        }\n",
       "      );\n",
       "    </script>\n",
       "  "
      ],
      "text/plain": [
       "QueryResultsTable job_vm3Sg4MmepW0qEEaEhtWEGx9xhg"
      ]
     },
     "execution_count": 10,
     "metadata": {},
     "output_type": "execute_result"
    }
   ],
   "source": [
    "%%sql\n",
    "SELECT hpv_status, hpv_calls, COUNT(*) AS n\n",
    "FROM [isb-cgc:tcga_201510_alpha.Clinical_data]\n",
    "WHERE hpv_status IS NOT NULL\n",
    "GROUP BY hpv_status, hpv_calls\n",
    "HAVING n > 20\n",
    "ORDER BY n DESC"
   ]
  },
  {
   "cell_type": "markdown",
   "metadata": {},
   "source": [
    "### TCGA Annotations\n",
    "\n",
    "An additional factor to consider, when creating a cohort is that there may be additional information that might lead one to exclude a particular patient from a cohort.  In certain instances, patients have been redacted or excluded from analyses for reasons such as prior treatment, etc, but since different researchers may have different criteria for using or excluding certain patients or certain samples from their analyses, in many cases the data is still available while at the same time \"annotations\" may have been entered into a searchable [database](https://tcga-data.nci.nih.gov/annotations/).  These annotations have also been uploaded into a BigQuery table and can be used in conjuction with the other BigQuery tables."
   ]
  },
  {
   "cell_type": "markdown",
   "metadata": {},
   "source": [
    "### Early-onset Breast Cancer\n",
    "\n",
    "Now that we have a better idea of what types of information is available in the Clinical data table, let's create a cohort consisting of female breast-cancer patients, diagnosed at the age of 50 or younger."
   ]
  },
  {
   "cell_type": "markdown",
   "metadata": {},
   "source": [
    "In this next code cell, we define several queries within a **`module`** which allows us to use them both individually and by reference in the final, main query.  The first query, called **`select_on_annotations`**, finds all patients in the Annotations table which have either been 'redacted' or had 'unacceptable prior treatment'.  The second query, **`select_on_clinical`** selects all female breast-cancer patients who were diagnosed at age 50 or younger.  And the final query joins these two together and returns just those patients that meet the clinical-criteria and do not meet the exclusion-criteria."
   ]
  },
  {
   "cell_type": "code",
   "execution_count": 11,
   "metadata": {
    "collapsed": false
   },
   "outputs": [],
   "source": [
    "%%sql --module createCohort_and_checkAnnotations\n",
    "\n",
    "# in this first query, we are looking for two specific types of disqualifying annotations:\n",
    "# 'redactions' and 'unacceptable prior treatment':\n",
    "DEFINE QUERY select_on_annotations\n",
    "SELECT\n",
    "  ParticipantBarcode,\n",
    "  annotationCategoryName AS categoryName,\n",
    "  annotationClassification AS classificationName\n",
    "FROM\n",
    "  [isb-cgc:tcga_201510_alpha.Annotations]\n",
    "WHERE\n",
    "  ( itemTypeName=\"Patient\"\n",
    "    AND (annotationCategoryName=\"History of unacceptable prior treatment related to a prior/other malignancy\"\n",
    "      OR annotationClassification=\"Redaction\" ) )\n",
    "GROUP BY\n",
    "  ParticipantBarcode,\n",
    "  categoryName,\n",
    "  classificationName\n",
    "\n",
    "# in this second query, we are choosing specific types of patients based on a few clinical\n",
    "# fields, while also pulling out some of the other fields just to have a look at them\n",
    "DEFINE QUERY select_on_clinical\n",
    "SELECT\n",
    "  ParticipantBarcode,\n",
    "  vital_status,\n",
    "  days_to_last_known_alive,\n",
    "  ethnicity,\n",
    "  histological_type,\n",
    "  menopause_status,\n",
    "  race\n",
    "FROM\n",
    "  [tcga_201510_alpha.Clinical_data]\n",
    "WHERE\n",
    "  ( Study=\"BRCA\"\n",
    "    AND age_at_initial_pathologic_diagnosis<=50\n",
    "    AND gender=\"FEMALE\" )\n",
    "\n",
    "# and here is the main query for this module, which incorporate the two previously defined queries:\n",
    "# we're going to do an OUTER JOIN on the results of the two previous queries, and then from that\n",
    "# result keep only those participants where the annotation 'categoryName' and 'classificationName'\n",
    "# are NULL while the partient barcode from the clinical-select is *not* NULL\n",
    "SELECT\n",
    "  c.ParticipantBarcode AS ParticipantBarcode\n",
    "FROM (\n",
    "  SELECT\n",
    "    a.categoryName,\n",
    "    a.classificationName,\n",
    "    a.ParticipantBarcode,\n",
    "    c.ParticipantBarcode,\n",
    "  FROM ( $select_on_annotations ) AS a\n",
    "  OUTER JOIN EACH \n",
    "       ( $select_on_clinical ) AS c\n",
    "  ON\n",
    "    a.ParticipantBarcode = c.ParticipantBarcode\n",
    "  WHERE\n",
    "    (a.ParticipantBarcode IS NOT NULL\n",
    "      OR c.ParticipantBarcode IS NOT NULL)\n",
    "  ORDER BY\n",
    "    a.classificationName,\n",
    "    a.categoryName,\n",
    "    a.ParticipantBarcode,\n",
    "    c.ParticipantBarcode )\n",
    "WHERE\n",
    "  ( a.categoryName IS NULL\n",
    "    AND a.classificationName IS NULL\n",
    "    AND c.ParticipantBarcode IS NOT NULL )\n",
    "ORDER BY\n",
    "  c.ParticipantBarcode"
   ]
  },
  {
   "cell_type": "markdown",
   "metadata": {},
   "source": [
    "Here we explicitly call just the first query in the module:"
   ]
  },
  {
   "cell_type": "code",
   "execution_count": 12,
   "metadata": {
    "collapsed": false
   },
   "outputs": [
    {
     "data": {
      "text/html": [
       "\n",
       "    <div class=\"bqtv\" id=\"6_144704534832\"></div>\n",
       "    <br />(rows: 212, time: 1.1s,     1MB processed, job: job_4PdAQQ7k1CCYGx-YkeT0KSv6eMw)<br />\n",
       "    <script>\n",
       "      require(['extensions/charting', 'element!6_144704534832', 'style!/static/extensions/charting.css'],\n",
       "        function(charts, dom) {\n",
       "          charts.render(dom,\n",
       "            {\n",
       "              chartStyle:\"paged_table\",\n",
       "              dataName:\"4\",\n",
       "              fields:\"ParticipantBarcode,categoryName,classificationName\",\n",
       "              totalRows:212,\n",
       "              rowsPerPage:25,\n",
       "            }, {}, {\"rows\": [{\"c\": [{\"v\": \"TCGA-BH-A1F5\"}, {\"v\": \"History of unacceptable prior treatment related to a prior/other malignancy\"}, {\"v\": \"Notification\"}]}, {\"c\": [{\"v\": \"TCGA-AR-A2LR\"}, {\"v\": \"History of unacceptable prior treatment related to a prior/other malignancy\"}, {\"v\": \"Notification\"}]}, {\"c\": [{\"v\": \"TCGA-BG-A0MS\"}, {\"v\": \"History of unacceptable prior treatment related to a prior/other malignancy\"}, {\"v\": \"Notification\"}]}, {\"c\": [{\"v\": \"TCGA-BH-A0B6\"}, {\"v\": \"History of unacceptable prior treatment related to a prior/other malignancy\"}, {\"v\": \"Notification\"}]}, {\"c\": [{\"v\": \"TCGA-XK-AAK1\"}, {\"v\": \"History of unacceptable prior treatment related to a prior/other malignancy\"}, {\"v\": \"Notification\"}]}, {\"c\": [{\"v\": \"TCGA-BG-A0M8\"}, {\"v\": \"History of unacceptable prior treatment related to a prior/other malignancy\"}, {\"v\": \"Notification\"}]}, {\"c\": [{\"v\": \"TCGA-T1-A6J8\"}, {\"v\": \"History of unacceptable prior treatment related to a prior/other malignancy\"}, {\"v\": \"Notification\"}]}, {\"c\": [{\"v\": \"TCGA-HT-A619\"}, {\"v\": \"History of unacceptable prior treatment related to a prior/other malignancy\"}, {\"v\": \"Notification\"}]}, {\"c\": [{\"v\": \"TCGA-5L-AAT1\"}, {\"v\": \"History of unacceptable prior treatment related to a prior/other malignancy\"}, {\"v\": \"Notification\"}]}, {\"c\": [{\"v\": \"TCGA-06-6391\"}, {\"v\": \"History of unacceptable prior treatment related to a prior/other malignancy\"}, {\"v\": \"Notification\"}]}, {\"c\": [{\"v\": \"TCGA-BA-4075\"}, {\"v\": \"History of unacceptable prior treatment related to a prior/other malignancy\"}, {\"v\": \"Notification\"}]}, {\"c\": [{\"v\": \"TCGA-IC-A6RF\"}, {\"v\": \"History of unacceptable prior treatment related to a prior/other malignancy\"}, {\"v\": \"Notification\"}]}, {\"c\": [{\"v\": \"TCGA-2G-AAFE\"}, {\"v\": \"History of unacceptable prior treatment related to a prior/other malignancy\"}, {\"v\": \"Notification\"}]}, {\"c\": [{\"v\": \"TCGA-96-A4JK\"}, {\"v\": \"History of unacceptable prior treatment related to a prior/other malignancy\"}, {\"v\": \"Notification\"}]}, {\"c\": [{\"v\": \"TCGA-EJ-7312\"}, {\"v\": \"History of unacceptable prior treatment related to a prior/other malignancy\"}, {\"v\": \"Notification\"}]}, {\"c\": [{\"v\": \"TCGA-PN-A8M9\"}, {\"v\": \"Genotype mismatch\"}, {\"v\": \"Redaction\"}]}, {\"c\": [{\"v\": \"TCGA-AG-3612\"}, {\"v\": \"History of unacceptable prior treatment related to a prior/other malignancy\"}, {\"v\": \"Notification\"}]}, {\"c\": [{\"v\": \"TCGA-XK-AAJ3\"}, {\"v\": \"History of unacceptable prior treatment related to a prior/other malignancy\"}, {\"v\": \"Notification\"}]}, {\"c\": [{\"v\": \"TCGA-WB-A820\"}, {\"v\": \"History of unacceptable prior treatment related to a prior/other malignancy\"}, {\"v\": \"Notification\"}]}, {\"c\": [{\"v\": \"TCGA-L5-A88T\"}, {\"v\": \"History of unacceptable prior treatment related to a prior/other malignancy\"}, {\"v\": \"Notification\"}]}, {\"c\": [{\"v\": \"TCGA-EY-A1G8\"}, {\"v\": \"History of unacceptable prior treatment related to a prior/other malignancy\"}, {\"v\": \"Notification\"}]}, {\"c\": [{\"v\": \"TCGA-D1-A3JP\"}, {\"v\": \"History of unacceptable prior treatment related to a prior/other malignancy\"}, {\"v\": \"Notification\"}]}, {\"c\": [{\"v\": \"TCGA-BG-A221\"}, {\"v\": \"History of unacceptable prior treatment related to a prior/other malignancy\"}, {\"v\": \"Notification\"}]}, {\"c\": [{\"v\": \"TCGA-BG-A220\"}, {\"v\": \"History of unacceptable prior treatment related to a prior/other malignancy\"}, {\"v\": \"Notification\"}]}, {\"c\": [{\"v\": \"TCGA-B5-A0KB\"}, {\"v\": \"History of unacceptable prior treatment related to a prior/other malignancy\"}, {\"v\": \"Notification\"}]}], \"cols\": [{\"type\": \"string\", \"id\": \"ParticipantBarcode\", \"label\": \"ParticipantBarcode\"}, {\"type\": \"string\", \"id\": \"categoryName\", \"label\": \"categoryName\"}, {\"type\": \"string\", \"id\": \"classificationName\", \"label\": \"classificationName\"}]});\n",
       "        }\n",
       "      );\n",
       "    </script>\n",
       "  "
      ],
      "text/plain": [
       "QueryResultsTable job_4PdAQQ7k1CCYGx-YkeT0KSv6eMw"
      ]
     },
     "execution_count": 12,
     "metadata": {},
     "output_type": "execute_result"
    },
    {
     "data": {
      "text/html": [
       "\n",
       "    <div class=\"bqtv\" id=\"6_144704534832\"></div>\n",
       "    <br />(rows: 212, time: 1.1s,     1MB processed, job: job_4PdAQQ7k1CCYGx-YkeT0KSv6eMw)<br />\n",
       "    <script>\n",
       "      require(['extensions/charting', 'element!6_144704534832', 'style!/static/extensions/charting.css'],\n",
       "        function(charts, dom) {\n",
       "          charts.render(dom,\n",
       "            {\n",
       "              chartStyle:\"paged_table\",\n",
       "              dataName:\"4\",\n",
       "              fields:\"ParticipantBarcode,categoryName,classificationName\",\n",
       "              totalRows:212,\n",
       "              rowsPerPage:25,\n",
       "            }, {}, {\"rows\": [{\"c\": [{\"v\": \"TCGA-BH-A1F5\"}, {\"v\": \"History of unacceptable prior treatment related to a prior/other malignancy\"}, {\"v\": \"Notification\"}]}, {\"c\": [{\"v\": \"TCGA-AR-A2LR\"}, {\"v\": \"History of unacceptable prior treatment related to a prior/other malignancy\"}, {\"v\": \"Notification\"}]}, {\"c\": [{\"v\": \"TCGA-BG-A0MS\"}, {\"v\": \"History of unacceptable prior treatment related to a prior/other malignancy\"}, {\"v\": \"Notification\"}]}, {\"c\": [{\"v\": \"TCGA-BH-A0B6\"}, {\"v\": \"History of unacceptable prior treatment related to a prior/other malignancy\"}, {\"v\": \"Notification\"}]}, {\"c\": [{\"v\": \"TCGA-XK-AAK1\"}, {\"v\": \"History of unacceptable prior treatment related to a prior/other malignancy\"}, {\"v\": \"Notification\"}]}, {\"c\": [{\"v\": \"TCGA-BG-A0M8\"}, {\"v\": \"History of unacceptable prior treatment related to a prior/other malignancy\"}, {\"v\": \"Notification\"}]}, {\"c\": [{\"v\": \"TCGA-T1-A6J8\"}, {\"v\": \"History of unacceptable prior treatment related to a prior/other malignancy\"}, {\"v\": \"Notification\"}]}, {\"c\": [{\"v\": \"TCGA-HT-A619\"}, {\"v\": \"History of unacceptable prior treatment related to a prior/other malignancy\"}, {\"v\": \"Notification\"}]}, {\"c\": [{\"v\": \"TCGA-5L-AAT1\"}, {\"v\": \"History of unacceptable prior treatment related to a prior/other malignancy\"}, {\"v\": \"Notification\"}]}, {\"c\": [{\"v\": \"TCGA-06-6391\"}, {\"v\": \"History of unacceptable prior treatment related to a prior/other malignancy\"}, {\"v\": \"Notification\"}]}, {\"c\": [{\"v\": \"TCGA-BA-4075\"}, {\"v\": \"History of unacceptable prior treatment related to a prior/other malignancy\"}, {\"v\": \"Notification\"}]}, {\"c\": [{\"v\": \"TCGA-IC-A6RF\"}, {\"v\": \"History of unacceptable prior treatment related to a prior/other malignancy\"}, {\"v\": \"Notification\"}]}, {\"c\": [{\"v\": \"TCGA-2G-AAFE\"}, {\"v\": \"History of unacceptable prior treatment related to a prior/other malignancy\"}, {\"v\": \"Notification\"}]}, {\"c\": [{\"v\": \"TCGA-96-A4JK\"}, {\"v\": \"History of unacceptable prior treatment related to a prior/other malignancy\"}, {\"v\": \"Notification\"}]}, {\"c\": [{\"v\": \"TCGA-EJ-7312\"}, {\"v\": \"History of unacceptable prior treatment related to a prior/other malignancy\"}, {\"v\": \"Notification\"}]}, {\"c\": [{\"v\": \"TCGA-PN-A8M9\"}, {\"v\": \"Genotype mismatch\"}, {\"v\": \"Redaction\"}]}, {\"c\": [{\"v\": \"TCGA-AG-3612\"}, {\"v\": \"History of unacceptable prior treatment related to a prior/other malignancy\"}, {\"v\": \"Notification\"}]}, {\"c\": [{\"v\": \"TCGA-XK-AAJ3\"}, {\"v\": \"History of unacceptable prior treatment related to a prior/other malignancy\"}, {\"v\": \"Notification\"}]}, {\"c\": [{\"v\": \"TCGA-WB-A820\"}, {\"v\": \"History of unacceptable prior treatment related to a prior/other malignancy\"}, {\"v\": \"Notification\"}]}, {\"c\": [{\"v\": \"TCGA-L5-A88T\"}, {\"v\": \"History of unacceptable prior treatment related to a prior/other malignancy\"}, {\"v\": \"Notification\"}]}, {\"c\": [{\"v\": \"TCGA-EY-A1G8\"}, {\"v\": \"History of unacceptable prior treatment related to a prior/other malignancy\"}, {\"v\": \"Notification\"}]}, {\"c\": [{\"v\": \"TCGA-D1-A3JP\"}, {\"v\": \"History of unacceptable prior treatment related to a prior/other malignancy\"}, {\"v\": \"Notification\"}]}, {\"c\": [{\"v\": \"TCGA-BG-A221\"}, {\"v\": \"History of unacceptable prior treatment related to a prior/other malignancy\"}, {\"v\": \"Notification\"}]}, {\"c\": [{\"v\": \"TCGA-BG-A220\"}, {\"v\": \"History of unacceptable prior treatment related to a prior/other malignancy\"}, {\"v\": \"Notification\"}]}, {\"c\": [{\"v\": \"TCGA-B5-A0KB\"}, {\"v\": \"History of unacceptable prior treatment related to a prior/other malignancy\"}, {\"v\": \"Notification\"}]}], \"cols\": [{\"type\": \"string\", \"id\": \"ParticipantBarcode\", \"label\": \"ParticipantBarcode\"}, {\"type\": \"string\", \"id\": \"categoryName\", \"label\": \"categoryName\"}, {\"type\": \"string\", \"id\": \"classificationName\", \"label\": \"classificationName\"}]});\n",
       "        }\n",
       "      );\n",
       "    </script>\n",
       "  "
      ],
      "text/plain": [
       "QueryResultsTable job_4PdAQQ7k1CCYGx-YkeT0KSv6eMw"
      ]
     },
     "execution_count": 12,
     "metadata": {},
     "output_type": "execute_result"
    }
   ],
   "source": [
    "bq.Query(createCohort_and_checkAnnotations.select_on_annotations).results()"
   ]
  },
  {
   "cell_type": "markdown",
   "metadata": {},
   "source": [
    "and here we explicitly call just the second query:"
   ]
  },
  {
   "cell_type": "code",
   "execution_count": 13,
   "metadata": {
    "collapsed": false
   },
   "outputs": [
    {
     "data": {
      "text/html": [
       "\n",
       "    <div class=\"bqtv\" id=\"7_144704534930\"></div>\n",
       "    <br />(rows: 329, time: 0.7s,     1MB processed, job: job_Nt6BENYUh1I8jz0L0HO5syhRIaw)<br />\n",
       "    <script>\n",
       "      require(['extensions/charting', 'element!7_144704534930', 'style!/static/extensions/charting.css'],\n",
       "        function(charts, dom) {\n",
       "          charts.render(dom,\n",
       "            {\n",
       "              chartStyle:\"paged_table\",\n",
       "              dataName:\"5\",\n",
       "              fields:\"ParticipantBarcode,vital_status,days_to_last_known_alive,ethnicity,histological_type,menopause_status,race\",\n",
       "              totalRows:329,\n",
       "              rowsPerPage:25,\n",
       "            }, {}, {\"rows\": [{\"c\": [{\"v\": \"TCGA-BH-A0DK\"}, {\"v\": \"Alive\"}, {\"v\": 423}, {\"v\": null}, {\"v\": \"Infiltrating Ductal Carcinoma\"}, {\"v\": \"Pre (<6 months since LMP AND no prior bilateral ovariectomy AND not on estrogen replacement)\"}, {\"v\": \"WHITE\"}]}, {\"c\": [{\"v\": \"TCGA-BH-A0DZ\"}, {\"v\": \"Alive\"}, {\"v\": 495}, {\"v\": null}, {\"v\": \"Infiltrating Ductal Carcinoma\"}, {\"v\": \"Pre (<6 months since LMP AND no prior bilateral ovariectomy AND not on estrogen replacement)\"}, {\"v\": \"WHITE\"}]}, {\"c\": [{\"v\": \"TCGA-A7-A5ZW\"}, {\"v\": \"Alive\"}, {\"v\": 326}, {\"v\": \"NOT HISPANIC OR LATINO\"}, {\"v\": \"Infiltrating Ductal Carcinoma\"}, {\"v\": \"Peri (6-12 months since last menstrual period)\"}, {\"v\": \"BLACK OR AFRICAN AMERICAN\"}]}, {\"c\": [{\"v\": \"TCGA-A7-A5ZX\"}, {\"v\": \"Alive\"}, {\"v\": 336}, {\"v\": \"NOT HISPANIC OR LATINO\"}, {\"v\": \"Infiltrating Lobular Carcinoma\"}, {\"v\": \"Pre (<6 months since LMP AND no prior bilateral ovariectomy AND not on estrogen replacement)\"}, {\"v\": \"WHITE\"}]}, {\"c\": [{\"v\": \"TCGA-A2-A1G0\"}, {\"v\": \"Alive\"}, {\"v\": 616}, {\"v\": \"NOT HISPANIC OR LATINO\"}, {\"v\": \"Other  specify\"}, {\"v\": \"Pre (<6 months since LMP AND no prior bilateral ovariectomy AND not on estrogen replacement)\"}, {\"v\": \"WHITE\"}]}, {\"c\": [{\"v\": \"TCGA-B6-A3ZX\"}, {\"v\": \"Dead\"}, {\"v\": 1152}, {\"v\": \"NOT HISPANIC OR LATINO\"}, {\"v\": \"Mixed Histology (please specify)\"}, {\"v\": null}, {\"v\": \"BLACK OR AFRICAN AMERICAN\"}]}, {\"c\": [{\"v\": \"TCGA-A2-A1G6\"}, {\"v\": \"Alive\"}, {\"v\": 501}, {\"v\": \"NOT HISPANIC OR LATINO\"}, {\"v\": \"Infiltrating Ductal Carcinoma\"}, {\"v\": \"Pre (<6 months since LMP AND no prior bilateral ovariectomy AND not on estrogen replacement)\"}, {\"v\": \"WHITE\"}]}, {\"c\": [{\"v\": \"TCGA-AR-A2LJ\"}, {\"v\": \"Alive\"}, {\"v\": 2632}, {\"v\": \"NOT HISPANIC OR LATINO\"}, {\"v\": \"Infiltrating Lobular Carcinoma\"}, {\"v\": \"Pre (<6 months since LMP AND no prior bilateral ovariectomy AND not on estrogen replacement)\"}, {\"v\": \"WHITE\"}]}, {\"c\": [{\"v\": \"TCGA-B6-A0X1\"}, {\"v\": \"Dead\"}, {\"v\": 7455}, {\"v\": \"NOT HISPANIC OR LATINO\"}, {\"v\": \"Infiltrating Ductal Carcinoma\"}, {\"v\": \"Indeterminate (neither Pre or Postmenopausal)\"}, {\"v\": \"WHITE\"}]}, {\"c\": [{\"v\": \"TCGA-AR-A2LO\"}, {\"v\": \"Alive\"}, {\"v\": 1198}, {\"v\": \"NOT HISPANIC OR LATINO\"}, {\"v\": \"Infiltrating Lobular Carcinoma\"}, {\"v\": \"Pre (<6 months since LMP AND no prior bilateral ovariectomy AND not on estrogen replacement)\"}, {\"v\": \"WHITE\"}]}, {\"c\": [{\"v\": \"TCGA-AR-A2LM\"}, {\"v\": \"Alive\"}, {\"v\": 1935}, {\"v\": \"NOT HISPANIC OR LATINO\"}, {\"v\": \"Infiltrating Lobular Carcinoma\"}, {\"v\": \"Pre (<6 months since LMP AND no prior bilateral ovariectomy AND not on estrogen replacement)\"}, {\"v\": \"WHITE\"}]}, {\"c\": [{\"v\": \"TCGA-A2-A04X\"}, {\"v\": \"Alive\"}, {\"v\": 1686}, {\"v\": null}, {\"v\": \"Infiltrating Ductal Carcinoma\"}, {\"v\": \"Pre (<6 months since LMP AND no prior bilateral ovariectomy AND not on estrogen replacement)\"}, {\"v\": \"WHITE\"}]}, {\"c\": [{\"v\": \"TCGA-E9-A6HE\"}, {\"v\": \"Alive\"}, {\"v\": 847}, {\"v\": \"NOT HISPANIC OR LATINO\"}, {\"v\": \"Infiltrating Lobular Carcinoma\"}, {\"v\": \"Pre (<6 months since LMP AND no prior bilateral ovariectomy AND not on estrogen replacement)\"}, {\"v\": \"WHITE\"}]}, {\"c\": [{\"v\": \"TCGA-PE-A5DE\"}, {\"v\": \"Alive\"}, {\"v\": 2645}, {\"v\": null}, {\"v\": \"Infiltrating Lobular Carcinoma\"}, {\"v\": \"Pre (<6 months since LMP AND no prior bilateral ovariectomy AND not on estrogen replacement)\"}, {\"v\": \"WHITE\"}]}, {\"c\": [{\"v\": \"TCGA-A2-A04Q\"}, {\"v\": \"Alive\"}, {\"v\": 2385}, {\"v\": null}, {\"v\": \"Infiltrating Ductal Carcinoma\"}, {\"v\": \"Post (prior bilateral ovariectomy OR >12 mo since LMP with no prior hysterectomy)\"}, {\"v\": \"WHITE\"}]}, {\"c\": [{\"v\": \"TCGA-EW-A1IX\"}, {\"v\": \"Alive\"}, {\"v\": 1208}, {\"v\": \"HISPANIC OR LATINO\"}, {\"v\": \"Other  specify\"}, {\"v\": \"Peri (6-12 months since last menstrual period)\"}, {\"v\": \"ASIAN\"}]}, {\"c\": [{\"v\": \"TCGA-EW-A1IY\"}, {\"v\": \"Alive\"}, {\"v\": 258}, {\"v\": \"NOT HISPANIC OR LATINO\"}, {\"v\": \"Infiltrating Ductal Carcinoma\"}, {\"v\": \"Pre (<6 months since LMP AND no prior bilateral ovariectomy AND not on estrogen replacement)\"}, {\"v\": \"ASIAN\"}]}, {\"c\": [{\"v\": \"TCGA-A2-A04P\"}, {\"v\": \"Dead\"}, {\"v\": 548}, {\"v\": null}, {\"v\": \"Infiltrating Ductal Carcinoma\"}, {\"v\": \"Pre (<6 months since LMP AND no prior bilateral ovariectomy AND not on estrogen replacement)\"}, {\"v\": \"BLACK OR AFRICAN AMERICAN\"}]}, {\"c\": [{\"v\": \"TCGA-A2-A04U\"}, {\"v\": \"Alive\"}, {\"v\": 2654}, {\"v\": \"NOT HISPANIC OR LATINO\"}, {\"v\": \"Infiltrating Ductal Carcinoma\"}, {\"v\": \"Peri (6-12 months since last menstrual period)\"}, {\"v\": \"WHITE\"}]}, {\"c\": [{\"v\": \"TCGA-A2-A04W\"}, {\"v\": \"Alive\"}, {\"v\": 3102}, {\"v\": \"NOT HISPANIC OR LATINO\"}, {\"v\": \"Other  specify\"}, {\"v\": \"Pre (<6 months since LMP AND no prior bilateral ovariectomy AND not on estrogen replacement)\"}, {\"v\": \"WHITE\"}]}, {\"c\": [{\"v\": \"TCGA-E2-A10A\"}, {\"v\": \"Alive\"}, {\"v\": 1229}, {\"v\": \"NOT HISPANIC OR LATINO\"}, {\"v\": \"Infiltrating Ductal Carcinoma\"}, {\"v\": \"Pre (<6 months since LMP AND no prior bilateral ovariectomy AND not on estrogen replacement)\"}, {\"v\": \"WHITE\"}]}, {\"c\": [{\"v\": \"TCGA-E2-A10F\"}, {\"v\": \"Alive\"}, {\"v\": 878}, {\"v\": \"NOT HISPANIC OR LATINO\"}, {\"v\": \"Infiltrating Lobular Carcinoma\"}, {\"v\": \"Pre (<6 months since LMP AND no prior bilateral ovariectomy AND not on estrogen replacement)\"}, {\"v\": \"WHITE\"}]}, {\"c\": [{\"v\": \"TCGA-BH-A0DG\"}, {\"v\": \"Alive\"}, {\"v\": 2041}, {\"v\": \"NOT HISPANIC OR LATINO\"}, {\"v\": \"Infiltrating Ductal Carcinoma\"}, {\"v\": \"Pre (<6 months since LMP AND no prior bilateral ovariectomy AND not on estrogen replacement)\"}, {\"v\": \"BLACK OR AFRICAN AMERICAN\"}]}, {\"c\": [{\"v\": \"TCGA-A2-A0EX\"}, {\"v\": \"Alive\"}, {\"v\": 752}, {\"v\": \"NOT HISPANIC OR LATINO\"}, {\"v\": \"Infiltrating Lobular Carcinoma\"}, {\"v\": \"Post (prior bilateral ovariectomy OR >12 mo since LMP with no prior hysterectomy)\"}, {\"v\": \"WHITE\"}]}, {\"c\": [{\"v\": \"TCGA-AR-A24R\"}, {\"v\": \"Alive\"}, {\"v\": 3430}, {\"v\": \"NOT HISPANIC OR LATINO\"}, {\"v\": \"Infiltrating Ductal Carcinoma\"}, {\"v\": \"Pre (<6 months since LMP AND no prior bilateral ovariectomy AND not on estrogen replacement)\"}, {\"v\": \"WHITE\"}]}], \"cols\": [{\"type\": \"string\", \"id\": \"ParticipantBarcode\", \"label\": \"ParticipantBarcode\"}, {\"type\": \"string\", \"id\": \"vital_status\", \"label\": \"vital_status\"}, {\"type\": \"number\", \"id\": \"days_to_last_known_alive\", \"label\": \"days_to_last_known_alive\"}, {\"type\": \"string\", \"id\": \"ethnicity\", \"label\": \"ethnicity\"}, {\"type\": \"string\", \"id\": \"histological_type\", \"label\": \"histological_type\"}, {\"type\": \"string\", \"id\": \"menopause_status\", \"label\": \"menopause_status\"}, {\"type\": \"string\", \"id\": \"race\", \"label\": \"race\"}]});\n",
       "        }\n",
       "      );\n",
       "    </script>\n",
       "  "
      ],
      "text/plain": [
       "QueryResultsTable job_Nt6BENYUh1I8jz0L0HO5syhRIaw"
      ]
     },
     "execution_count": 13,
     "metadata": {},
     "output_type": "execute_result"
    },
    {
     "data": {
      "text/html": [
       "\n",
       "    <div class=\"bqtv\" id=\"7_144704534930\"></div>\n",
       "    <br />(rows: 329, time: 0.7s,     1MB processed, job: job_Nt6BENYUh1I8jz0L0HO5syhRIaw)<br />\n",
       "    <script>\n",
       "      require(['extensions/charting', 'element!7_144704534930', 'style!/static/extensions/charting.css'],\n",
       "        function(charts, dom) {\n",
       "          charts.render(dom,\n",
       "            {\n",
       "              chartStyle:\"paged_table\",\n",
       "              dataName:\"5\",\n",
       "              fields:\"ParticipantBarcode,vital_status,days_to_last_known_alive,ethnicity,histological_type,menopause_status,race\",\n",
       "              totalRows:329,\n",
       "              rowsPerPage:25,\n",
       "            }, {}, {\"rows\": [{\"c\": [{\"v\": \"TCGA-BH-A0DK\"}, {\"v\": \"Alive\"}, {\"v\": 423}, {\"v\": null}, {\"v\": \"Infiltrating Ductal Carcinoma\"}, {\"v\": \"Pre (<6 months since LMP AND no prior bilateral ovariectomy AND not on estrogen replacement)\"}, {\"v\": \"WHITE\"}]}, {\"c\": [{\"v\": \"TCGA-BH-A0DZ\"}, {\"v\": \"Alive\"}, {\"v\": 495}, {\"v\": null}, {\"v\": \"Infiltrating Ductal Carcinoma\"}, {\"v\": \"Pre (<6 months since LMP AND no prior bilateral ovariectomy AND not on estrogen replacement)\"}, {\"v\": \"WHITE\"}]}, {\"c\": [{\"v\": \"TCGA-A7-A5ZW\"}, {\"v\": \"Alive\"}, {\"v\": 326}, {\"v\": \"NOT HISPANIC OR LATINO\"}, {\"v\": \"Infiltrating Ductal Carcinoma\"}, {\"v\": \"Peri (6-12 months since last menstrual period)\"}, {\"v\": \"BLACK OR AFRICAN AMERICAN\"}]}, {\"c\": [{\"v\": \"TCGA-A7-A5ZX\"}, {\"v\": \"Alive\"}, {\"v\": 336}, {\"v\": \"NOT HISPANIC OR LATINO\"}, {\"v\": \"Infiltrating Lobular Carcinoma\"}, {\"v\": \"Pre (<6 months since LMP AND no prior bilateral ovariectomy AND not on estrogen replacement)\"}, {\"v\": \"WHITE\"}]}, {\"c\": [{\"v\": \"TCGA-A2-A1G0\"}, {\"v\": \"Alive\"}, {\"v\": 616}, {\"v\": \"NOT HISPANIC OR LATINO\"}, {\"v\": \"Other  specify\"}, {\"v\": \"Pre (<6 months since LMP AND no prior bilateral ovariectomy AND not on estrogen replacement)\"}, {\"v\": \"WHITE\"}]}, {\"c\": [{\"v\": \"TCGA-B6-A3ZX\"}, {\"v\": \"Dead\"}, {\"v\": 1152}, {\"v\": \"NOT HISPANIC OR LATINO\"}, {\"v\": \"Mixed Histology (please specify)\"}, {\"v\": null}, {\"v\": \"BLACK OR AFRICAN AMERICAN\"}]}, {\"c\": [{\"v\": \"TCGA-A2-A1G6\"}, {\"v\": \"Alive\"}, {\"v\": 501}, {\"v\": \"NOT HISPANIC OR LATINO\"}, {\"v\": \"Infiltrating Ductal Carcinoma\"}, {\"v\": \"Pre (<6 months since LMP AND no prior bilateral ovariectomy AND not on estrogen replacement)\"}, {\"v\": \"WHITE\"}]}, {\"c\": [{\"v\": \"TCGA-AR-A2LJ\"}, {\"v\": \"Alive\"}, {\"v\": 2632}, {\"v\": \"NOT HISPANIC OR LATINO\"}, {\"v\": \"Infiltrating Lobular Carcinoma\"}, {\"v\": \"Pre (<6 months since LMP AND no prior bilateral ovariectomy AND not on estrogen replacement)\"}, {\"v\": \"WHITE\"}]}, {\"c\": [{\"v\": \"TCGA-B6-A0X1\"}, {\"v\": \"Dead\"}, {\"v\": 7455}, {\"v\": \"NOT HISPANIC OR LATINO\"}, {\"v\": \"Infiltrating Ductal Carcinoma\"}, {\"v\": \"Indeterminate (neither Pre or Postmenopausal)\"}, {\"v\": \"WHITE\"}]}, {\"c\": [{\"v\": \"TCGA-AR-A2LO\"}, {\"v\": \"Alive\"}, {\"v\": 1198}, {\"v\": \"NOT HISPANIC OR LATINO\"}, {\"v\": \"Infiltrating Lobular Carcinoma\"}, {\"v\": \"Pre (<6 months since LMP AND no prior bilateral ovariectomy AND not on estrogen replacement)\"}, {\"v\": \"WHITE\"}]}, {\"c\": [{\"v\": \"TCGA-AR-A2LM\"}, {\"v\": \"Alive\"}, {\"v\": 1935}, {\"v\": \"NOT HISPANIC OR LATINO\"}, {\"v\": \"Infiltrating Lobular Carcinoma\"}, {\"v\": \"Pre (<6 months since LMP AND no prior bilateral ovariectomy AND not on estrogen replacement)\"}, {\"v\": \"WHITE\"}]}, {\"c\": [{\"v\": \"TCGA-A2-A04X\"}, {\"v\": \"Alive\"}, {\"v\": 1686}, {\"v\": null}, {\"v\": \"Infiltrating Ductal Carcinoma\"}, {\"v\": \"Pre (<6 months since LMP AND no prior bilateral ovariectomy AND not on estrogen replacement)\"}, {\"v\": \"WHITE\"}]}, {\"c\": [{\"v\": \"TCGA-E9-A6HE\"}, {\"v\": \"Alive\"}, {\"v\": 847}, {\"v\": \"NOT HISPANIC OR LATINO\"}, {\"v\": \"Infiltrating Lobular Carcinoma\"}, {\"v\": \"Pre (<6 months since LMP AND no prior bilateral ovariectomy AND not on estrogen replacement)\"}, {\"v\": \"WHITE\"}]}, {\"c\": [{\"v\": \"TCGA-PE-A5DE\"}, {\"v\": \"Alive\"}, {\"v\": 2645}, {\"v\": null}, {\"v\": \"Infiltrating Lobular Carcinoma\"}, {\"v\": \"Pre (<6 months since LMP AND no prior bilateral ovariectomy AND not on estrogen replacement)\"}, {\"v\": \"WHITE\"}]}, {\"c\": [{\"v\": \"TCGA-A2-A04Q\"}, {\"v\": \"Alive\"}, {\"v\": 2385}, {\"v\": null}, {\"v\": \"Infiltrating Ductal Carcinoma\"}, {\"v\": \"Post (prior bilateral ovariectomy OR >12 mo since LMP with no prior hysterectomy)\"}, {\"v\": \"WHITE\"}]}, {\"c\": [{\"v\": \"TCGA-EW-A1IX\"}, {\"v\": \"Alive\"}, {\"v\": 1208}, {\"v\": \"HISPANIC OR LATINO\"}, {\"v\": \"Other  specify\"}, {\"v\": \"Peri (6-12 months since last menstrual period)\"}, {\"v\": \"ASIAN\"}]}, {\"c\": [{\"v\": \"TCGA-EW-A1IY\"}, {\"v\": \"Alive\"}, {\"v\": 258}, {\"v\": \"NOT HISPANIC OR LATINO\"}, {\"v\": \"Infiltrating Ductal Carcinoma\"}, {\"v\": \"Pre (<6 months since LMP AND no prior bilateral ovariectomy AND not on estrogen replacement)\"}, {\"v\": \"ASIAN\"}]}, {\"c\": [{\"v\": \"TCGA-A2-A04P\"}, {\"v\": \"Dead\"}, {\"v\": 548}, {\"v\": null}, {\"v\": \"Infiltrating Ductal Carcinoma\"}, {\"v\": \"Pre (<6 months since LMP AND no prior bilateral ovariectomy AND not on estrogen replacement)\"}, {\"v\": \"BLACK OR AFRICAN AMERICAN\"}]}, {\"c\": [{\"v\": \"TCGA-A2-A04U\"}, {\"v\": \"Alive\"}, {\"v\": 2654}, {\"v\": \"NOT HISPANIC OR LATINO\"}, {\"v\": \"Infiltrating Ductal Carcinoma\"}, {\"v\": \"Peri (6-12 months since last menstrual period)\"}, {\"v\": \"WHITE\"}]}, {\"c\": [{\"v\": \"TCGA-A2-A04W\"}, {\"v\": \"Alive\"}, {\"v\": 3102}, {\"v\": \"NOT HISPANIC OR LATINO\"}, {\"v\": \"Other  specify\"}, {\"v\": \"Pre (<6 months since LMP AND no prior bilateral ovariectomy AND not on estrogen replacement)\"}, {\"v\": \"WHITE\"}]}, {\"c\": [{\"v\": \"TCGA-E2-A10A\"}, {\"v\": \"Alive\"}, {\"v\": 1229}, {\"v\": \"NOT HISPANIC OR LATINO\"}, {\"v\": \"Infiltrating Ductal Carcinoma\"}, {\"v\": \"Pre (<6 months since LMP AND no prior bilateral ovariectomy AND not on estrogen replacement)\"}, {\"v\": \"WHITE\"}]}, {\"c\": [{\"v\": \"TCGA-E2-A10F\"}, {\"v\": \"Alive\"}, {\"v\": 878}, {\"v\": \"NOT HISPANIC OR LATINO\"}, {\"v\": \"Infiltrating Lobular Carcinoma\"}, {\"v\": \"Pre (<6 months since LMP AND no prior bilateral ovariectomy AND not on estrogen replacement)\"}, {\"v\": \"WHITE\"}]}, {\"c\": [{\"v\": \"TCGA-BH-A0DG\"}, {\"v\": \"Alive\"}, {\"v\": 2041}, {\"v\": \"NOT HISPANIC OR LATINO\"}, {\"v\": \"Infiltrating Ductal Carcinoma\"}, {\"v\": \"Pre (<6 months since LMP AND no prior bilateral ovariectomy AND not on estrogen replacement)\"}, {\"v\": \"BLACK OR AFRICAN AMERICAN\"}]}, {\"c\": [{\"v\": \"TCGA-A2-A0EX\"}, {\"v\": \"Alive\"}, {\"v\": 752}, {\"v\": \"NOT HISPANIC OR LATINO\"}, {\"v\": \"Infiltrating Lobular Carcinoma\"}, {\"v\": \"Post (prior bilateral ovariectomy OR >12 mo since LMP with no prior hysterectomy)\"}, {\"v\": \"WHITE\"}]}, {\"c\": [{\"v\": \"TCGA-AR-A24R\"}, {\"v\": \"Alive\"}, {\"v\": 3430}, {\"v\": \"NOT HISPANIC OR LATINO\"}, {\"v\": \"Infiltrating Ductal Carcinoma\"}, {\"v\": \"Pre (<6 months since LMP AND no prior bilateral ovariectomy AND not on estrogen replacement)\"}, {\"v\": \"WHITE\"}]}], \"cols\": [{\"type\": \"string\", \"id\": \"ParticipantBarcode\", \"label\": \"ParticipantBarcode\"}, {\"type\": \"string\", \"id\": \"vital_status\", \"label\": \"vital_status\"}, {\"type\": \"number\", \"id\": \"days_to_last_known_alive\", \"label\": \"days_to_last_known_alive\"}, {\"type\": \"string\", \"id\": \"ethnicity\", \"label\": \"ethnicity\"}, {\"type\": \"string\", \"id\": \"histological_type\", \"label\": \"histological_type\"}, {\"type\": \"string\", \"id\": \"menopause_status\", \"label\": \"menopause_status\"}, {\"type\": \"string\", \"id\": \"race\", \"label\": \"race\"}]});\n",
       "        }\n",
       "      );\n",
       "    </script>\n",
       "  "
      ],
      "text/plain": [
       "QueryResultsTable job_Nt6BENYUh1I8jz0L0HO5syhRIaw"
      ]
     },
     "execution_count": 13,
     "metadata": {},
     "output_type": "execute_result"
    }
   ],
   "source": [
    "bq.Query(createCohort_and_checkAnnotations.select_on_clinical).results()"
   ]
  },
  {
   "cell_type": "markdown",
   "metadata": {},
   "source": [
    "and finally we call the main query:"
   ]
  },
  {
   "cell_type": "code",
   "execution_count": 14,
   "metadata": {
    "collapsed": false
   },
   "outputs": [
    {
     "data": {
      "text/html": [
       "\n",
       "    <div class=\"bqtv\" id=\"8_144704535337\"></div>\n",
       "    <br />(rows: 327, time: 3.8s,     1MB processed, job: job_OlFhI4Ic9ManMGvL33VjfwRGODI)<br />\n",
       "    <script>\n",
       "      require(['extensions/charting', 'element!8_144704535337', 'style!/static/extensions/charting.css'],\n",
       "        function(charts, dom) {\n",
       "          charts.render(dom,\n",
       "            {\n",
       "              chartStyle:\"paged_table\",\n",
       "              dataName:\"6\",\n",
       "              fields:\"ParticipantBarcode\",\n",
       "              totalRows:327,\n",
       "              rowsPerPage:25,\n",
       "            }, {}, {\"rows\": [{\"c\": [{\"v\": \"TCGA-3C-AALI\"}]}, {\"c\": [{\"v\": \"TCGA-4H-AAAK\"}]}, {\"c\": [{\"v\": \"TCGA-5L-AAT0\"}]}, {\"c\": [{\"v\": \"TCGA-A1-A0SH\"}]}, {\"c\": [{\"v\": \"TCGA-A1-A0SJ\"}]}, {\"c\": [{\"v\": \"TCGA-A1-A0SN\"}]}, {\"c\": [{\"v\": \"TCGA-A1-A0SP\"}]}, {\"c\": [{\"v\": \"TCGA-A1-A0SQ\"}]}, {\"c\": [{\"v\": \"TCGA-A2-A04P\"}]}, {\"c\": [{\"v\": \"TCGA-A2-A04Q\"}]}, {\"c\": [{\"v\": \"TCGA-A2-A04R\"}]}, {\"c\": [{\"v\": \"TCGA-A2-A04U\"}]}, {\"c\": [{\"v\": \"TCGA-A2-A04V\"}]}, {\"c\": [{\"v\": \"TCGA-A2-A04W\"}]}, {\"c\": [{\"v\": \"TCGA-A2-A04X\"}]}, {\"c\": [{\"v\": \"TCGA-A2-A0CL\"}]}, {\"c\": [{\"v\": \"TCGA-A2-A0CM\"}]}, {\"c\": [{\"v\": \"TCGA-A2-A0CV\"}]}, {\"c\": [{\"v\": \"TCGA-A2-A0CZ\"}]}, {\"c\": [{\"v\": \"TCGA-A2-A0D2\"}]}, {\"c\": [{\"v\": \"TCGA-A2-A0D3\"}]}, {\"c\": [{\"v\": \"TCGA-A2-A0D4\"}]}, {\"c\": [{\"v\": \"TCGA-A2-A0EX\"}]}, {\"c\": [{\"v\": \"TCGA-A2-A0SX\"}]}, {\"c\": [{\"v\": \"TCGA-A2-A0T3\"}]}], \"cols\": [{\"type\": \"string\", \"id\": \"ParticipantBarcode\", \"label\": \"ParticipantBarcode\"}]});\n",
       "        }\n",
       "      );\n",
       "    </script>\n",
       "  "
      ],
      "text/plain": [
       "QueryResultsTable job_OlFhI4Ic9ManMGvL33VjfwRGODI"
      ]
     },
     "execution_count": 14,
     "metadata": {},
     "output_type": "execute_result"
    },
    {
     "data": {
      "text/html": [
       "\n",
       "    <div class=\"bqtv\" id=\"8_144704535337\"></div>\n",
       "    <br />(rows: 327, time: 3.8s,     1MB processed, job: job_OlFhI4Ic9ManMGvL33VjfwRGODI)<br />\n",
       "    <script>\n",
       "      require(['extensions/charting', 'element!8_144704535337', 'style!/static/extensions/charting.css'],\n",
       "        function(charts, dom) {\n",
       "          charts.render(dom,\n",
       "            {\n",
       "              chartStyle:\"paged_table\",\n",
       "              dataName:\"6\",\n",
       "              fields:\"ParticipantBarcode\",\n",
       "              totalRows:327,\n",
       "              rowsPerPage:25,\n",
       "            }, {}, {\"rows\": [{\"c\": [{\"v\": \"TCGA-3C-AALI\"}]}, {\"c\": [{\"v\": \"TCGA-4H-AAAK\"}]}, {\"c\": [{\"v\": \"TCGA-5L-AAT0\"}]}, {\"c\": [{\"v\": \"TCGA-A1-A0SH\"}]}, {\"c\": [{\"v\": \"TCGA-A1-A0SJ\"}]}, {\"c\": [{\"v\": \"TCGA-A1-A0SN\"}]}, {\"c\": [{\"v\": \"TCGA-A1-A0SP\"}]}, {\"c\": [{\"v\": \"TCGA-A1-A0SQ\"}]}, {\"c\": [{\"v\": \"TCGA-A2-A04P\"}]}, {\"c\": [{\"v\": \"TCGA-A2-A04Q\"}]}, {\"c\": [{\"v\": \"TCGA-A2-A04R\"}]}, {\"c\": [{\"v\": \"TCGA-A2-A04U\"}]}, {\"c\": [{\"v\": \"TCGA-A2-A04V\"}]}, {\"c\": [{\"v\": \"TCGA-A2-A04W\"}]}, {\"c\": [{\"v\": \"TCGA-A2-A04X\"}]}, {\"c\": [{\"v\": \"TCGA-A2-A0CL\"}]}, {\"c\": [{\"v\": \"TCGA-A2-A0CM\"}]}, {\"c\": [{\"v\": \"TCGA-A2-A0CV\"}]}, {\"c\": [{\"v\": \"TCGA-A2-A0CZ\"}]}, {\"c\": [{\"v\": \"TCGA-A2-A0D2\"}]}, {\"c\": [{\"v\": \"TCGA-A2-A0D3\"}]}, {\"c\": [{\"v\": \"TCGA-A2-A0D4\"}]}, {\"c\": [{\"v\": \"TCGA-A2-A0EX\"}]}, {\"c\": [{\"v\": \"TCGA-A2-A0SX\"}]}, {\"c\": [{\"v\": \"TCGA-A2-A0T3\"}]}], \"cols\": [{\"type\": \"string\", \"id\": \"ParticipantBarcode\", \"label\": \"ParticipantBarcode\"}]});\n",
       "        }\n",
       "      );\n",
       "    </script>\n",
       "  "
      ],
      "text/plain": [
       "QueryResultsTable job_OlFhI4Ic9ManMGvL33VjfwRGODI"
      ]
     },
     "execution_count": 14,
     "metadata": {},
     "output_type": "execute_result"
    }
   ],
   "source": [
    "bq.Query(createCohort_and_checkAnnotations).results()"
   ]
  },
  {
   "cell_type": "markdown",
   "metadata": {},
   "source": [
    "Note that we didn't need to call each sub-query individually, we could have just called the main query and gotten the same result.  As you can see, two patients that met the clinical select criteria we excluded from the final result."
   ]
  }
 ],
 "metadata": {
  "kernelspec": {
   "display_name": "Python 2",
   "language": "python",
   "name": "python2"
  },
  "language_info": {
   "codemirror_mode": {
    "name": "ipython",
    "version": 2
   },
   "file_extension": ".py",
   "mimetype": "text/x-python",
   "name": "python",
   "nbconvert_exporter": "python",
   "pygments_lexer": "ipython2",
   "version": "2.7.9"
  }
 },
 "nbformat": 4,
 "nbformat_minor": 0
}
