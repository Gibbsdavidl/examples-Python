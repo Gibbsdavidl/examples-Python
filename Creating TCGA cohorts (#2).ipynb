{
 "cells": [
  {
   "cell_type": "markdown",
   "metadata": {},
   "source": [
    "# Creating TCGA cohorts  (#2)\n",
    "\n",
    "This notebook will provide another example of building a cohort, this time based on the types of samples available."
   ]
  },
  {
   "cell_type": "code",
   "execution_count": 10,
   "metadata": {
    "collapsed": true
   },
   "outputs": [],
   "source": [
    "import gcp.bigquery as bq"
   ]
  },
  {
   "cell_type": "markdown",
   "metadata": {},
   "source": [
    "Many different types of samples were obtained from the TCGA participants, and details about these samples are available in the Biospecimen data table.  This next query shows how many samples exist of each type, as well as the full names and abbreviations of each type:"
   ]
  },
  {
   "cell_type": "code",
   "execution_count": 11,
   "metadata": {
    "collapsed": false
   },
   "outputs": [
    {
     "data": {
      "text/html": [
       "\n",
       "    <div class=\"bqtv\" id=\"3_144701567864\"></div>\n",
       "    <br />(rows: 10, time: 0.7s, cached, job: job_vTal4-HNvOQ3q35LTVnMQ1IACLA)<br />\n",
       "    <script>\n",
       "      require(['extensions/charting', 'element!3_144701567864', 'style!/static/extensions/charting.css'],\n",
       "        function(charts, dom) {\n",
       "          charts.render(dom,\n",
       "            {\n",
       "              chartStyle:\"table\",\n",
       "              dataName:\"2\",\n",
       "              fields:\"SampleType,SampleTypeLetterCode,n\",\n",
       "              totalRows:10,\n",
       "              rowsPerPage:25,\n",
       "            }, {}, {\"rows\": [{\"c\": [{\"v\": \"Primary solid Tumor\"}, {\"v\": \"TP\"}, {\"v\": 10787}]}, {\"c\": [{\"v\": \"Blood Derived Normal\"}, {\"v\": \"NB\"}, {\"v\": 9382}]}, {\"c\": [{\"v\": \"Solid Tissue Normal\"}, {\"v\": \"NT\"}, {\"v\": 2685}]}, {\"c\": [{\"v\": \"Metastatic\"}, {\"v\": \"TM\"}, {\"v\": 396}]}, {\"c\": [{\"v\": \"Primary Blood Derived Cancer - Peripheral Blood\"}, {\"v\": \"TB\"}, {\"v\": 356}]}, {\"c\": [{\"v\": \"Recurrent Solid Tumor\"}, {\"v\": \"TR\"}, {\"v\": 60}]}, {\"c\": [{\"v\": \"Additional - New Primary\"}, {\"v\": \"TAP\"}, {\"v\": 11}]}, {\"c\": [{\"v\": \"Buccal Cell Normal\"}, {\"v\": \"NBC\"}, {\"v\": 5}]}, {\"c\": [{\"v\": \"Bone Marrow Normal\"}, {\"v\": \"NBM\"}, {\"v\": 4}]}, {\"c\": [{\"v\": \"Additional Metastatic\"}, {\"v\": \"TAM\"}, {\"v\": 2}]}], \"cols\": [{\"type\": \"string\", \"id\": \"SampleType\", \"label\": \"SampleType\"}, {\"type\": \"string\", \"id\": \"SampleTypeLetterCode\", \"label\": \"SampleTypeLetterCode\"}, {\"type\": \"number\", \"id\": \"n\", \"label\": \"n\"}]});\n",
       "        }\n",
       "      );\n",
       "    </script>\n",
       "  "
      ],
      "text/plain": [
       "QueryResultsTable job_vTal4-HNvOQ3q35LTVnMQ1IACLA"
      ]
     },
     "execution_count": 11,
     "metadata": {},
     "output_type": "execute_result"
    }
   ],
   "source": [
    "%%sql\n",
    "\n",
    "SELECT\n",
    "  SampleType,\n",
    "  SampleTypeLetterCode,\n",
    "  COUNT(*) AS n\n",
    "FROM\n",
    "  [tcga_201510_alpha.Biospecimen_data]\n",
    "GROUP BY\n",
    "  SampleType,\n",
    "  SampleTypeLetterCode,\n",
    "ORDER BY\n",
    "  n DESC"
   ]
  },
  {
   "cell_type": "markdown",
   "metadata": {},
   "source": [
    "Note that there are many types of tumor samples: primary, metastatic, recurrent, etc, although the vast majority are samples from primary tumors.  In the TCGA project, almost all tumor samples were assayed on multiple platforms for mRNA and miRNA expression, DNA methylation, DNA copy-number, and either exome- or whole-genome DNA sequence.  For some tumor samples, protein activity was also measured using RPPA arrays.  When available, adjacent \"normal\" tissue samples were also assayed on a subset of these platforms.  The \"blood normal\" samples were primarily used only as a reference source of germline DNA in order to call somatic mutations."
   ]
  },
  {
   "cell_type": "markdown",
   "metadata": {},
   "source": [
    "We can do a similar counting exercise of the sample types represented in one of the molecular data tables, using one of the mRNA expression data tables:"
   ]
  },
  {
   "cell_type": "code",
   "execution_count": 12,
   "metadata": {
    "collapsed": false
   },
   "outputs": [
    {
     "data": {
      "text/html": [
       "\n",
       "    <div class=\"bqtv\" id=\"4_144701567957\"></div>\n",
       "    <br />(rows: 7, time: 0.5s, cached, job: job_Dkh9iuCv5Ae-E-1ae2pgNmLZGEg)<br />\n",
       "    <script>\n",
       "      require(['extensions/charting', 'element!4_144701567957', 'style!/static/extensions/charting.css'],\n",
       "        function(charts, dom) {\n",
       "          charts.render(dom,\n",
       "            {\n",
       "              chartStyle:\"table\",\n",
       "              dataName:\"3\",\n",
       "              fields:\"SampleTypeLetterCode,n\",\n",
       "              totalRows:7,\n",
       "              rowsPerPage:25,\n",
       "            }, {}, {\"rows\": [{\"c\": [{\"v\": \"TP\"}, {\"v\": 8976}]}, {\"c\": [{\"v\": \"NT\"}, {\"v\": 715}]}, {\"c\": [{\"v\": \"TM\"}, {\"v\": 393}]}, {\"c\": [{\"v\": \"TB\"}, {\"v\": 173}]}, {\"c\": [{\"v\": \"TR\"}, {\"v\": 45}]}, {\"c\": [{\"v\": \"TAP\"}, {\"v\": 11}]}, {\"c\": [{\"v\": \"TAM\"}, {\"v\": 1}]}], \"cols\": [{\"type\": \"string\", \"id\": \"SampleTypeLetterCode\", \"label\": \"SampleTypeLetterCode\"}, {\"type\": \"number\", \"id\": \"n\", \"label\": \"n\"}]});\n",
       "        }\n",
       "      );\n",
       "    </script>\n",
       "  "
      ],
      "text/plain": [
       "QueryResultsTable job_Dkh9iuCv5Ae-E-1ae2pgNmLZGEg"
      ]
     },
     "execution_count": 12,
     "metadata": {},
     "output_type": "execute_result"
    }
   ],
   "source": [
    "%%sql\n",
    "\n",
    "SELECT\n",
    "  SampleTypeLetterCode,\n",
    "  COUNT(*) AS n\n",
    "FROM (\n",
    "  SELECT\n",
    "    SampleBarcode,\n",
    "    SampleTypeLetterCode\n",
    "  FROM\n",
    "    [tcga_201510_alpha.mRNA_UNC_HiSeq_RSEM]\n",
    "  GROUP BY\n",
    "    SampleBarcode,\n",
    "    SampleTypeLetterCode )\n",
    "GROUP BY\n",
    "  SampleTypeLetterCode\n",
    "ORDER BY\n",
    "  n DESC"
   ]
  },
  {
   "cell_type": "markdown",
   "metadata": {},
   "source": [
    "In this example, let's assume that we would like to do a study that requires a primary tumor sample and a matched-normal (adjacent) tissue sample.  In order to find out which patients provided which types of samples, we need to query the Biospecimen data table.  This next query module uses two sub-queries, one to get all patients with TP samples and another to get all patients with NT samples.  The final query joins these two and returns a single list of patients."
   ]
  },
  {
   "cell_type": "code",
   "execution_count": 13,
   "metadata": {
    "collapsed": true
   },
   "outputs": [],
   "source": [
    "%%sql --module patients_with_matched_samples\n",
    "\n",
    "# get the list of patients who have provided TP samples\n",
    "DEFINE QUERY patients_tp\n",
    "SELECT\n",
    "  ParticipantBarcode\n",
    "FROM\n",
    "  [tcga_201510_alpha.Biospecimen_data]\n",
    "WHERE\n",
    "  ( SampleTypeLetterCode=\"TP\" )\n",
    "GROUP BY\n",
    "  ParticipantBarcode\n",
    "ORDER BY\n",
    "  ParticipantBarcode\n",
    "\n",
    "# now get a list of patients who have provided NT samples\n",
    "DEFINE QUERY patients_nt\n",
    "SELECT\n",
    "  ParticipantBarcode\n",
    "FROM\n",
    "  [tcga_201510_alpha.Biospecimen_data]\n",
    "WHERE\n",
    "  ( SampleTypeLetterCode=\"NT\" )\n",
    "GROUP BY\n",
    "  ParticipantBarcode\n",
    "ORDER BY\n",
    "  ParticipantBarcode\n",
    "\n",
    "# and finally join these two lists to get the intersection of these two lists\n",
    "DEFINE QUERY patients_both\n",
    "SELECT\n",
    "  nt.ParticipantBarcode AS ParticipantBarcode\n",
    "FROM ( $patients_nt ) AS nt\n",
    "JOIN\n",
    "  ( $patients_tp ) AS tp\n",
    "ON\n",
    "  nt.ParticipantBarcode = tp.ParticipantBarcode\n",
    "ORDER BY\n",
    "  ParticipantBarcode"
   ]
  },
  {
   "cell_type": "code",
   "execution_count": 14,
   "metadata": {
    "collapsed": false
   },
   "outputs": [
    {
     "data": {
      "text/html": [
       "\n",
       "    <div class=\"bqtv\" id=\"5_144701568051\"></div>\n",
       "    <br />(rows: 2310, time: 0.6s, cached, job: job_K1_3-CV4l5-j6k660k6tqCXZKWE)<br />\n",
       "    <script>\n",
       "      require(['extensions/charting', 'element!5_144701568051', 'style!/static/extensions/charting.css'],\n",
       "        function(charts, dom) {\n",
       "          charts.render(dom,\n",
       "            {\n",
       "              chartStyle:\"paged_table\",\n",
       "              dataName:\"0\",\n",
       "              fields:\"ParticipantBarcode\",\n",
       "              totalRows:2310,\n",
       "              rowsPerPage:25,\n",
       "            }, {}, {\"rows\": [{\"c\": [{\"v\": \"TCGA-04-1335\"}]}, {\"c\": [{\"v\": \"TCGA-04-1336\"}]}, {\"c\": [{\"v\": \"TCGA-04-1337\"}]}, {\"c\": [{\"v\": \"TCGA-04-1338\"}]}, {\"c\": [{\"v\": \"TCGA-04-1342\"}]}, {\"c\": [{\"v\": \"TCGA-04-1346\"}]}, {\"c\": [{\"v\": \"TCGA-04-1347\"}]}, {\"c\": [{\"v\": \"TCGA-04-1348\"}]}, {\"c\": [{\"v\": \"TCGA-04-1349\"}]}, {\"c\": [{\"v\": \"TCGA-04-1350\"}]}, {\"c\": [{\"v\": \"TCGA-04-1351\"}]}, {\"c\": [{\"v\": \"TCGA-04-1353\"}]}, {\"c\": [{\"v\": \"TCGA-04-1356\"}]}, {\"c\": [{\"v\": \"TCGA-04-1357\"}]}, {\"c\": [{\"v\": \"TCGA-04-1360\"}]}, {\"c\": [{\"v\": \"TCGA-04-1361\"}]}, {\"c\": [{\"v\": \"TCGA-04-1369\"}]}, {\"c\": [{\"v\": \"TCGA-04-1370\"}]}, {\"c\": [{\"v\": \"TCGA-04-1371\"}]}, {\"c\": [{\"v\": \"TCGA-04-1516\"}]}, {\"c\": [{\"v\": \"TCGA-04-1517\"}]}, {\"c\": [{\"v\": \"TCGA-04-1519\"}]}, {\"c\": [{\"v\": \"TCGA-04-1536\"}]}, {\"c\": [{\"v\": \"TCGA-04-1638\"}]}, {\"c\": [{\"v\": \"TCGA-04-1644\"}]}], \"cols\": [{\"type\": \"string\", \"id\": \"ParticipantBarcode\", \"label\": \"ParticipantBarcode\"}]});\n",
       "        }\n",
       "      );\n",
       "    </script>\n",
       "  "
      ],
      "text/plain": [
       "QueryResultsTable job_K1_3-CV4l5-j6k660k6tqCXZKWE"
      ]
     },
     "execution_count": 14,
     "metadata": {},
     "output_type": "execute_result"
    }
   ],
   "source": [
    "bq.Query(patients_with_matched_samples).results()"
   ]
  },
  {
   "cell_type": "markdown",
   "metadata": {},
   "source": [
    "It might be interesting to find out what the distribution of tumor types is for this list of patients with matched tumor-normal sample pairs.  We can define a new SQL module that refers to the results of a previously defined query as long as we pass that reference in when we call bq.Query():"
   ]
  },
  {
   "cell_type": "code",
   "execution_count": 15,
   "metadata": {
    "collapsed": true
   },
   "outputs": [],
   "source": [
    "%%sql --module tumor_type_counts\n",
    "\n",
    "# now we'll use this list to find what types of tumors these patients\n",
    "# belong to:\n",
    "SELECT\n",
    "  Study, \n",
    "  COUNT(*) AS n\n",
    "FROM \n",
    "  [tcga_201510_alpha.Clinical_data]\n",
    "WHERE\n",
    "  ParticipantBarcode IN ($patients_both)\n",
    "GROUP BY\n",
    "  Study\n",
    "ORDER BY\n",
    "  n DESC"
   ]
  },
  {
   "cell_type": "code",
   "execution_count": 16,
   "metadata": {
    "collapsed": false
   },
   "outputs": [
    {
     "data": {
      "text/html": [
       "\n",
       "    <div class=\"bqtv\" id=\"6_144701568135\"></div>\n",
       "    <br />(rows: 27, time: 0.5s, cached, job: job_sUqij6ZmxG9K8qGfnu0f7TGdy-A)<br />\n",
       "    <script>\n",
       "      require(['extensions/charting', 'element!6_144701568135', 'style!/static/extensions/charting.css'],\n",
       "        function(charts, dom) {\n",
       "          charts.render(dom,\n",
       "            {\n",
       "              chartStyle:\"paged_table\",\n",
       "              dataName:\"1\",\n",
       "              fields:\"Study,n\",\n",
       "              totalRows:27,\n",
       "              rowsPerPage:25,\n",
       "            }, {}, {\"rows\": [{\"c\": [{\"v\": \"KIRC\"}, {\"v\": 442}]}, {\"c\": [{\"v\": \"LUSC\"}, {\"v\": 253}]}, {\"c\": [{\"v\": \"LUAD\"}, {\"v\": 211}]}, {\"c\": [{\"v\": \"BRCA\"}, {\"v\": 162}]}, {\"c\": [{\"v\": \"OV\"}, {\"v\": 126}]}, {\"c\": [{\"v\": \"PRAD\"}, {\"v\": 118}]}, {\"c\": [{\"v\": \"STAD\"}, {\"v\": 101}]}, {\"c\": [{\"v\": \"THCA\"}, {\"v\": 100}]}, {\"c\": [{\"v\": \"COAD\"}, {\"v\": 93}]}, {\"c\": [{\"v\": \"LIHC\"}, {\"v\": 89}]}, {\"c\": [{\"v\": \"KIRP\"}, {\"v\": 88}]}, {\"c\": [{\"v\": \"HNSC\"}, {\"v\": 82}]}, {\"c\": [{\"v\": \"KICH\"}, {\"v\": 71}]}, {\"c\": [{\"v\": \"ESCA\"}, {\"v\": 65}]}, {\"c\": [{\"v\": \"UCEC\"}, {\"v\": 40}]}, {\"c\": [{\"v\": \"PAAD\"}, {\"v\": 37}]}, {\"c\": [{\"v\": \"BLCA\"}, {\"v\": 37}]}, {\"c\": [{\"v\": \"GBM\"}, {\"v\": 29}]}, {\"c\": [{\"v\": \"SARC\"}, {\"v\": 24}]}, {\"c\": [{\"v\": \"READ\"}, {\"v\": 18}]}, {\"c\": [{\"v\": \"CHOL\"}, {\"v\": 15}]}, {\"c\": [{\"v\": \"THYM\"}, {\"v\": 13}]}, {\"c\": [{\"v\": \"CESC\"}, {\"v\": 8}]}, {\"c\": [{\"v\": \"UCS\"}, {\"v\": 6}]}, {\"c\": [{\"v\": \"ACC\"}, {\"v\": 5}]}], \"cols\": [{\"type\": \"string\", \"id\": \"Study\", \"label\": \"Study\"}, {\"type\": \"number\", \"id\": \"n\", \"label\": \"n\"}]});\n",
       "        }\n",
       "      );\n",
       "    </script>\n",
       "  "
      ],
      "text/plain": [
       "QueryResultsTable job_sUqij6ZmxG9K8qGfnu0f7TGdy-A"
      ]
     },
     "execution_count": 16,
     "metadata": {},
     "output_type": "execute_result"
    }
   ],
   "source": [
    "bq.Query(tumor_type_counts2,\n",
    "         patients_nt=patients_with_matched_samples.patients_nt,\n",
    "         patients_tp=patients_with_matched_samples.patients_tp,\n",
    "         patients_both=patients_with_matched_samples.patients_both).results()"
   ]
  },
  {
   "cell_type": "code",
   "execution_count": null,
   "metadata": {
    "collapsed": true
   },
   "outputs": [],
   "source": []
  }
 ],
 "metadata": {
  "kernelspec": {
   "display_name": "Python 2",
   "language": "python",
   "name": "python2"
  },
  "language_info": {
   "codemirror_mode": {
    "name": "ipython",
    "version": 2
   },
   "file_extension": ".py",
   "mimetype": "text/x-python",
   "name": "python",
   "nbconvert_exporter": "python",
   "pygments_lexer": "ipython2",
   "version": "2.7.9"
  }
 },
 "nbformat": 4,
 "nbformat_minor": 0
}
