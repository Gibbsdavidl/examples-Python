{
 "cells": [
  {
   "cell_type": "markdown",
   "metadata": {},
   "source": [
    "# mRNAseq gene expression (UNC HiSeq RNAseqV2 RSEM)\n",
    "\n",
    "The goal of this notebook is to introduce you to the mRNAseq gene expression BigQuery table.\n",
    "\n",
    "This table contains all available TCGA Level-3 gene expression data produced by UNC's RNAseqV2 pipeline using the Illumina HiSeq platform, as of October 2015.  (Actual archive dates range from January 2013 to June 2015.)  The most recent archive (*eg* ``unc.edu_BRCA.IlluminaHiSeq_RNASeqV2.Level_3.1.11.0``) for each of the 33 tumor types was downloaded from the DCC, and data extracted from all files matching the pattern ``%.rsem.genes.normalized_results``. Each of these raw “RSEM genes normalized results” files has two columns: gene_id and normalized_count.  The gene_id string contains two parts: the gene symbol, and the Entrez gene ID, separated by **|**  *eg*: **`TP53|7157`**.  During ETL, the gene_id string is split and the gene symbol is stored in the ``original_gene_symbol`` field, and the Entrez gene ID is stored in the ``gene_id`` field.  In addition, the Entrez ID is used to look up the current HGNC approved gene symbol, which is stored in the ``HGNC_gene_sybmol`` field. \n",
    "\n",
    "In order to work with BigQuery, you need to import the python bigquery module (`gcp.bigquery`) and you need to know the name(s) of the table(s) you're going to be working with:"
   ]
  },
  {
   "cell_type": "code",
   "execution_count": 1,
   "metadata": {
    "collapsed": true
   },
   "outputs": [],
   "source": [
    "import gcp.bigquery as bq\n",
    "mRNAseq_BQtable = bq.Table('isb-cgc:tcga_201510_alpha.mRNA_UNC_HiSeq_RSEM')"
   ]
  },
  {
   "cell_type": "markdown",
   "metadata": {},
   "source": [
    "From now on, we will refer to this table using this variable ($mRNAseq_BQtable), but we could just as well explicitly give the table name each time.\n",
    "\n",
    "Let's start by taking a look at the table schema:"
   ]
  },
  {
   "cell_type": "code",
   "execution_count": 2,
   "metadata": {
    "collapsed": false
   },
   "outputs": [
    {
     "data": {
      "text/html": [
       "\n",
       "    <div class=\"bqsv\" id=\"1_144734158434\"></div>\n",
       "    <script>\n",
       "      require(['extensions/bigquery', 'element!1_144734158434', 'style!/static/extensions/bigquery.css'],\n",
       "        function(bq, dom) {\n",
       "          bq.renderSchema(dom, [{\"type\": \"STRING\", \"name\": \"ParticipantBarcode\"}, {\"type\": \"STRING\", \"name\": \"SampleBarcode\"}, {\"type\": \"STRING\", \"name\": \"AliquotBarcode\"}, {\"type\": \"STRING\", \"name\": \"Study\"}, {\"type\": \"STRING\", \"name\": \"SampleTypeLetterCode\"}, {\"type\": \"STRING\", \"name\": \"Platform\"}, {\"type\": \"STRING\", \"name\": \"original_gene_symbol\"}, {\"type\": \"STRING\", \"name\": \"HGNC_gene_symbol\"}, {\"type\": \"INTEGER\", \"name\": \"gene_id\"}, {\"type\": \"FLOAT\", \"name\": \"normalized_count\"}]);\n",
       "        }\n",
       "      );\n",
       "    </script>\n",
       "    "
      ],
      "text/plain": [
       "<IPython.core.display.HTML object>"
      ]
     },
     "execution_count": 2,
     "metadata": {},
     "output_type": "execute_result"
    }
   ],
   "source": [
    "%bigquery schema --table $mRNAseq_BQtable"
   ]
  },
  {
   "cell_type": "markdown",
   "metadata": {},
   "source": [
    "Now let's count up the number of unique patients, samples and aliquots mentioned in this table.  We will do this by defining a very simple parameterized query.  (Note that when using a variable for the table name in the FROM clause, you should not also use the square brackets that you usually would if you were specifying the table name as a string.)"
   ]
  },
  {
   "cell_type": "code",
   "execution_count": 3,
   "metadata": {
    "collapsed": true
   },
   "outputs": [],
   "source": [
    "%%sql --module count_unique\n",
    "\n",
    "DEFINE QUERY q1\n",
    "SELECT COUNT (DISTINCT $f, 25000) AS n\n",
    "FROM $t"
   ]
  },
  {
   "cell_type": "code",
   "execution_count": 5,
   "metadata": {
    "collapsed": false
   },
   "outputs": [
    {
     "name": "stdout",
     "output_type": "stream",
     "text": [
      " There are   9566 unique values in the field ParticipantBarcode. \n",
      " There are  10314 unique values in the field SampleBarcode. \n",
      " There are  10343 unique values in the field AliquotBarcode. \n"
     ]
    }
   ],
   "source": [
    "fieldList = ['ParticipantBarcode', 'SampleBarcode', 'AliquotBarcode']\n",
    "for aField in fieldList:\n",
    "  field = mRNAseq_BQtable.schema[aField]\n",
    "  rdf = bq.Query(count_unique.q1,t=mRNAseq_BQtable,f=field).results().to_dataframe()\n",
    "  print \" There are %6d unique values in the field %s. \" % ( rdf.iloc[0]['n'], aField)"
   ]
  },
  {
   "cell_type": "markdown",
   "metadata": {},
   "source": [
    "We can do the same thing to look at how many unique gene symbols and gene ids exist in the table:"
   ]
  },
  {
   "cell_type": "code",
   "execution_count": 7,
   "metadata": {
    "collapsed": false
   },
   "outputs": [
    {
     "name": "stdout",
     "output_type": "stream",
     "text": [
      " There are  20501 unique values in the field original_gene_symbol. \n",
      " There are  20182 unique values in the field HGNC_gene_symbol. \n",
      " There are  20531 unique values in the field gene_id. \n"
     ]
    }
   ],
   "source": [
    "fieldList = ['original_gene_symbol', 'HGNC_gene_symbol', 'gene_id']\n",
    "for aField in fieldList:\n",
    "  field = mRNAseq_BQtable.schema[aField]\n",
    "  rdf = bq.Query(count_unique.q1,t=mRNAseq_BQtable,f=field).results().to_dataframe()\n",
    "  print \" There are %6d unique values in the field %s. \" % ( rdf.iloc[0]['n'], aField)"
   ]
  },
  {
   "cell_type": "markdown",
   "metadata": {},
   "source": [
    "Based on the counts, we can see that there are a few instances where the original gene symbol (from the underlying TCGA data file), or the HGNC gene symbol or the gene id (also from the original TCGA data file) is missing, but for the majority of genes, all three values should be available and for the most part the original gene symbol and the HGNC gene symbol that was added during ETL should all match up.  This next query will generate the complete list of genes for which none of the identifiers are null, and where the original gene symbol and the HGNC gene symbol match.  This list has over 18000 genes in it."
   ]
  },
  {
   "cell_type": "code",
   "execution_count": 8,
   "metadata": {
    "collapsed": false
   },
   "outputs": [
    {
     "data": {
      "text/html": [
       "\n",
       "    <div class=\"bqtv\" id=\"2_144734350912\"></div>\n",
       "    <br />(rows: 18153, time: 0.6s, cached, job: job_yC8YGjvb9VRSMzLk-53aTvqjywk)<br />\n",
       "    <script>\n",
       "      require(['extensions/charting', 'element!2_144734350912', 'style!/static/extensions/charting.css'],\n",
       "        function(charts, dom) {\n",
       "          charts.render(dom,\n",
       "            {\n",
       "              chartStyle:\"paged_table\",\n",
       "              dataName:\"0\",\n",
       "              fields:\"HGNC_gene_symbol,original_gene_symbol,gene_id\",\n",
       "              totalRows:18153,\n",
       "              rowsPerPage:25,\n",
       "            }, {}, {\"rows\": [{\"c\": [{\"v\": \"A1BG\"}, {\"v\": \"A1BG\"}, {\"v\": 1}]}, {\"c\": [{\"v\": \"A1CF\"}, {\"v\": \"A1CF\"}, {\"v\": 29974}]}, {\"c\": [{\"v\": \"A2M\"}, {\"v\": \"A2M\"}, {\"v\": 2}]}, {\"c\": [{\"v\": \"A2ML1\"}, {\"v\": \"A2ML1\"}, {\"v\": 144568}]}, {\"c\": [{\"v\": \"A4GALT\"}, {\"v\": \"A4GALT\"}, {\"v\": 53947}]}, {\"c\": [{\"v\": \"A4GNT\"}, {\"v\": \"A4GNT\"}, {\"v\": 51146}]}, {\"c\": [{\"v\": \"AAAS\"}, {\"v\": \"AAAS\"}, {\"v\": 8086}]}, {\"c\": [{\"v\": \"AACS\"}, {\"v\": \"AACS\"}, {\"v\": 65985}]}, {\"c\": [{\"v\": \"AADAC\"}, {\"v\": \"AADAC\"}, {\"v\": 13}]}, {\"c\": [{\"v\": \"AADACL2\"}, {\"v\": \"AADACL2\"}, {\"v\": 344752}]}, {\"c\": [{\"v\": \"AADACL3\"}, {\"v\": \"AADACL3\"}, {\"v\": 126767}]}, {\"c\": [{\"v\": \"AADACL4\"}, {\"v\": \"AADACL4\"}, {\"v\": 343066}]}, {\"c\": [{\"v\": \"AADAT\"}, {\"v\": \"AADAT\"}, {\"v\": 51166}]}, {\"c\": [{\"v\": \"AAGAB\"}, {\"v\": \"AAGAB\"}, {\"v\": 79719}]}, {\"c\": [{\"v\": \"AAK1\"}, {\"v\": \"AAK1\"}, {\"v\": 22848}]}, {\"c\": [{\"v\": \"AAMP\"}, {\"v\": \"AAMP\"}, {\"v\": 14}]}, {\"c\": [{\"v\": \"AANAT\"}, {\"v\": \"AANAT\"}, {\"v\": 15}]}, {\"c\": [{\"v\": \"AARS\"}, {\"v\": \"AARS\"}, {\"v\": 16}]}, {\"c\": [{\"v\": \"AARS2\"}, {\"v\": \"AARS2\"}, {\"v\": 57505}]}, {\"c\": [{\"v\": \"AARSD1\"}, {\"v\": \"AARSD1\"}, {\"v\": 80755}]}, {\"c\": [{\"v\": \"AASDH\"}, {\"v\": \"AASDH\"}, {\"v\": 132949}]}, {\"c\": [{\"v\": \"AASDHPPT\"}, {\"v\": \"AASDHPPT\"}, {\"v\": 60496}]}, {\"c\": [{\"v\": \"AASS\"}, {\"v\": \"AASS\"}, {\"v\": 10157}]}, {\"c\": [{\"v\": \"AATF\"}, {\"v\": \"AATF\"}, {\"v\": 26574}]}, {\"c\": [{\"v\": \"AATK\"}, {\"v\": \"AATK\"}, {\"v\": 9625}]}], \"cols\": [{\"type\": \"string\", \"id\": \"HGNC_gene_symbol\", \"label\": \"HGNC_gene_symbol\"}, {\"type\": \"string\", \"id\": \"original_gene_symbol\", \"label\": \"original_gene_symbol\"}, {\"type\": \"number\", \"id\": \"gene_id\", \"label\": \"gene_id\"}]});\n",
       "        }\n",
       "      );\n",
       "    </script>\n",
       "  "
      ],
      "text/plain": [
       "QueryResultsTable job_yC8YGjvb9VRSMzLk-53aTvqjywk"
      ]
     },
     "execution_count": 8,
     "metadata": {},
     "output_type": "execute_result"
    }
   ],
   "source": [
    "%%sql\n",
    "\n",
    "SELECT\n",
    "  HGNC_gene_symbol,\n",
    "  original_gene_symbol,\n",
    "  gene_id\n",
    "FROM\n",
    "  $mRNAseq_BQtable\n",
    "WHERE\n",
    "  ( original_gene_symbol IS NOT NULL\n",
    "    AND HGNC_gene_symbol IS NOT NULL\n",
    "    AND original_gene_symbol=HGNC_gene_symbol\n",
    "    AND gene_id IS NOT NULL )\n",
    "GROUP BY\n",
    "  original_gene_symbol,\n",
    "  HGNC_gene_symbol,\n",
    "  gene_id\n",
    "ORDER BY\n",
    "  HGNC_gene_symbol"
   ]
  },
  {
   "cell_type": "markdown",
   "metadata": {},
   "source": [
    "We might also want to know how often the gene symbols do not agree:"
   ]
  },
  {
   "cell_type": "code",
   "execution_count": 9,
   "metadata": {
    "collapsed": false
   },
   "outputs": [
    {
     "data": {
      "text/html": [
       "\n",
       "    <div class=\"bqtv\" id=\"3_144734352056\"></div>\n",
       "    <br />(rows: 2013, time: 0.6s, cached, job: job_LtSHL1noIzTdwHZ4T1brxC9ZG10)<br />\n",
       "    <script>\n",
       "      require(['extensions/charting', 'element!3_144734352056', 'style!/static/extensions/charting.css'],\n",
       "        function(charts, dom) {\n",
       "          charts.render(dom,\n",
       "            {\n",
       "              chartStyle:\"paged_table\",\n",
       "              dataName:\"1\",\n",
       "              fields:\"HGNC_gene_symbol,original_gene_symbol,gene_id\",\n",
       "              totalRows:2013,\n",
       "              rowsPerPage:25,\n",
       "            }, {}, {\"rows\": [{\"c\": [{\"v\": \"A1BG-AS1\"}, {\"v\": \"NCRNA00181\"}, {\"v\": 503538}]}, {\"c\": [{\"v\": \"A2M-AS1\"}, {\"v\": \"LOC144571\"}, {\"v\": 144571}]}, {\"c\": [{\"v\": \"AACSP1\"}, {\"v\": \"AACSL\"}, {\"v\": 729522}]}, {\"c\": [{\"v\": \"AADACP1\"}, {\"v\": \"LOC201651\"}, {\"v\": 201651}]}, {\"c\": [{\"v\": \"AAED1\"}, {\"v\": \"C9orf21\"}, {\"v\": 195827}]}, {\"c\": [{\"v\": \"AAMDC\"}, {\"v\": \"C11orf67\"}, {\"v\": 28971}]}, {\"c\": [{\"v\": \"AAR2\"}, {\"v\": \"C20orf4\"}, {\"v\": 25980}]}, {\"c\": [{\"v\": \"AARD\"}, {\"v\": \"C8orf85\"}, {\"v\": 441376}]}, {\"c\": [{\"v\": \"AATBC\"}, {\"v\": \"LOC284837\"}, {\"v\": 284837}]}, {\"c\": [{\"v\": \"AATK-AS1\"}, {\"v\": \"LOC388428\"}, {\"v\": 388428}]}, {\"c\": [{\"v\": \"ABHD11-AS1\"}, {\"v\": \"WBSCR26\"}, {\"v\": 171022}]}, {\"c\": [{\"v\": \"ABHD16A\"}, {\"v\": \"BAT5\"}, {\"v\": 7920}]}, {\"c\": [{\"v\": \"ABHD16B\"}, {\"v\": \"C20orf135\"}, {\"v\": 140701}]}, {\"c\": [{\"v\": \"ABHD17A\"}, {\"v\": \"FAM108A1\"}, {\"v\": 81926}]}, {\"c\": [{\"v\": \"ABHD17B\"}, {\"v\": \"FAM108B1\"}, {\"v\": 51104}]}, {\"c\": [{\"v\": \"ABHD17C\"}, {\"v\": \"FAM108C1\"}, {\"v\": 58489}]}, {\"c\": [{\"v\": \"ABHD18\"}, {\"v\": \"C4orf29\"}, {\"v\": 80167}]}, {\"c\": [{\"v\": \"ABRACL\"}, {\"v\": \"C6orf115\"}, {\"v\": 58527}]}, {\"c\": [{\"v\": \"ACKR1\"}, {\"v\": \"DARC\"}, {\"v\": 2532}]}, {\"c\": [{\"v\": \"ACKR2\"}, {\"v\": \"CCBP2\"}, {\"v\": 1238}]}, {\"c\": [{\"v\": \"ACKR3\"}, {\"v\": \"CXCR7\"}, {\"v\": 57007}]}, {\"c\": [{\"v\": \"ACKR4\"}, {\"v\": \"CCRL1\"}, {\"v\": 51554}]}, {\"c\": [{\"v\": \"ACSM6\"}, {\"v\": \"C10orf129\"}, {\"v\": 142827}]}, {\"c\": [{\"v\": \"ACTG1P4\"}, {\"v\": \"LOC648740\"}, {\"v\": 648740}]}, {\"c\": [{\"v\": \"ACTL10\"}, {\"v\": \"C20orf134\"}, {\"v\": 170487}]}], \"cols\": [{\"type\": \"string\", \"id\": \"HGNC_gene_symbol\", \"label\": \"HGNC_gene_symbol\"}, {\"type\": \"string\", \"id\": \"original_gene_symbol\", \"label\": \"original_gene_symbol\"}, {\"type\": \"number\", \"id\": \"gene_id\", \"label\": \"gene_id\"}]});\n",
       "        }\n",
       "      );\n",
       "    </script>\n",
       "  "
      ],
      "text/plain": [
       "QueryResultsTable job_LtSHL1noIzTdwHZ4T1brxC9ZG10"
      ]
     },
     "execution_count": 9,
     "metadata": {},
     "output_type": "execute_result"
    }
   ],
   "source": [
    "%%sql\n",
    "\n",
    "SELECT\n",
    "  HGNC_gene_symbol,\n",
    "  original_gene_symbol,\n",
    "  gene_id\n",
    "FROM\n",
    "  $mRNAseq_BQtable\n",
    "WHERE\n",
    "  ( original_gene_symbol IS NOT NULL\n",
    "    AND HGNC_gene_symbol IS NOT NULL\n",
    "    AND original_gene_symbol!=HGNC_gene_symbol\n",
    "    AND gene_id IS NOT NULL )\n",
    "GROUP BY\n",
    "  original_gene_symbol,\n",
    "  HGNC_gene_symbol,\n",
    "  gene_id\n",
    "ORDER BY\n",
    "  HGNC_gene_symbol"
   ]
  },
  {
   "cell_type": "markdown",
   "metadata": {},
   "source": [
    "BigQuery is not just a \"look-up\" service -- you can also use it to perform calculations.  In this next query, we take a look at the mean, standard deviation, and coefficient of variation for the expression of EGFR, within each tumor-type, as well as the number of primary tumor samples that went into each summary statistic."
   ]
  },
  {
   "cell_type": "code",
   "execution_count": 10,
   "metadata": {
    "collapsed": false
   },
   "outputs": [
    {
     "data": {
      "text/html": [
       "\n",
       "    <div class=\"bqtv\" id=\"4_144734352973\"></div>\n",
       "    <br />(rows: 32, time: 0.7s, cached, job: job_0ujYlAVHH7o6lviZlVkuPcTXxEg)<br />\n",
       "    <script>\n",
       "      require(['extensions/charting', 'element!4_144734352973', 'style!/static/extensions/charting.css'],\n",
       "        function(charts, dom) {\n",
       "          charts.render(dom,\n",
       "            {\n",
       "              chartStyle:\"paged_table\",\n",
       "              dataName:\"2\",\n",
       "              fields:\"Study,n,exp_mean,exp_sigma,exp_cv\",\n",
       "              totalRows:32,\n",
       "              rowsPerPage:25,\n",
       "            }, {}, {\"rows\": [{\"c\": [{\"v\": \"GBM\"}, {\"v\": 156}, {\"v\": 11.897793512106745}, {\"v\": 2.378987104073357}, {\"v\": 0.19995195761740106}]}, {\"c\": [{\"v\": \"SKCM\"}, {\"v\": 104}, {\"v\": 5.411892972210273}, {\"v\": 2.313414360197974}, {\"v\": 0.42746860887257193}]}, {\"c\": [{\"v\": \"BRCA\"}, {\"v\": 1095}, {\"v\": 7.374116964615464}, {\"v\": 2.0461438016478106}, {\"v\": 0.27747645059960213}]}, {\"c\": [{\"v\": \"PCPG\"}, {\"v\": 178}, {\"v\": 5.212378550412137}, {\"v\": 1.9404745508885528}, {\"v\": 0.37228196918566503}]}, {\"c\": [{\"v\": \"BLCA\"}, {\"v\": 407}, {\"v\": 9.274121609484565}, {\"v\": 1.8500883276330957}, {\"v\": 0.19948933230949076}]}, {\"c\": [{\"v\": \"THYM\"}, {\"v\": 120}, {\"v\": 8.61408054406098}, {\"v\": 1.7434012541688708}, {\"v\": 0.20238970894820194}]}, {\"c\": [{\"v\": \"CESC\"}, {\"v\": 301}, {\"v\": 9.631475228456473}, {\"v\": 1.7427562751388774}, {\"v\": 0.18094385686523426}]}, {\"c\": [{\"v\": \"LGG\"}, {\"v\": 513}, {\"v\": 11.153434750023507}, {\"v\": 1.7224459491243163}, {\"v\": 0.15443188468204255}]}, {\"c\": [{\"v\": \"UCEC\"}, {\"v\": 177}, {\"v\": 7.504843838052544}, {\"v\": 1.7168570765920876}, {\"v\": 0.2287665291430768}]}, {\"c\": [{\"v\": \"ESCA\"}, {\"v\": 182}, {\"v\": 11.663587464809446}, {\"v\": 1.6473644816858866}, {\"v\": 0.14123994754240055}]}, {\"c\": [{\"v\": \"LUSC\"}, {\"v\": 487}, {\"v\": 10.933294533182941}, {\"v\": 1.549608081021191}, {\"v\": 0.14173294941593997}]}, {\"c\": [{\"v\": \"SARC\"}, {\"v\": 254}, {\"v\": 8.601371120107117}, {\"v\": 1.5480632262190215}, {\"v\": 0.17997865742592706}]}, {\"c\": [{\"v\": \"TGCT\"}, {\"v\": 149}, {\"v\": 6.9857590180914935}, {\"v\": 1.512405862180127}, {\"v\": 0.21649843034426855}]}, {\"c\": [{\"v\": \"LUAD\"}, {\"v\": 521}, {\"v\": 9.93598692278908}, {\"v\": 1.5032536310197708}, {\"v\": 0.15129384153796774}]}, {\"c\": [{\"v\": \"KICH\"}, {\"v\": 65}, {\"v\": 9.457347089787135}, {\"v\": 1.4986680519711901}, {\"v\": 0.15846600930926835}]}, {\"c\": [{\"v\": \"HNSC\"}, {\"v\": 514}, {\"v\": 11.394738914455756}, {\"v\": 1.4921169333488429}, {\"v\": 0.13094788257551845}]}, {\"c\": [{\"v\": \"DLBC\"}, {\"v\": 48}, {\"v\": 4.419361662059623}, {\"v\": 1.4740552888799463}, {\"v\": 0.3335448423546693}]}, {\"c\": [{\"v\": \"CHOL\"}, {\"v\": 36}, {\"v\": 9.196454544646919}, {\"v\": 1.4618565770759488}, {\"v\": 0.15895871283644497}]}, {\"c\": [{\"v\": \"ACC\"}, {\"v\": 78}, {\"v\": 7.7476719163928855}, {\"v\": 1.4525845197501692}, {\"v\": 0.18748658118533945}]}, {\"c\": [{\"v\": \"UCS\"}, {\"v\": 57}, {\"v\": 8.098531271174553}, {\"v\": 1.4485830275811271}, {\"v\": 0.17886984430585956}]}, {\"c\": [{\"v\": \"MESO\"}, {\"v\": 87}, {\"v\": 9.551977523482005}, {\"v\": 1.4336993467530108}, {\"v\": 0.15009450589979834}]}, {\"c\": [{\"v\": \"LIHC\"}, {\"v\": 368}, {\"v\": 9.59995875853633}, {\"v\": 1.3745289702008598}, {\"v\": 0.1431807161649129}]}, {\"c\": [{\"v\": \"STAD\"}, {\"v\": 401}, {\"v\": 10.241336275305214}, {\"v\": 1.3587713873067366}, {\"v\": 0.1326752047565436}]}, {\"c\": [{\"v\": \"OV\"}, {\"v\": 302}, {\"v\": 8.538589198083253}, {\"v\": 1.2016091335101438}, {\"v\": 0.14072689359266535}]}, {\"c\": [{\"v\": \"KIRP\"}, {\"v\": 285}, {\"v\": 9.363293633285345}, {\"v\": 1.199750760167705}, {\"v\": 0.12813341193346114}]}], \"cols\": [{\"type\": \"string\", \"id\": \"Study\", \"label\": \"Study\"}, {\"type\": \"number\", \"id\": \"n\", \"label\": \"n\"}, {\"type\": \"number\", \"id\": \"exp_mean\", \"label\": \"exp_mean\"}, {\"type\": \"number\", \"id\": \"exp_sigma\", \"label\": \"exp_sigma\"}, {\"type\": \"number\", \"id\": \"exp_cv\", \"label\": \"exp_cv\"}]});\n",
       "        }\n",
       "      );\n",
       "    </script>\n",
       "  "
      ],
      "text/plain": [
       "QueryResultsTable job_0ujYlAVHH7o6lviZlVkuPcTXxEg"
      ]
     },
     "execution_count": 10,
     "metadata": {},
     "output_type": "execute_result"
    }
   ],
   "source": [
    "%%sql\n",
    "\n",
    "SELECT\n",
    "  Study,\n",
    "  n,\n",
    "  exp_mean,\n",
    "  exp_sigma,\n",
    "  (exp_sigma/exp_mean) AS exp_cv\n",
    "FROM (\n",
    "  SELECT\n",
    "    Study,\n",
    "    AVG(LOG2(normalized_count+1)) AS exp_mean,\n",
    "    STDDEV_POP(LOG2(normalized_count+1)) AS exp_sigma,\n",
    "    COUNT(AliquotBarcode) AS n\n",
    "  FROM\n",
    "    $mRNAseq_BQtable\n",
    "  WHERE\n",
    "    ( SampleTypeLetterCode=\"TP\"\n",
    "      AND HGNC_gene_symbol=\"EGFR\" )\n",
    "  GROUP BY\n",
    "    Study )\n",
    "ORDER BY\n",
    "  exp_sigma DESC"
   ]
  },
  {
   "cell_type": "markdown",
   "metadata": {},
   "source": [
    "We can also easily move the gene-symbol out of the WHERE clause and into the SELECT and GROUP BY clauses and have BigQuery do this same calculation over *all* genes and all tumor types.  This time we will use the `--module` option to define the query and then call it in the next cell from python."
   ]
  },
  {
   "cell_type": "code",
   "execution_count": 11,
   "metadata": {
    "collapsed": true
   },
   "outputs": [],
   "source": [
    "%%sql --module highVar\n",
    "\n",
    "SELECT\n",
    "  Study,\n",
    "  HGNC_gene_symbol,\n",
    "  n,\n",
    "  exp_mean,\n",
    "  exp_sigma,\n",
    "  (exp_sigma/exp_mean) AS exp_cv\n",
    "FROM (\n",
    "  SELECT\n",
    "    Study,\n",
    "    HGNC_gene_symbol,\n",
    "    AVG(LOG2(normalized_count+1)) AS exp_mean,\n",
    "    STDDEV_POP(LOG2(normalized_count+1)) AS exp_sigma,\n",
    "    COUNT(AliquotBarcode) AS n\n",
    "  FROM\n",
    "    $t\n",
    "  WHERE\n",
    "    ( SampleTypeLetterCode=\"TP\" )\n",
    "  GROUP BY\n",
    "    Study,\n",
    "    HGNC_gene_symbol )\n",
    "ORDER BY\n",
    "  exp_sigma DESC"
   ]
  },
  {
   "cell_type": "markdown",
   "metadata": {},
   "source": [
    "Once we have defined a query, we can put it into a python object and print out the SQL statement to make sure it looks as expected:"
   ]
  },
  {
   "cell_type": "code",
   "execution_count": 12,
   "metadata": {
    "collapsed": false
   },
   "outputs": [
    {
     "name": "stdout",
     "output_type": "stream",
     "text": [
      "SELECT\n",
      "  Study,\n",
      "  HGNC_gene_symbol,\n",
      "  n,\n",
      "  exp_mean,\n",
      "  exp_sigma,\n",
      "  (exp_sigma/exp_mean) AS exp_cv\n",
      "FROM (\n",
      "  SELECT\n",
      "    Study,\n",
      "    HGNC_gene_symbol,\n",
      "    AVG(LOG2(normalized_count+1)) AS exp_mean,\n",
      "    STDDEV_POP(LOG2(normalized_count+1)) AS exp_sigma,\n",
      "    COUNT(AliquotBarcode) AS n\n",
      "  FROM\n",
      "    [isb-cgc:tcga_201510_alpha.mRNA_UNC_HiSeq_RSEM]\n",
      "  WHERE\n",
      "    ( SampleTypeLetterCode=\"TP\" )\n",
      "  GROUP BY\n",
      "    Study,\n",
      "    HGNC_gene_symbol )\n",
      "ORDER BY\n",
      "  exp_sigma DESC\n"
     ]
    }
   ],
   "source": [
    "q = bq.Query(highVar,t=mRNAseq_BQtable)\n",
    "print q.sql"
   ]
  },
  {
   "cell_type": "markdown",
   "metadata": {},
   "source": [
    "And then we can run it and save the results in another python object:"
   ]
  },
  {
   "cell_type": "code",
   "execution_count": 13,
   "metadata": {
    "collapsed": false
   },
   "outputs": [],
   "source": [
    "r = bq.Query(highVar,t=mRNAseq_BQtable).results()"
   ]
  },
  {
   "cell_type": "code",
   "execution_count": 14,
   "metadata": {
    "collapsed": false
   },
   "outputs": [
    {
     "data": {
      "text/html": [
       "\n",
       "    <div class=\"bqtv\" id=\"5_144734356495\"></div>\n",
       "    <br />(rows: 645856, time: 0.5s, cached, job: job_xfyQNUmO3iIwiAEMo948wnNBgu4)<br />\n",
       "    <script>\n",
       "      require(['extensions/charting', 'element!5_144734356495', 'style!/static/extensions/charting.css'],\n",
       "        function(charts, dom) {\n",
       "          charts.render(dom,\n",
       "            {\n",
       "              chartStyle:\"paged_table\",\n",
       "              dataName:\"3\",\n",
       "              fields:\"Study,HGNC_gene_symbol,n,exp_mean,exp_sigma,exp_cv\",\n",
       "              totalRows:645856,\n",
       "              rowsPerPage:25,\n",
       "            }, {}, {\"rows\": [{\"c\": [{\"v\": \"SKCM\"}, {\"v\": \"KRT1\"}, {\"v\": 104}, {\"v\": 7.284892548815187}, {\"v\": 6.3749560858470415}, {\"v\": 0.8750926720098106}]}, {\"c\": [{\"v\": \"SKCM\"}, {\"v\": \"KRT16\"}, {\"v\": 104}, {\"v\": 9.21163530342226}, {\"v\": 6.234682451663787}, {\"v\": 0.6768268875503038}]}, {\"c\": [{\"v\": \"SKCM\"}, {\"v\": \"KRT6A\"}, {\"v\": 104}, {\"v\": 9.866586067358442}, {\"v\": 6.225796998751478}, {\"v\": 0.6309980935906735}]}, {\"c\": [{\"v\": \"PAAD\"}, {\"v\": \"PNLIP\"}, {\"v\": 156}, {\"v\": 8.743528828146415}, {\"v\": 6.204216380171973}, {\"v\": 0.7095780779266025}]}, {\"c\": [{\"v\": \"ESCA\"}, {\"v\": \"KRT5\"}, {\"v\": 182}, {\"v\": 12.25297215448632}, {\"v\": 6.059923871903244}, {\"v\": 0.49456766860311974}]}, {\"c\": [{\"v\": \"SKCM\"}, {\"v\": \"KRT6C\"}, {\"v\": 104}, {\"v\": 8.383869440211264}, {\"v\": 6.050728388028737}, {\"v\": 0.7217107125986286}]}, {\"c\": [{\"v\": \"PAAD\"}, {\"v\": \"CTRB2\"}, {\"v\": 156}, {\"v\": 9.897341250732248}, {\"v\": 6.00270989416718}, {\"v\": 0.6064972139586551}]}, {\"c\": [{\"v\": \"PAAD\"}, {\"v\": \"CELA3A\"}, {\"v\": 156}, {\"v\": 9.12960579776496}, {\"v\": 5.943389990213032}, {\"v\": 0.6510018199984109}]}, {\"c\": [{\"v\": \"PAAD\"}, {\"v\": \"CTRB1\"}, {\"v\": 156}, {\"v\": 8.924080723218617}, {\"v\": 5.91047724201892}, {\"v\": 0.6623065641529975}]}, {\"c\": [{\"v\": \"PAAD\"}, {\"v\": \"CELA2A\"}, {\"v\": 156}, {\"v\": 6.935343226230813}, {\"v\": 5.895770413821995}, {\"v\": 0.8501050663971537}]}, {\"c\": [{\"v\": \"ESCA\"}, {\"v\": \"KRT14\"}, {\"v\": 182}, {\"v\": 10.82141401342342}, {\"v\": 5.883874893753888}, {\"v\": 0.5437251440944074}]}, {\"c\": [{\"v\": \"SKCM\"}, {\"v\": \"KRT6B\"}, {\"v\": 104}, {\"v\": 9.615844270491904}, {\"v\": 5.845381717507767}, {\"v\": 0.6078906389369743}]}, {\"c\": [{\"v\": \"PAAD\"}, {\"v\": \"CPA1\"}, {\"v\": 156}, {\"v\": 9.595209241545872}, {\"v\": 5.839199284756061}, {\"v\": 0.6085536164728093}]}, {\"c\": [{\"v\": \"SKCM\"}, {\"v\": \"KRT14\"}, {\"v\": 104}, {\"v\": 10.719161101261403}, {\"v\": 5.835161560727378}, {\"v\": 0.5443673721855632}]}, {\"c\": [{\"v\": \"THYM\"}, {\"v\": \"RPS4Y1\"}, {\"v\": 120}, {\"v\": 7.616601026494626}, {\"v\": 5.808680336918117}, {\"v\": 0.762634187705567}]}, {\"c\": [{\"v\": \"SKCM\"}, {\"v\": \"KRT5\"}, {\"v\": 104}, {\"v\": 10.207007236332352}, {\"v\": 5.764358824783327}, {\"v\": 0.5647452471930071}]}, {\"c\": [{\"v\": \"ESCA\"}, {\"v\": \"KRT6A\"}, {\"v\": 182}, {\"v\": 12.019298815104142}, {\"v\": 5.74642757063633}, {\"v\": 0.47810006715325515}]}, {\"c\": [{\"v\": \"CHOL\"}, {\"v\": \"XIST\"}, {\"v\": 36}, {\"v\": 8.157625879927602}, {\"v\": 5.742163411535592}, {\"v\": 0.7039012938390051}]}, {\"c\": [{\"v\": \"SKCM\"}, {\"v\": \"S100A7\"}, {\"v\": 104}, {\"v\": 7.270947629817899}, {\"v\": 5.670007623596735}, {\"v\": 0.7798168701345385}]}, {\"c\": [{\"v\": \"PAAD\"}, {\"v\": \"CELA3B\"}, {\"v\": 156}, {\"v\": 7.402633867254031}, {\"v\": 5.645346794514193}, {\"v\": 0.7626132665410758}]}, {\"c\": [{\"v\": \"PAAD\"}, {\"v\": \"XIST\"}, {\"v\": 156}, {\"v\": 6.966152543049112}, {\"v\": 5.6318186627592155}, {\"v\": 0.8084546854172313}]}, {\"c\": [{\"v\": \"PAAD\"}, {\"v\": \"CPB1\"}, {\"v\": 156}, {\"v\": 10.11212407032216}, {\"v\": 5.613000501674684}, {\"v\": 0.5550763086608232}]}, {\"c\": [{\"v\": \"PAAD\"}, {\"v\": \"CLPS\"}, {\"v\": 156}, {\"v\": 7.584261126624699}, {\"v\": 5.57976519341292}, {\"v\": 0.7357032017034651}]}, {\"c\": [{\"v\": \"UCS\"}, {\"v\": \"MYL1\"}, {\"v\": 57}, {\"v\": 5.396353010227063}, {\"v\": 5.578749737081622}, {\"v\": 1.0337999990936255}]}, {\"c\": [{\"v\": \"ESCA\"}, {\"v\": \"MUC17\"}, {\"v\": 182}, {\"v\": 6.611385190658279}, {\"v\": 5.562307124017859}, {\"v\": 0.841322501051256}]}], \"cols\": [{\"type\": \"string\", \"id\": \"Study\", \"label\": \"Study\"}, {\"type\": \"string\", \"id\": \"HGNC_gene_symbol\", \"label\": \"HGNC_gene_symbol\"}, {\"type\": \"number\", \"id\": \"n\", \"label\": \"n\"}, {\"type\": \"number\", \"id\": \"exp_mean\", \"label\": \"exp_mean\"}, {\"type\": \"number\", \"id\": \"exp_sigma\", \"label\": \"exp_sigma\"}, {\"type\": \"number\", \"id\": \"exp_cv\", \"label\": \"exp_cv\"}]});\n",
       "        }\n",
       "      );\n",
       "    </script>\n",
       "  "
      ],
      "text/plain": [
       "QueryResultsTable job_xfyQNUmO3iIwiAEMo948wnNBgu4"
      ]
     },
     "execution_count": 14,
     "metadata": {},
     "output_type": "execute_result"
    }
   ],
   "source": [
    "r"
   ]
  },
  {
   "cell_type": "markdown",
   "metadata": {},
   "source": [
    "Since the result of the previous query is quite large (over 600,000 rows representing ~20,000 genes x ~30 tumor types), we might want to put those results into one or more subsequent queries that further refine these results, for example:"
   ]
  },
  {
   "cell_type": "code",
   "execution_count": 15,
   "metadata": {
    "collapsed": true
   },
   "outputs": [],
   "source": [
    "%%sql --module hv_genes\n",
    "\n",
    "SELECT *\n",
    "FROM ( $hv_result )\n",
    "HAVING\n",
    "  ( exp_mean > 6.\n",
    "    AND n >= 200\n",
    "    AND exp_cv > 0.5 )\n",
    "ORDER BY\n",
    "  exp_cv DESC"
   ]
  },
  {
   "cell_type": "code",
   "execution_count": 16,
   "metadata": {
    "collapsed": false
   },
   "outputs": [
    {
     "data": {
      "text/html": [
       "\n",
       "    <div class=\"bqtv\" id=\"6_144734358080\"></div>\n",
       "    <br />(rows: 321, time: 2.1s,    29MB processed, job: job_Wd3awIh855e3D1hmtDFFRna6Cbg)<br />\n",
       "    <script>\n",
       "      require(['extensions/charting', 'element!6_144734358080', 'style!/static/extensions/charting.css'],\n",
       "        function(charts, dom) {\n",
       "          charts.render(dom,\n",
       "            {\n",
       "              chartStyle:\"paged_table\",\n",
       "              dataName:\"4\",\n",
       "              fields:\"Study,HGNC_gene_symbol,n,exp_mean,exp_sigma,exp_cv\",\n",
       "              totalRows:321,\n",
       "              rowsPerPage:25,\n",
       "            }, {}, {\"rows\": [{\"c\": [{\"v\": \"SARC\"}, {\"v\": \"RPS4Y1\"}, {\"v\": 254}, {\"v\": 6.123702255466708}, {\"v\": 5.5460500183383745}, {\"v\": 0.9056694442299744}]}, {\"c\": [{\"v\": \"COAD\"}, {\"v\": \"XIST\"}, {\"v\": 288}, {\"v\": 6.202007139678314}, {\"v\": 5.456102782661049}, {\"v\": 0.879731780338461}]}, {\"c\": [{\"v\": \"COAD\"}, {\"v\": \"RPS4Y1\"}, {\"v\": 288}, {\"v\": 6.152625854535016}, {\"v\": 5.143234067106527}, {\"v\": 0.8359413019264808}]}, {\"c\": [{\"v\": \"BLCA\"}, {\"v\": \"GSTM1\"}, {\"v\": 407}, {\"v\": 6.007832727921291}, {\"v\": 5.009420083233672}, {\"v\": 0.8338148397428718}]}, {\"c\": [{\"v\": \"KIRC\"}, {\"v\": \"XIST\"}, {\"v\": 519}, {\"v\": 6.440970238483226}, {\"v\": 5.275561973913134}, {\"v\": 0.8190632433593525}]}, {\"c\": [{\"v\": \"BRCA\"}, {\"v\": \"CPB1\"}, {\"v\": 1095}, {\"v\": 6.531856364546167}, {\"v\": 5.1531081072532405}, {\"v\": 0.7889193851878704}]}, {\"c\": [{\"v\": \"LGG\"}, {\"v\": \"RPS4Y1\"}, {\"v\": 513}, {\"v\": 6.739613553817372}, {\"v\": 5.265968293957833}, {\"v\": 0.7813457332394297}]}, {\"c\": [{\"v\": \"LGG\"}, {\"v\": \"XIST\"}, {\"v\": 513}, {\"v\": 7.152500122374204}, {\"v\": 5.548177359114455}, {\"v\": 0.7756976251924608}]}, {\"c\": [{\"v\": \"HNSC\"}, {\"v\": \"ACTC1\"}, {\"v\": 514}, {\"v\": 6.033464374035567}, {\"v\": 4.658517358669184}, {\"v\": 0.7721131790744741}]}, {\"c\": [{\"v\": \"BLCA\"}, {\"v\": \"KRT6C\"}, {\"v\": 407}, {\"v\": 6.02573624617645}, {\"v\": 4.563267794517129}, {\"v\": 0.7572963050635828}]}, {\"c\": [{\"v\": \"LIHC\"}, {\"v\": \"GSTM1\"}, {\"v\": 368}, {\"v\": 6.1010095826309945}, {\"v\": 4.614933754906733}, {\"v\": 0.7564213254221104}]}, {\"c\": [{\"v\": \"SARC\"}, {\"v\": \"PLA2G2A\"}, {\"v\": 254}, {\"v\": 6.070768026897904}, {\"v\": 4.563718152739879}, {\"v\": 0.751753012554474}]}, {\"c\": [{\"v\": \"STAD\"}, {\"v\": \"REG3A\"}, {\"v\": 401}, {\"v\": 6.3216021917045095}, {\"v\": 4.668774275356298}, {\"v\": 0.7385428778613866}]}, {\"c\": [{\"v\": \"LUSC\"}, {\"v\": \"MAGEA6\"}, {\"v\": 487}, {\"v\": 6.0877014740552875}, {\"v\": 4.455105396255073}, {\"v\": 0.731820608359649}]}, {\"c\": [{\"v\": \"SARC\"}, {\"v\": \"XIST\"}, {\"v\": 254}, {\"v\": 6.941547724597721}, {\"v\": 5.017943702370071}, {\"v\": 0.7228854286470922}]}, {\"c\": [{\"v\": \"KIRC\"}, {\"v\": \"FGB\"}, {\"v\": 519}, {\"v\": 6.356417672131642}, {\"v\": 4.566329950026763}, {\"v\": 0.718381041895164}]}, {\"c\": [{\"v\": \"HNSC\"}, {\"v\": \"ACTA1\"}, {\"v\": 514}, {\"v\": 6.245711169957681}, {\"v\": 4.451460021674811}, {\"v\": 0.7127226829006524}]}, {\"c\": [{\"v\": \"LIHC\"}, {\"v\": \"FXYD2\"}, {\"v\": 368}, {\"v\": 6.027033337002766}, {\"v\": 4.242156727904453}, {\"v\": 0.7038548636955226}]}, {\"c\": [{\"v\": \"BLCA\"}, {\"v\": \"KRT6B\"}, {\"v\": 407}, {\"v\": 6.851125983363966}, {\"v\": 4.809595378953251}, {\"v\": 0.7020153169905212}]}, {\"c\": [{\"v\": \"CESC\"}, {\"v\": \"SPRR2E\"}, {\"v\": 301}, {\"v\": 6.110424186393523}, {\"v\": 4.258560797141173}, {\"v\": 0.6969337426072622}]}, {\"c\": [{\"v\": \"BLCA\"}, {\"v\": \"CLCA4\"}, {\"v\": 407}, {\"v\": 6.09828095619863}, {\"v\": 4.247790111877636}, {\"v\": 0.6965553313118424}]}, {\"c\": [{\"v\": \"LIHC\"}, {\"v\": \"CYP1A2\"}, {\"v\": 368}, {\"v\": 6.301719385190642}, {\"v\": 4.387509345990114}, {\"v\": 0.6962400382824062}]}, {\"c\": [{\"v\": \"KIRC\"}, {\"v\": \"KDM5D\"}, {\"v\": 519}, {\"v\": 6.05827515778301}, {\"v\": 4.211591350871325}, {\"v\": 0.6951799383791165}]}, {\"c\": [{\"v\": \"LIHC\"}, {\"v\": \"EPCAM\"}, {\"v\": 368}, {\"v\": 6.020290660985435}, {\"v\": 4.182678535487104}, {\"v\": 0.6947635539581172}]}, {\"c\": [{\"v\": \"LUAD\"}, {\"v\": \"XIST\"}, {\"v\": 521}, {\"v\": 7.73992897236728}, {\"v\": 5.337898119921808}, {\"v\": 0.6896572486619598}]}], \"cols\": [{\"type\": \"string\", \"id\": \"Study\", \"label\": \"Study\"}, {\"type\": \"string\", \"id\": \"HGNC_gene_symbol\", \"label\": \"HGNC_gene_symbol\"}, {\"type\": \"number\", \"id\": \"n\", \"label\": \"n\"}, {\"type\": \"number\", \"id\": \"exp_mean\", \"label\": \"exp_mean\"}, {\"type\": \"number\", \"id\": \"exp_sigma\", \"label\": \"exp_sigma\"}, {\"type\": \"number\", \"id\": \"exp_cv\", \"label\": \"exp_cv\"}]});\n",
       "        }\n",
       "      );\n",
       "    </script>\n",
       "  "
      ],
      "text/plain": [
       "QueryResultsTable job_Wd3awIh855e3D1hmtDFFRna6Cbg"
      ]
     },
     "execution_count": 16,
     "metadata": {},
     "output_type": "execute_result"
    }
   ],
   "source": [
    "bq.Query(hv_genes,hv_result=r).results()"
   ]
  }
 ],
 "metadata": {
  "kernelspec": {
   "display_name": "Python 2",
   "language": "python",
   "name": "python2"
  },
  "language_info": {
   "codemirror_mode": {
    "name": "ipython",
    "version": 2
   },
   "file_extension": ".py",
   "mimetype": "text/x-python",
   "name": "python",
   "nbconvert_exporter": "python",
   "pygments_lexer": "ipython2",
   "version": "2.7.9"
  }
 },
 "nbformat": 4,
 "nbformat_minor": 0
}
