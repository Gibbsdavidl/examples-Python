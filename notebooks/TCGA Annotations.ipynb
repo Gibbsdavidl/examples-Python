{
 "cells": [
  {
   "cell_type": "markdown",
   "metadata": {},
   "source": [
    "# TCGA Annotations\n",
    "\n",
    "The goal of this notebook is to introduce you to the TCGA Annotations BigQuery table.  You can find more detail about [Annotations](https://wiki.nci.nih.gov/display/TCGA/Introduction+to+Annotations) on the [TCGA Wiki](https://wiki.nci.nih.gov/display/TCGA/TCGA+Home), but the key things to know are:\n",
    "* an annotation can refer to any \"type\" of TCGA \"item\" (*eg* patient, sample, portion, slide, analyte or aliquot), and\n",
    "* each annotation has a \"classification\" and a \"category\", both of which are drawn from controlled vocabularies.\n",
    "\n",
    "The current set of annotation classifications includes: Redaction, Notification, CenterNotification, and Observation.  The authority for Redactions and Notifications is the BCR (Biospecimen Core Resource), while CenterNotifications can come from any of the data-generating centers (GSC or GCC), and Observations from any authorized TCGA personnel.  Within each classification type, there are several categories.  \n",
    "\n",
    "We will look at these further by querying directly on the Annotations table.\n",
    "\n",
    "Note that annotations about patients, samples, and aliquots are *separate* from the clinical, biospecimen, and molecular data, and most patients, samples, and aliquots do not in fact have any annotations associated with them.  It can be important, however, when creating a cohort or analyzing the molecular data associated with a cohort, to check for the existence of annotations.\n",
    "\n",
    "As usual, in order to work with BigQuery, you need to import the python bigquery module (gcp.bigquery) and you need to know the name(s) of the table(s) you are going to be working with:"
   ]
  },
  {
   "cell_type": "code",
   "execution_count": 16,
   "metadata": {
    "collapsed": true
   },
   "outputs": [],
   "source": [
    "import gcp.bigquery as bq\n",
    "annotations_BQtable = bq.Table('isb-cgc:tcga_201510_alpha.Annotations')"
   ]
  },
  {
   "cell_type": "markdown",
   "metadata": {},
   "source": [
    "### Schema\n",
    "Let's start by looking at the schema to see what information is available from this table:"
   ]
  },
  {
   "cell_type": "code",
   "execution_count": 17,
   "metadata": {
    "collapsed": false
   },
   "outputs": [
    {
     "data": {
      "text/html": [
       "\n",
       "    <div class=\"bqsv\" id=\"13_144736362127\"></div>\n",
       "    <script>\n",
       "      require(['extensions/bigquery', 'element!13_144736362127', 'style!/static/extensions/bigquery.css'],\n",
       "        function(bq, dom) {\n",
       "          bq.renderSchema(dom, [{\"type\": \"INTEGER\", \"name\": \"annotationId\"}, {\"type\": \"INTEGER\", \"name\": \"annotationCategoryId\"}, {\"type\": \"STRING\", \"name\": \"annotationCategoryName\"}, {\"type\": \"STRING\", \"name\": \"annotationClassification\"}, {\"type\": \"STRING\", \"name\": \"annotationNoteText\"}, {\"type\": \"STRING\", \"name\": \"Study\"}, {\"type\": \"STRING\", \"name\": \"itemTypeName\"}, {\"type\": \"STRING\", \"name\": \"itemBarcode\"}, {\"type\": \"STRING\", \"name\": \"AliquotBarcode\"}, {\"type\": \"STRING\", \"name\": \"ParticipantBarcode\"}, {\"type\": \"STRING\", \"name\": \"SampleBarcode\"}, {\"type\": \"STRING\", \"name\": \"dateAdded\"}, {\"type\": \"STRING\", \"name\": \"dateCreated\"}, {\"type\": \"STRING\", \"name\": \"dateEdited\"}]);\n",
       "        }\n",
       "      );\n",
       "    </script>\n",
       "    "
      ],
      "text/plain": [
       "<IPython.core.display.HTML object>"
      ]
     },
     "execution_count": 17,
     "metadata": {},
     "output_type": "execute_result"
    }
   ],
   "source": [
    "%bigquery schema --table $annotations_BQtable"
   ]
  },
  {
   "cell_type": "markdown",
   "metadata": {},
   "source": [
    "### Item Types\n",
    "\n",
    "Most of the schema fields come directly from the TCGA Annotations.  First and foremost, an annotation is associated with an **itemType**, as described above.  This can be a patient, an aliquot, etc.  Let's see what the breakdown is of annotations according to item-type:"
   ]
  },
  {
   "cell_type": "code",
   "execution_count": 18,
   "metadata": {
    "collapsed": false
   },
   "outputs": [
    {
     "data": {
      "text/html": [
       "\n",
       "    <div class=\"bqtv\" id=\"14_144736362254\"></div>\n",
       "    <br />(rows: 7, time: 0.7s, cached, job: job_Rz-tHN01MKBUkmMqJotDXqbiblo)<br />\n",
       "    <script>\n",
       "      require(['extensions/charting', 'element!14_144736362254', 'style!/static/extensions/charting.css'],\n",
       "        function(charts, dom) {\n",
       "          charts.render(dom,\n",
       "            {\n",
       "              chartStyle:\"table\",\n",
       "              dataName:\"0\",\n",
       "              fields:\"itemTypeName,n\",\n",
       "              totalRows:7,\n",
       "              rowsPerPage:25,\n",
       "            }, {}, {\"rows\": [{\"c\": [{\"v\": \"Aliquot\"}, {\"v\": 12928}]}, {\"c\": [{\"v\": \"Shipped Portion\"}, {\"v\": 1749}]}, {\"c\": [{\"v\": \"Patient\"}, {\"v\": 1378}]}, {\"c\": [{\"v\": \"Analyte\"}, {\"v\": 789}]}, {\"c\": [{\"v\": \"Slide\"}, {\"v\": 552}]}, {\"c\": [{\"v\": \"Sample\"}, {\"v\": 114}]}, {\"c\": [{\"v\": \"Portion\"}, {\"v\": 9}]}], \"cols\": [{\"type\": \"string\", \"id\": \"itemTypeName\", \"label\": \"itemTypeName\"}, {\"type\": \"number\", \"id\": \"n\", \"label\": \"n\"}]});\n",
       "        }\n",
       "      );\n",
       "    </script>\n",
       "  "
      ],
      "text/plain": [
       "QueryResultsTable job_Rz-tHN01MKBUkmMqJotDXqbiblo"
      ]
     },
     "execution_count": 18,
     "metadata": {},
     "output_type": "execute_result"
    }
   ],
   "source": [
    "%%sql\n",
    "\n",
    "SELECT itemTypeName, COUNT(*) AS n\n",
    "FROM $annotations_BQtable\n",
    "GROUP BY itemTypeName\n",
    "ORDER BY n DESC"
   ]
  },
  {
   "cell_type": "markdown",
   "metadata": {},
   "source": [
    "The length of the barcode in the ``itemBarcode`` field will depend on the value in the ``itemTypeName`` field:  if the itemType is \"Patient\", then the barcode will be something like ``TCGA-E2-A15J``, whereas if the itemType is \"Aliquot\", the barcode will be a full-length barcode, *eg* ``TCGA-E2-A15J-10A-01D-a12N-01``.  "
   ]
  },
  {
   "cell_type": "markdown",
   "metadata": {},
   "source": [
    "### Annotation Classifications and Categories\n",
    "\n",
    "The next most important pieces of information about an annotation are the \"classification\" and \"category\".  Each of these comes from a controlled vocabulary and each \"classification\" has a specific set of allowed \"categories\".\n",
    "\n",
    "One important thing to understand is that if an aliquot carries some sort of disqualifying annotation, in general all other data from other samples or aliquots associated with that same patient should still be usable.  On the other hand, if a *patient* carries some sort of disqualifying annotation, then that information should be considered prior to using *any* of the samples or aliquots derived from that patient."
   ]
  },
  {
   "cell_type": "markdown",
   "metadata": {},
   "source": [
    "To illustrate this, let's look at the most frequent annotation classifications and categories when the itemType is Patient:"
   ]
  },
  {
   "cell_type": "code",
   "execution_count": 19,
   "metadata": {
    "collapsed": false
   },
   "outputs": [
    {
     "data": {
      "text/html": [
       "\n",
       "    <div class=\"bqtv\" id=\"15_144736362416\"></div>\n",
       "    <br />(rows: 6, time: 0.8s, cached, job: job_09RCrEKbmkqg-oQQ-Xyv8IH1tIM)<br />\n",
       "    <script>\n",
       "      require(['extensions/charting', 'element!15_144736362416', 'style!/static/extensions/charting.css'],\n",
       "        function(charts, dom) {\n",
       "          charts.render(dom,\n",
       "            {\n",
       "              chartStyle:\"table\",\n",
       "              dataName:\"1\",\n",
       "              fields:\"annotationClassification,annotationCategoryName,n\",\n",
       "              totalRows:6,\n",
       "              rowsPerPage:25,\n",
       "            }, {}, {\"rows\": [{\"c\": [{\"v\": \"Notification\"}, {\"v\": \"Prior malignancy\"}, {\"v\": 407}]}, {\"c\": [{\"v\": \"Notification\"}, {\"v\": \"Alternate sample pipeline\"}, {\"v\": 200}]}, {\"c\": [{\"v\": \"Notification\"}, {\"v\": \"History of unacceptable prior treatment related to a prior/other malignancy\"}, {\"v\": 139}]}, {\"c\": [{\"v\": \"Notification\"}, {\"v\": \"Synchronous malignancy\"}, {\"v\": 110}]}, {\"c\": [{\"v\": \"Notification\"}, {\"v\": \"Neoadjuvant therapy\"}, {\"v\": 102}]}, {\"c\": [{\"v\": \"Notification\"}, {\"v\": \"Item is noncanonical\"}, {\"v\": 81}]}], \"cols\": [{\"type\": \"string\", \"id\": \"annotationClassification\", \"label\": \"annotationClassification\"}, {\"type\": \"string\", \"id\": \"annotationCategoryName\", \"label\": \"annotationCategoryName\"}, {\"type\": \"number\", \"id\": \"n\", \"label\": \"n\"}]});\n",
       "        }\n",
       "      );\n",
       "    </script>\n",
       "  "
      ],
      "text/plain": [
       "QueryResultsTable job_09RCrEKbmkqg-oQQ-Xyv8IH1tIM"
      ]
     },
     "execution_count": 19,
     "metadata": {},
     "output_type": "execute_result"
    }
   ],
   "source": [
    "%%sql\n",
    "\n",
    "SELECT\n",
    "  annotationClassification,\n",
    "  annotationCategoryName,\n",
    "  COUNT(*) AS n\n",
    "FROM\n",
    "  $annotations_BQtable\n",
    "WHERE\n",
    "  ( itemTypeName=\"Patient\" )\n",
    "GROUP BY\n",
    "  annotationClassification,\n",
    "  annotationCategoryName\n",
    "HAVING ( n >= 50 )\n",
    "ORDER BY\n",
    "  n DESC"
   ]
  },
  {
   "cell_type": "markdown",
   "metadata": {},
   "source": [
    "The results of the previous query indicate that the majority of patient-level annotations are \"Notifications\", most frequently regarding prior malignancies.  In most TCGA publications, \"history of unacceptable prior treatment\" and \"item is noncanonical\" notifications are treated as disqualifying annotations, and all data associated with those patients is not used in any analysis."
   ]
  },
  {
   "cell_type": "markdown",
   "metadata": {},
   "source": [
    "Let's make a slight modification to the last query to see what types of annotation categories and classifications we see when the item type is *not* patient:"
   ]
  },
  {
   "cell_type": "code",
   "execution_count": 20,
   "metadata": {
    "collapsed": false
   },
   "outputs": [
    {
     "data": {
      "text/html": [
       "\n",
       "    <div class=\"bqtv\" id=\"16_144736362578\"></div>\n",
       "    <br />(rows: 12, time: 0.8s, cached, job: job_N-6zYZ4lOgO3R428beKDRuXlKbE)<br />\n",
       "    <script>\n",
       "      require(['extensions/charting', 'element!16_144736362578', 'style!/static/extensions/charting.css'],\n",
       "        function(charts, dom) {\n",
       "          charts.render(dom,\n",
       "            {\n",
       "              chartStyle:\"table\",\n",
       "              dataName:\"2\",\n",
       "              fields:\"annotationClassification,annotationCategoryName,itemTypeName,n\",\n",
       "              totalRows:12,\n",
       "              rowsPerPage:25,\n",
       "            }, {}, {\"rows\": [{\"c\": [{\"v\": \"CenterNotification\"}, {\"v\": \"Item flagged DNU\"}, {\"v\": \"Aliquot\"}, {\"v\": 12303}]}, {\"c\": [{\"v\": \"Notification\"}, {\"v\": \"Item is noncanonical\"}, {\"v\": \"Shipped Portion\"}, {\"v\": 1741}]}, {\"c\": [{\"v\": \"Notification\"}, {\"v\": \"Item is noncanonical\"}, {\"v\": \"Slide\"}, {\"v\": 541}]}, {\"c\": [{\"v\": \"Notification\"}, {\"v\": \"Item is noncanonical\"}, {\"v\": \"Analyte\"}, {\"v\": 464}]}, {\"c\": [{\"v\": \"Observation\"}, {\"v\": \"General\"}, {\"v\": \"Analyte\"}, {\"v\": 179}]}, {\"c\": [{\"v\": \"CenterNotification\"}, {\"v\": \"Center QC failed\"}, {\"v\": \"Aliquot\"}, {\"v\": 149}]}, {\"c\": [{\"v\": \"Observation\"}, {\"v\": \"General\"}, {\"v\": \"Aliquot\"}, {\"v\": 116}]}, {\"c\": [{\"v\": \"Notification\"}, {\"v\": \"Item in special subset\"}, {\"v\": \"Analyte\"}, {\"v\": 104}]}, {\"c\": [{\"v\": \"Notification\"}, {\"v\": \"Barcode incorrect\"}, {\"v\": \"Aliquot\"}, {\"v\": 84}]}, {\"c\": [{\"v\": \"Redaction\"}, {\"v\": \"Genotype mismatch\"}, {\"v\": \"Aliquot\"}, {\"v\": 80}]}, {\"c\": [{\"v\": \"Notification\"}, {\"v\": \"Item is noncanonical\"}, {\"v\": \"Sample\"}, {\"v\": 67}]}, {\"c\": [{\"v\": \"Redaction\"}, {\"v\": \"Inadvertently shipped\"}, {\"v\": \"Aliquot\"}, {\"v\": 54}]}], \"cols\": [{\"type\": \"string\", \"id\": \"annotationClassification\", \"label\": \"annotationClassification\"}, {\"type\": \"string\", \"id\": \"annotationCategoryName\", \"label\": \"annotationCategoryName\"}, {\"type\": \"string\", \"id\": \"itemTypeName\", \"label\": \"itemTypeName\"}, {\"type\": \"number\", \"id\": \"n\", \"label\": \"n\"}]});\n",
       "        }\n",
       "      );\n",
       "    </script>\n",
       "  "
      ],
      "text/plain": [
       "QueryResultsTable job_N-6zYZ4lOgO3R428beKDRuXlKbE"
      ]
     },
     "execution_count": 20,
     "metadata": {},
     "output_type": "execute_result"
    }
   ],
   "source": [
    "%%sql\n",
    "\n",
    "SELECT\n",
    "  annotationClassification,\n",
    "  annotationCategoryName,\n",
    "  itemTypeName,\n",
    "  COUNT(*) AS n\n",
    "FROM\n",
    "  $annotations_BQtable\n",
    "WHERE\n",
    "  ( itemTypeName!=\"Patient\" )\n",
    "GROUP BY\n",
    "  annotationClassification,\n",
    "  annotationCategoryName,\n",
    "  itemTypeName\n",
    "HAVING ( n >= 50 )\n",
    "ORDER BY\n",
    "  n DESC"
   ]
  },
  {
   "cell_type": "markdown",
   "metadata": {},
   "source": [
    "The results of the previous query indicate that the vast majority of annotations are at the aliquot level, and more specifically were submitted by one of the data-generating centers, indicating that the data derived from that aliquot is \"DNU\" (Do Not Use).  In general, this should not affect any other aliquots derived from the same sample or any other samples derived from the same patient."
   ]
  },
  {
   "cell_type": "markdown",
   "metadata": {},
   "source": [
    "We see in the output of the previous query that a Notification that an \"Item is noncanonical\" can be applied to different types of items (*eg* slides and analytes).  Let's investigate this a little bit further, for example let's count up these types of annotations by study (ie tumor-type):"
   ]
  },
  {
   "cell_type": "code",
   "execution_count": 21,
   "metadata": {
    "collapsed": false
   },
   "outputs": [
    {
     "data": {
      "text/html": [
       "\n",
       "    <div class=\"bqtv\" id=\"17_144736362722\"></div>\n",
       "    <br />(rows: 14, time: 0.8s, cached, job: job_r_y1YH-YMcsKsOfZmmLO_EoUrdg)<br />\n",
       "    <script>\n",
       "      require(['extensions/charting', 'element!17_144736362722', 'style!/static/extensions/charting.css'],\n",
       "        function(charts, dom) {\n",
       "          charts.render(dom,\n",
       "            {\n",
       "              chartStyle:\"table\",\n",
       "              dataName:\"3\",\n",
       "              fields:\"Study,n\",\n",
       "              totalRows:14,\n",
       "              rowsPerPage:25,\n",
       "            }, {}, {\"rows\": [{\"c\": [{\"v\": \"OV\"}, {\"v\": 743}]}, {\"c\": [{\"v\": \"GBM\"}, {\"v\": 519}]}, {\"c\": [{\"v\": \"KIRC\"}, {\"v\": 455}]}, {\"c\": [{\"v\": \"COAD\"}, {\"v\": 314}]}, {\"c\": [{\"v\": \"LUAD\"}, {\"v\": 238}]}, {\"c\": [{\"v\": \"LUSC\"}, {\"v\": 231}]}, {\"c\": [{\"v\": \"HNSC\"}, {\"v\": 212}]}, {\"c\": [{\"v\": \"READ\"}, {\"v\": 115}]}, {\"c\": [{\"v\": \"KICH\"}, {\"v\": 47}]}, {\"c\": [{\"v\": \"PRAD\"}, {\"v\": 27}]}, {\"c\": [{\"v\": \"CHOL\"}, {\"v\": 15}]}, {\"c\": [{\"v\": \"ACC\"}, {\"v\": 12}]}, {\"c\": [{\"v\": \"PAAD\"}, {\"v\": 8}]}, {\"c\": [{\"v\": \"BRCA\"}, {\"v\": 2}]}], \"cols\": [{\"type\": \"string\", \"id\": \"Study\", \"label\": \"Study\"}, {\"type\": \"number\", \"id\": \"n\", \"label\": \"n\"}]});\n",
       "        }\n",
       "      );\n",
       "    </script>\n",
       "  "
      ],
      "text/plain": [
       "QueryResultsTable job_r_y1YH-YMcsKsOfZmmLO_EoUrdg"
      ]
     },
     "execution_count": 21,
     "metadata": {},
     "output_type": "execute_result"
    }
   ],
   "source": [
    "%%sql\n",
    "\n",
    "SELECT\n",
    "  Study,\n",
    "  COUNT(*) AS n\n",
    "FROM\n",
    "  $annotations_BQtable\n",
    "WHERE\n",
    "  ( annotationCategoryName=\"Item is noncanonical\" )\n",
    "GROUP BY\n",
    "  Study\n",
    "ORDER BY\n",
    "  n DESC"
   ]
  },
  {
   "cell_type": "markdown",
   "metadata": {},
   "source": [
    "and now let's pick one of these tumor types, and delve a little bit further:"
   ]
  },
  {
   "cell_type": "code",
   "execution_count": 22,
   "metadata": {
    "collapsed": false
   },
   "outputs": [
    {
     "data": {
      "text/html": [
       "\n",
       "    <div class=\"bqtv\" id=\"18_144736362883\"></div>\n",
       "    <br />(rows: 5, time: 0.7s, cached, job: job_tcYLAmtruerx09z8yaImpcxqSf8)<br />\n",
       "    <script>\n",
       "      require(['extensions/charting', 'element!18_144736362883', 'style!/static/extensions/charting.css'],\n",
       "        function(charts, dom) {\n",
       "          charts.render(dom,\n",
       "            {\n",
       "              chartStyle:\"table\",\n",
       "              dataName:\"4\",\n",
       "              fields:\"itemTypeName,n\",\n",
       "              totalRows:5,\n",
       "              rowsPerPage:25,\n",
       "            }, {}, {\"rows\": [{\"c\": [{\"v\": \"Slide\"}, {\"v\": 409}]}, {\"c\": [{\"v\": \"Shipped Portion\"}, {\"v\": 220}]}, {\"c\": [{\"v\": \"Analyte\"}, {\"v\": 110}]}, {\"c\": [{\"v\": \"Patient\"}, {\"v\": 3}]}, {\"c\": [{\"v\": \"Sample\"}, {\"v\": 1}]}], \"cols\": [{\"type\": \"string\", \"id\": \"itemTypeName\", \"label\": \"itemTypeName\"}, {\"type\": \"number\", \"id\": \"n\", \"label\": \"n\"}]});\n",
       "        }\n",
       "      );\n",
       "    </script>\n",
       "  "
      ],
      "text/plain": [
       "QueryResultsTable job_tcYLAmtruerx09z8yaImpcxqSf8"
      ]
     },
     "execution_count": 22,
     "metadata": {},
     "output_type": "execute_result"
    }
   ],
   "source": [
    "%%sql\n",
    "\n",
    "SELECT\n",
    "  itemTypeName,\n",
    "  COUNT(*) AS n\n",
    "FROM\n",
    "  $annotations_BQtable\n",
    "WHERE\n",
    "  ( annotationCategoryName=\"Item is noncanonical\"\n",
    "    AND Study=\"OV\" )\n",
    "GROUP BY\n",
    "  itemTypeName\n",
    "ORDER BY\n",
    "  n DESC"
   ]
  },
  {
   "cell_type": "markdown",
   "metadata": {},
   "source": [
    "### Barcodes\n",
    "\n",
    "As described above, an annotation is specific to a single TCGA \"item\" and the fields ``itemTypeName`` and ``itemBarcode`` are the most important keys to understanding which TCGA item carries the annotation.  Because we use the fields ``ParticipantBarcode``, ``SampleBarcode``, and ``AliquotBarcode`` throughout our other TCGA BigQuery tables, we have added them to this table as well, but they should be interpreted with some care:  when an annotation is specific to an aliquot (*ie* ``itemTypeName=\"Aliquot\"``), the ``ParticipantBarcode``, ``SampleBarcode``, and ``AliquotBarcode`` fields will all be set, *but* this should not be interpreted to mean that the annotation applies to all data derived from that patient.\n",
    "\n",
    "This will be illustrated with the following two queries which extract information pertaining to a few specific patients:"
   ]
  },
  {
   "cell_type": "code",
   "execution_count": 23,
   "metadata": {
    "collapsed": false
   },
   "outputs": [
    {
     "data": {
      "text/html": [
       "\n",
       "    <div class=\"bqtv\" id=\"19_144736363020\"></div>\n",
       "    <br />(rows: 16, time: 0.7s, cached, job: job_tNerdWqcqh025QCH6sop2kfeGPE)<br />\n",
       "    <script>\n",
       "      require(['extensions/charting', 'element!19_144736363020', 'style!/static/extensions/charting.css'],\n",
       "        function(charts, dom) {\n",
       "          charts.render(dom,\n",
       "            {\n",
       "              chartStyle:\"table\",\n",
       "              dataName:\"7\",\n",
       "              fields:\"Study,itemTypeName,itemBarcode,annotationCategoryName,annotationClassification,ParticipantBarcode,SampleBarcode,AliquotBarcode,n\",\n",
       "              totalRows:16,\n",
       "              rowsPerPage:25,\n",
       "            }, {}, {\"rows\": [{\"c\": [{\"v\": \"OV\"}, {\"v\": \"Patient\"}, {\"v\": \"TCGA-61-1916\"}, {\"v\": \"Item in special subset\"}, {\"v\": \"Notification\"}, {\"v\": \"TCGA-61-1916\"}, {\"v\": null}, {\"v\": null}, {\"v\": 12}]}, {\"c\": [{\"v\": \"OV\"}, {\"v\": \"Analyte\"}, {\"v\": \"TCGA-61-1916-01A-01T\"}, {\"v\": \"Item is noncanonical\"}, {\"v\": \"Notification\"}, {\"v\": \"TCGA-61-1916\"}, {\"v\": \"TCGA-61-1916-01A\"}, {\"v\": null}, {\"v\": 20}]}, {\"c\": [{\"v\": \"OV\"}, {\"v\": \"Analyte\"}, {\"v\": \"TCGA-61-1916-01A-01W\"}, {\"v\": \"Item is noncanonical\"}, {\"v\": \"Notification\"}, {\"v\": \"TCGA-61-1916\"}, {\"v\": \"TCGA-61-1916-01A\"}, {\"v\": null}, {\"v\": 20}]}, {\"c\": [{\"v\": \"OV\"}, {\"v\": \"Analyte\"}, {\"v\": \"TCGA-61-1916-02A-01W\"}, {\"v\": \"Item is noncanonical\"}, {\"v\": \"Notification\"}, {\"v\": \"TCGA-61-1916\"}, {\"v\": \"TCGA-61-1916-02A\"}, {\"v\": null}, {\"v\": 20}]}, {\"c\": [{\"v\": \"OV\"}, {\"v\": \"Analyte\"}, {\"v\": \"TCGA-61-1916-11A-01W\"}, {\"v\": \"Item is noncanonical\"}, {\"v\": \"Notification\"}, {\"v\": \"TCGA-61-1916\"}, {\"v\": \"TCGA-61-1916-11A\"}, {\"v\": null}, {\"v\": 20}]}, {\"c\": [{\"v\": \"OV\"}, {\"v\": \"Analyte\"}, {\"v\": \"TCGA-61-1916-01A-01G\"}, {\"v\": \"Item is noncanonical\"}, {\"v\": \"Notification\"}, {\"v\": \"TCGA-61-1916\"}, {\"v\": \"TCGA-61-1916-01A\"}, {\"v\": null}, {\"v\": 20}]}, {\"c\": [{\"v\": \"OV\"}, {\"v\": \"Analyte\"}, {\"v\": \"TCGA-61-1916-02A-01G\"}, {\"v\": \"Item is noncanonical\"}, {\"v\": \"Notification\"}, {\"v\": \"TCGA-61-1916\"}, {\"v\": \"TCGA-61-1916-02A\"}, {\"v\": null}, {\"v\": 20}]}, {\"c\": [{\"v\": \"OV\"}, {\"v\": \"Analyte\"}, {\"v\": \"TCGA-61-1916-11A-01D\"}, {\"v\": \"Item is noncanonical\"}, {\"v\": \"Notification\"}, {\"v\": \"TCGA-61-1916\"}, {\"v\": \"TCGA-61-1916-11A\"}, {\"v\": null}, {\"v\": 20}]}, {\"c\": [{\"v\": \"OV\"}, {\"v\": \"Analyte\"}, {\"v\": \"TCGA-61-1916-02A-01D\"}, {\"v\": \"Item is noncanonical\"}, {\"v\": \"Notification\"}, {\"v\": \"TCGA-61-1916\"}, {\"v\": \"TCGA-61-1916-02A\"}, {\"v\": null}, {\"v\": 20}]}, {\"c\": [{\"v\": \"OV\"}, {\"v\": \"Analyte\"}, {\"v\": \"TCGA-61-1916-02A-01R\"}, {\"v\": \"Item is noncanonical\"}, {\"v\": \"Notification\"}, {\"v\": \"TCGA-61-1916\"}, {\"v\": \"TCGA-61-1916-02A\"}, {\"v\": null}, {\"v\": 20}]}, {\"c\": [{\"v\": \"OV\"}, {\"v\": \"Analyte\"}, {\"v\": \"TCGA-61-1916-02A-01T\"}, {\"v\": \"Item is noncanonical\"}, {\"v\": \"Notification\"}, {\"v\": \"TCGA-61-1916\"}, {\"v\": \"TCGA-61-1916-02A\"}, {\"v\": null}, {\"v\": 20}]}, {\"c\": [{\"v\": \"OV\"}, {\"v\": \"Analyte\"}, {\"v\": \"TCGA-61-1916-01A-01D\"}, {\"v\": \"Item is noncanonical\"}, {\"v\": \"Notification\"}, {\"v\": \"TCGA-61-1916\"}, {\"v\": \"TCGA-61-1916-01A\"}, {\"v\": null}, {\"v\": 20}]}, {\"c\": [{\"v\": \"OV\"}, {\"v\": \"Analyte\"}, {\"v\": \"TCGA-61-1916-01A-01R\"}, {\"v\": \"Item is noncanonical\"}, {\"v\": \"Notification\"}, {\"v\": \"TCGA-61-1916\"}, {\"v\": \"TCGA-61-1916-01A\"}, {\"v\": null}, {\"v\": 20}]}, {\"c\": [{\"v\": \"OV\"}, {\"v\": \"Slide\"}, {\"v\": \"TCGA-61-1916-01A-21-1559\"}, {\"v\": \"Item is noncanonical\"}, {\"v\": \"Notification\"}, {\"v\": \"TCGA-61-1916\"}, {\"v\": \"TCGA-61-1916-01A\"}, {\"v\": null}, {\"v\": 24}]}, {\"c\": [{\"v\": \"OV\"}, {\"v\": \"Aliquot\"}, {\"v\": \"TCGA-61-1916-01A-01D-0803-01\"}, {\"v\": \"Item flagged DNU\"}, {\"v\": \"CenterNotification\"}, {\"v\": \"TCGA-61-1916\"}, {\"v\": \"TCGA-61-1916-01A\"}, {\"v\": \"TCGA-61-1916-01A-01D-0803-01\"}, {\"v\": 28}]}, {\"c\": [{\"v\": \"OV\"}, {\"v\": \"Aliquot\"}, {\"v\": \"TCGA-61-1916-02A-01R-0808-01\"}, {\"v\": \"General\"}, {\"v\": \"Observation\"}, {\"v\": \"TCGA-61-1916\"}, {\"v\": \"TCGA-61-1916-02A\"}, {\"v\": \"TCGA-61-1916-02A-01R-0808-01\"}, {\"v\": 28}]}], \"cols\": [{\"type\": \"string\", \"id\": \"Study\", \"label\": \"Study\"}, {\"type\": \"string\", \"id\": \"itemTypeName\", \"label\": \"itemTypeName\"}, {\"type\": \"string\", \"id\": \"itemBarcode\", \"label\": \"itemBarcode\"}, {\"type\": \"string\", \"id\": \"annotationCategoryName\", \"label\": \"annotationCategoryName\"}, {\"type\": \"string\", \"id\": \"annotationClassification\", \"label\": \"annotationClassification\"}, {\"type\": \"string\", \"id\": \"ParticipantBarcode\", \"label\": \"ParticipantBarcode\"}, {\"type\": \"string\", \"id\": \"SampleBarcode\", \"label\": \"SampleBarcode\"}, {\"type\": \"string\", \"id\": \"AliquotBarcode\", \"label\": \"AliquotBarcode\"}, {\"type\": \"number\", \"id\": \"n\", \"label\": \"n\"}]});\n",
       "        }\n",
       "      );\n",
       "    </script>\n",
       "  "
      ],
      "text/plain": [
       "QueryResultsTable job_tNerdWqcqh025QCH6sop2kfeGPE"
      ]
     },
     "execution_count": 23,
     "metadata": {},
     "output_type": "execute_result"
    }
   ],
   "source": [
    "%%sql\n",
    "\n",
    "SELECT\n",
    " Study,\n",
    " itemTypeName,\n",
    " itemBarcode,\n",
    " annotationCategoryName,\n",
    " annotationClassification,\n",
    " ParticipantBarcode,\n",
    " SampleBarcode,\n",
    " AliquotBarcode,\n",
    " LENGTH(itemBarcode) AS n\n",
    "FROM\n",
    "  $annotations_BQtable\n",
    "WHERE\n",
    "  ( ParticipantBarcode=\"TCGA-61-1916\" )\n",
    "ORDER BY n ASC"
   ]
  },
  {
   "cell_type": "code",
   "execution_count": 24,
   "metadata": {
    "collapsed": false
   },
   "outputs": [
    {
     "data": {
      "text/html": [
       "\n",
       "    <div class=\"bqtv\" id=\"20_144736363169\"></div>\n",
       "    <br />(rows: 2, time: 0.9s, cached, job: job_EKAXEErZZWM6OkWcT59lvwJfTic)<br />\n",
       "    <script>\n",
       "      require(['extensions/charting', 'element!20_144736363169', 'style!/static/extensions/charting.css'],\n",
       "        function(charts, dom) {\n",
       "          charts.render(dom,\n",
       "            {\n",
       "              chartStyle:\"table\",\n",
       "              dataName:\"8\",\n",
       "              fields:\"Study,itemTypeName,itemBarcode,annotationCategoryName,annotationClassification,ParticipantBarcode,SampleBarcode,AliquotBarcode,n\",\n",
       "              totalRows:2,\n",
       "              rowsPerPage:25,\n",
       "            }, {}, {\"rows\": [{\"c\": [{\"v\": \"SKCM\"}, {\"v\": \"Patient\"}, {\"v\": \"TCGA-GN-A261\"}, {\"v\": \"Tumor tissue origin incorrect\"}, {\"v\": \"Redaction\"}, {\"v\": \"TCGA-GN-A261\"}, {\"v\": null}, {\"v\": null}, {\"v\": 12}]}, {\"c\": [{\"v\": \"SKCM\"}, {\"v\": \"Patient\"}, {\"v\": \"TCGA-GN-A261\"}, {\"v\": \"Neoadjuvant therapy\"}, {\"v\": \"Notification\"}, {\"v\": \"TCGA-GN-A261\"}, {\"v\": null}, {\"v\": null}, {\"v\": 12}]}], \"cols\": [{\"type\": \"string\", \"id\": \"Study\", \"label\": \"Study\"}, {\"type\": \"string\", \"id\": \"itemTypeName\", \"label\": \"itemTypeName\"}, {\"type\": \"string\", \"id\": \"itemBarcode\", \"label\": \"itemBarcode\"}, {\"type\": \"string\", \"id\": \"annotationCategoryName\", \"label\": \"annotationCategoryName\"}, {\"type\": \"string\", \"id\": \"annotationClassification\", \"label\": \"annotationClassification\"}, {\"type\": \"string\", \"id\": \"ParticipantBarcode\", \"label\": \"ParticipantBarcode\"}, {\"type\": \"string\", \"id\": \"SampleBarcode\", \"label\": \"SampleBarcode\"}, {\"type\": \"string\", \"id\": \"AliquotBarcode\", \"label\": \"AliquotBarcode\"}, {\"type\": \"number\", \"id\": \"n\", \"label\": \"n\"}]});\n",
       "        }\n",
       "      );\n",
       "    </script>\n",
       "  "
      ],
      "text/plain": [
       "QueryResultsTable job_EKAXEErZZWM6OkWcT59lvwJfTic"
      ]
     },
     "execution_count": 24,
     "metadata": {},
     "output_type": "execute_result"
    }
   ],
   "source": [
    "%%sql\n",
    "\n",
    "SELECT\n",
    " Study,\n",
    " itemTypeName,\n",
    " itemBarcode,\n",
    " annotationCategoryName,\n",
    " annotationClassification,\n",
    " ParticipantBarcode,\n",
    " SampleBarcode,\n",
    " AliquotBarcode,\n",
    " LENGTH(itemBarcode) AS n\n",
    "FROM\n",
    "  $annotations_BQtable\n",
    "WHERE\n",
    "  ( ParticipantBarcode=\"TCGA-GN-A261\" )\n",
    "ORDER BY n ASC"
   ]
  },
  {
   "cell_type": "markdown",
   "metadata": {},
   "source": [
    "As you can see in the results returned from the previous two queries, the SampleBarcode and the AliquotBarcode fields may or may not be filled in, depending on the itemTypeName."
   ]
  },
  {
   "cell_type": "code",
   "execution_count": 25,
   "metadata": {
    "collapsed": false
   },
   "outputs": [
    {
     "data": {
      "text/html": [
       "\n",
       "    <div class=\"bqtv\" id=\"21_144736363273\"></div>\n",
       "    <br />(rows: 1, time: 0.5s, cached, job: job_w9QB1IDXzeJvpvXuoSJUB_EG9GM)<br />\n",
       "    <script>\n",
       "      require(['extensions/charting', 'element!21_144736363273', 'style!/static/extensions/charting.css'],\n",
       "        function(charts, dom) {\n",
       "          charts.render(dom,\n",
       "            {\n",
       "              chartStyle:\"table\",\n",
       "              dataName:\"10\",\n",
       "              fields:\"Study,itemTypeName,itemBarcode,annotationCategoryName,annotationClassification,annotationNoteText,ParticipantBarcode,SampleBarcode,AliquotBarcode,n\",\n",
       "              totalRows:1,\n",
       "              rowsPerPage:25,\n",
       "            }, {}, {\"rows\": [{\"c\": [{\"v\": \"HNSC\"}, {\"v\": \"Analyte\"}, {\"v\": \"TCGA-RS-A6TP-10A-01D\"}, {\"v\": \"General\"}, {\"v\": \"Observation\"}, {\"v\": \"DNA analyte UUID: 8304F61F-C217-4B9F-BA64-6486DA54E6C8 was involved in an extraction protocol deviation wherein an additional column purification step was used as a means of buffer exchange on the column-eluted analyte.\"}, {\"v\": \"TCGA-RS-A6TP\"}, {\"v\": \"TCGA-RS-A6TP-10A\"}, {\"v\": null}, {\"v\": 20}]}], \"cols\": [{\"type\": \"string\", \"id\": \"Study\", \"label\": \"Study\"}, {\"type\": \"string\", \"id\": \"itemTypeName\", \"label\": \"itemTypeName\"}, {\"type\": \"string\", \"id\": \"itemBarcode\", \"label\": \"itemBarcode\"}, {\"type\": \"string\", \"id\": \"annotationCategoryName\", \"label\": \"annotationCategoryName\"}, {\"type\": \"string\", \"id\": \"annotationClassification\", \"label\": \"annotationClassification\"}, {\"type\": \"string\", \"id\": \"annotationNoteText\", \"label\": \"annotationNoteText\"}, {\"type\": \"string\", \"id\": \"ParticipantBarcode\", \"label\": \"ParticipantBarcode\"}, {\"type\": \"string\", \"id\": \"SampleBarcode\", \"label\": \"SampleBarcode\"}, {\"type\": \"string\", \"id\": \"AliquotBarcode\", \"label\": \"AliquotBarcode\"}, {\"type\": \"number\", \"id\": \"n\", \"label\": \"n\"}]});\n",
       "        }\n",
       "      );\n",
       "    </script>\n",
       "  "
      ],
      "text/plain": [
       "QueryResultsTable job_w9QB1IDXzeJvpvXuoSJUB_EG9GM"
      ]
     },
     "execution_count": 25,
     "metadata": {},
     "output_type": "execute_result"
    }
   ],
   "source": [
    "%%sql\n",
    "\n",
    "SELECT\n",
    " Study,\n",
    " itemTypeName,\n",
    " itemBarcode,\n",
    " annotationCategoryName,\n",
    " annotationClassification,\n",
    " annotationNoteText,\n",
    " ParticipantBarcode,\n",
    " SampleBarcode,\n",
    " AliquotBarcode,\n",
    " LENGTH(itemBarcode) AS n\n",
    "FROM\n",
    "  $annotations_BQtable\n",
    "WHERE\n",
    "  ( ParticipantBarcode=\"TCGA-RS-A6TP\" )\n",
    "ORDER BY n ASC"
   ]
  },
  {
   "cell_type": "markdown",
   "metadata": {},
   "source": [
    "In this example, there is just one annotation relevant to this particular patient, and one has to look at the ``annotationNoteText`` to find out what the potential issue may be with this particular analyte.  Any aliquots derived from this blood-normal analyte might need to be used with care."
   ]
  },
  {
   "cell_type": "code",
   "execution_count": null,
   "metadata": {
    "collapsed": true
   },
   "outputs": [],
   "source": []
  }
 ],
 "metadata": {
  "kernelspec": {
   "display_name": "Python 2",
   "language": "python",
   "name": "python2"
  },
  "language_info": {
   "codemirror_mode": {
    "name": "ipython",
    "version": 2
   },
   "file_extension": ".py",
   "mimetype": "text/x-python",
   "name": "python",
   "nbconvert_exporter": "python",
   "pygments_lexer": "ipython2",
   "version": "2.7.9"
  }
 },
 "nbformat": 4,
 "nbformat_minor": 0
}
