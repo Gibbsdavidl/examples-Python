{
 "cells": [
  {
   "cell_type": "markdown",
   "metadata": {},
   "source": [
    "# Somatic Mutations\n",
    "\n",
    "The goal of this notebook is to introduce you to the Somatic Mutations BigQuery table.\n",
    "\n",
    "This table is based on the open-access somatic mutation calls available in [MAF files](https://wiki.nci.nih.gov/display/TCGA/TCGA+MAF+Files) at the DCC.  In addition to uploading all current MAF files from the DCC, the mutations were also annotated using [Oncotator](https://www.broadinstitute.org/cancer/cga/oncotator).  A subset of the columns in the underlying MAF files and a subset of the Oncotator outputs were then assembled in this table.  \n",
    "\n",
    "In addition, the ETL process includes several data-cleaning steps because many tumor types actually have multiple current MAF files and therefore potentially duplicate mutation calls.  In some cases, a tumor sample may have had mutations called relative to both a blood-normal and an adjacent-tissue sample, and in other cases MAF files may contain mutations called on more than one aliquot from the same sample.  Every effort was made to include all of the available data at the DCC while avoiding having multiple rows in the mutation table describing the same somatic mutation.  Note, however, that if the *same* mutation was called by *multiple* centers and appeared in different MAF files, it may be described on muliple rows (as you will see later in this notebook).  Furthermore, in some cases, the underlying MAF file may have been based on a multi-center mutationa-calling exercise, in which case you may see a list of centers in the `Center` field, *eg* \"bcgsc.ca;broad.mit.edu;hgsc.bcm.edu;mdanderson.org;ucsc.edu\". \n",
    "\n",
    "In conclusion, if you are counting up the number of mutations observed in a sample or a patient or a tumor-type, be sure to include the necessary GROUP BY clause(s) in order to avoid double-counting!\n",
    "\n",
    "As usual, in order to work with BigQuery, you need to import the bigquery module (gcp.bigquery) and you need to know the name(s) of the table(s) you are going to be working with:"
   ]
  },
  {
   "cell_type": "code",
   "execution_count": null,
   "metadata": {
    "collapsed": true
   },
   "outputs": [],
   "source": [
    "import gcp.bigquery as bq\n",
    "somatic_mutations_BQtable = bq.Table('isb-cgc:tcga_201510_alpha.Somatic_Mutation_calls')"
   ]
  },
  {
   "cell_type": "markdown",
   "metadata": {},
   "source": [
    "Let's start by taking a look at the table schema:"
   ]
  },
  {
   "cell_type": "code",
   "execution_count": null,
   "metadata": {
    "collapsed": false
   },
   "outputs": [],
   "source": [
    "%bigquery schema --table $somatic_mutations_BQtable"
   ]
  },
  {
   "cell_type": "markdown",
   "metadata": {},
   "source": [
    "That's a lot of fields!  Let's dig in a bit further to see what is included in this table.  For example let's count up the number of unique patients, tumor-samples, and normal-samples based on barcode identifiers:"
   ]
  },
  {
   "cell_type": "code",
   "execution_count": null,
   "metadata": {
    "collapsed": true
   },
   "outputs": [],
   "source": [
    "%%sql --module count_unique\n",
    "\n",
    "SELECT COUNT(DISTINCT $f,25000) AS n\n",
    "FROM $t"
   ]
  },
  {
   "cell_type": "code",
   "execution_count": null,
   "metadata": {
    "collapsed": false
   },
   "outputs": [],
   "source": [
    "fieldList = ['ParticipantBarcode', 'Tumor_SampleBarcode', 'Normal_SampleBarcode' ]\n",
    "for aField in fieldList:\n",
    "  field = somatic_mutations_BQtable.schema[aField]\n",
    "  rdf = bq.Query(count_unique,t=somatic_mutations_BQtable,f=field).to_dataframe()\n",
    "  print \" There are %6d unique values in the field %s. \" % ( rdf.iloc[0]['n'], aField)"
   ]
  },
  {
   "cell_type": "markdown",
   "metadata": {},
   "source": [
    "Now let's look at a few key fields and find the top-5 most frequent values in each field:"
   ]
  },
  {
   "cell_type": "code",
   "execution_count": null,
   "metadata": {
    "collapsed": true
   },
   "outputs": [],
   "source": [
    "%%sql --module top_5_values\n",
    "\n",
    "SELECT $f, COUNT(*) AS n\n",
    "FROM $t\n",
    "WHERE ( $f IS NOT NULL )\n",
    "GROUP BY $f\n",
    "ORDER BY n DESC\n",
    "LIMIT 5"
   ]
  },
  {
   "cell_type": "markdown",
   "metadata": {},
   "source": [
    "You can use the parameterized query defined above to find the top-5 most frequently occurring values for any field of interest, for example:"
   ]
  },
  {
   "cell_type": "code",
   "execution_count": null,
   "metadata": {
    "collapsed": false
   },
   "outputs": [],
   "source": [
    "bq.Query(top_5_values,t=somatic_mutations_BQtable,f=somatic_mutations_BQtable.schema['Hugo_Symbol']).results().to_dataframe()"
   ]
  },
  {
   "cell_type": "code",
   "execution_count": null,
   "metadata": {
    "collapsed": false
   },
   "outputs": [],
   "source": [
    "bq.Query(top_5_values,t=somatic_mutations_BQtable,f=somatic_mutations_BQtable.schema['Center']).results().to_dataframe()"
   ]
  },
  {
   "cell_type": "code",
   "execution_count": null,
   "metadata": {
    "collapsed": false
   },
   "outputs": [],
   "source": [
    "bq.Query(top_5_values,t=somatic_mutations_BQtable,f=somatic_mutations_BQtable.schema['Mutation_Status']).results().to_dataframe()"
   ]
  },
  {
   "cell_type": "code",
   "execution_count": null,
   "metadata": {
    "collapsed": false
   },
   "outputs": [],
   "source": [
    "bq.Query(top_5_values,t=somatic_mutations_BQtable,f=somatic_mutations_BQtable.schema['Protein_Change']).results().to_dataframe()"
   ]
  },
  {
   "cell_type": "markdown",
   "metadata": {},
   "source": [
    "Everyone probably recognizes the **V600E** mutation in the previous result, so let's use that well-known BRAF mutation as a way to explore what other information is available in this table."
   ]
  },
  {
   "cell_type": "code",
   "execution_count": null,
   "metadata": {
    "collapsed": false
   },
   "outputs": [],
   "source": [
    "%%sql --module find_BRAF_V600E\n",
    "\n",
    "SELECT\n",
    "  Tumor_SampleBarcode,\n",
    "  Study,\n",
    "  Hugo_Symbol,\n",
    "  Genome_Change,\n",
    "  Protein_Change\n",
    "FROM\n",
    "  $t\n",
    "WHERE\n",
    "  ( Hugo_Symbol=\"BRAF\"\n",
    "    AND Protein_Change=\"p.V600E\" )\n",
    "GROUP BY\n",
    "  Tumor_SampleBarcode,\n",
    "  Study,\n",
    "  Hugo_Symbol,\n",
    "  Genome_Change,\n",
    "  Protein_Change\n",
    "ORDER BY\n",
    "  Study,\n",
    "  Tumor_SampleBarcode"
   ]
  },
  {
   "cell_type": "code",
   "execution_count": null,
   "metadata": {
    "collapsed": false
   },
   "outputs": [],
   "source": [
    "r = bq.Query(find_BRAF_V600E,t=somatic_mutations_BQtable).results()\n",
    "r"
   ]
  },
  {
   "cell_type": "markdown",
   "metadata": {},
   "source": [
    "Let's count these mutations up by study (tumor-type):"
   ]
  },
  {
   "cell_type": "code",
   "execution_count": null,
   "metadata": {
    "collapsed": false
   },
   "outputs": [],
   "source": [
    "%%sql\n",
    "\n",
    "SELECT Study, COUNT(*) AS n\n",
    "FROM $r\n",
    "GROUP BY Study\n",
    "HAVING n > 1\n",
    "ORDER BY n DESC"
   ]
  },
  {
   "cell_type": "markdown",
   "metadata": {},
   "source": [
    "You may have noticed that in our earlier query, we did a GROUP BY to make sure that we didn't count the same mutation called on the same sample more than once.  We might want to GROUP BY patient instead to see if that changes our counts -- we may have multiple samples from some patients."
   ]
  },
  {
   "cell_type": "code",
   "execution_count": null,
   "metadata": {
    "collapsed": true
   },
   "outputs": [],
   "source": [
    "%%sql --module find_BRAF_V600E_by_patient\n",
    "\n",
    "SELECT\n",
    "  ParticipantBarcode,\n",
    "  Study,\n",
    "  Hugo_Symbol,\n",
    "  Genome_Change,\n",
    "  Protein_Change\n",
    "FROM\n",
    "  $t\n",
    "WHERE\n",
    "  ( Hugo_Symbol=\"BRAF\"\n",
    "    AND Protein_Change=\"p.V600E\" )\n",
    "GROUP BY\n",
    "  ParticipantBarcode,\n",
    "  Study,\n",
    "  Hugo_Symbol,\n",
    "  Genome_Change,\n",
    "  Protein_Change\n",
    "ORDER BY\n",
    "  Study,\n",
    "  ParticipantBarcode"
   ]
  },
  {
   "cell_type": "code",
   "execution_count": null,
   "metadata": {
    "collapsed": false
   },
   "outputs": [],
   "source": [
    "r = bq.Query(find_BRAF_V600E_by_patient,t=somatic_mutations_BQtable).results()"
   ]
  },
  {
   "cell_type": "code",
   "execution_count": null,
   "metadata": {
    "collapsed": false
   },
   "outputs": [],
   "source": [
    "%%sql\n",
    "\n",
    "SELECT Study, COUNT(*) AS n\n",
    "FROM $r\n",
    "GROUP BY Study\n",
    "HAVING n > 1\n",
    "ORDER BY n DESC"
   ]
  },
  {
   "cell_type": "markdown",
   "metadata": {},
   "source": [
    "When we counted the number of mutated samples, we found 261 THCA samples, but when we counted the number of patients, we found 258 THCA patients, so let's see what's going on there."
   ]
  },
  {
   "cell_type": "code",
   "execution_count": null,
   "metadata": {
    "collapsed": false
   },
   "outputs": [],
   "source": [
    "%%sql\n",
    "\n",
    "SELECT\n",
    "  ParticipantBarcode,\n",
    "  COUNT(*) AS m\n",
    "FROM (\n",
    "  SELECT\n",
    "    ParticipantBarcode,\n",
    "    Tumor_SampleBarcode,\n",
    "    COUNT(*) AS n\n",
    "  FROM\n",
    "    $somatic_mutations_BQtable\n",
    "  WHERE\n",
    "    ( Hugo_Symbol=\"BRAF\"\n",
    "      AND Protein_Change=\"p.V600E\"\n",
    "      AND Study=\"THCA\" )\n",
    "  GROUP BY\n",
    "    ParticipantBarcode,\n",
    "    Tumor_SampleBarcode,\n",
    "    )\n",
    "GROUP BY\n",
    "  ParticipantBarcode\n",
    "HAVING\n",
    "  m > 1\n",
    "ORDER BY\n",
    "  m DESC"
   ]
  },
  {
   "cell_type": "markdown",
   "metadata": {},
   "source": [
    "Sure enough, we see that the same mutation is reported twice for each of these three patients.  Let's look at why:"
   ]
  },
  {
   "cell_type": "code",
   "execution_count": null,
   "metadata": {
    "collapsed": false
   },
   "outputs": [],
   "source": [
    "%%sql\n",
    "\n",
    "SELECT\n",
    "  ParticipantBarcode,\n",
    "  Tumor_SampleBarcode,\n",
    "  Tumor_SampleTypeLetterCode,\n",
    "  Normal_SampleBarcode,\n",
    "  Normal_SampleTypeLetterCode,\n",
    "  Center,\n",
    "FROM\n",
    "  $somatic_mutations_BQtable\n",
    "WHERE\n",
    "  ( Hugo_Symbol=\"BRAF\"\n",
    "    AND Protein_Change=\"p.V600E\"\n",
    "    AND Study=\"THCA\"\n",
    "    AND ParticipantBarcode=\"TCGA-EM-A2P1\" )\n",
    "ORDER BY\n",
    "  Tumor_SampleBarcode,\n",
    "  Normal_SampleBarcode,\n",
    "  Center"
   ]
  },
  {
   "cell_type": "markdown",
   "metadata": {},
   "source": [
    "Aha!  not only did this patient provide both a primary tumor (TP) and a metastatic (TM) sample, but we have mutation calls from three different centers."
   ]
  },
  {
   "cell_type": "markdown",
   "metadata": {},
   "source": [
    "Finally, let's pick out one of these mutations and see what some of the other fields in this table can tell us:"
   ]
  },
  {
   "cell_type": "code",
   "execution_count": null,
   "metadata": {
    "collapsed": false
   },
   "outputs": [],
   "source": [
    "%%sql\n",
    "\n",
    "SELECT\n",
    "  ParticipantBarcode,\n",
    "  Tumor_SampleTypeLetterCode,\n",
    "  Normal_SampleTypeLetterCode,\n",
    "  Study,\n",
    "  Center,\n",
    "  Variant_Type,\n",
    "  Variant_Classification,\n",
    "  Genome_Change,\n",
    "  cDNA_Change,\n",
    "  Protein_Change,\n",
    "  UniProt_Region,\n",
    "  COSMIC_Total_Alterations_In_Gene,\n",
    "  DrugBank\n",
    "FROM\n",
    "  $somatic_mutations_BQtable\n",
    "WHERE\n",
    "  ( Hugo_Symbol=\"BRAF\"\n",
    "    AND Protein_Change=\"p.V600E\"\n",
    "    AND Study=\"THCA\"\n",
    "    AND ParticipantBarcode=\"TCGA-EM-A2P1\"\n",
    "    AND Tumor_SampleTypeLetterCode=\"TP\"\n",
    "    AND Center=\"broad.mit.edu\" )"
   ]
  },
  {
   "cell_type": "markdown",
   "metadata": {},
   "source": [
    "When working with variants or mutations, there is another public BigQuery table that you might find useful.  Developed by [Tute Genomics](http://tutegenomics.com/), this comprehensive, publicly-available database of over 8.5 billion known variants was [announced](https://www.tutegenomics.com/news/exploring-genetic-variation-with-google-genomics-and-tute/) earlier this year.  This table includes several types of annotations and scores, such ase [Polyphen2](http://genetics.bwh.harvard.edu/pph2/) and [MutationAssessor](http://mutationassessor.org/), and a proprietary \"Tute score\" which estimates whether a SNP or indel is likely to be associate with Mendelian phenotypes. "
   ]
  },
  {
   "cell_type": "markdown",
   "metadata": {},
   "source": [
    "For example, you can look up all exonic BRAF mutations in the TuteTable in less than 20 seconds:"
   ]
  },
  {
   "cell_type": "code",
   "execution_count": null,
   "metadata": {
    "collapsed": false
   },
   "outputs": [],
   "source": [
    "%%sql --module BRAF_TUTE\n",
    "\n",
    "SELECT\n",
    "  Chr,\n",
    "  Start,\n",
    "  Func,\n",
    "  Gene,\n",
    "  AA,\n",
    "  Polyphen2_HDIV_score,\n",
    "  Polyphen2_HVAR_score,\n",
    "  MutationAssessor_score,\n",
    "  TUTE\n",
    "FROM\n",
    "  [silver-wall-555:TuteTable.hg19]\n",
    "WHERE\n",
    "  ( Gene=\"BRAF\"\n",
    "    AND Func=\"exonic\" )\n",
    "ORDER BY\n",
    "  Start ASC"
   ]
  },
  {
   "cell_type": "code",
   "execution_count": null,
   "metadata": {
    "collapsed": false
   },
   "outputs": [],
   "source": [
    "tuteBRAFscores = bq.Query(BRAF_TUTE).results().to_dataframe()\n",
    "tuteBRAFscores.describe()"
   ]
  },
  {
   "cell_type": "markdown",
   "metadata": {},
   "source": [
    "Let's go back to the TCGA somatic mutations table and pull out all BRAF mutations and then join them with the matching mutations in the Tute Table so that we can compare the distribution of scores (*eg* MutationAssessor and TUTE) between the somatic mutations seen in TCGA and the larger set of variants contained in the Tute Table."
   ]
  },
  {
   "cell_type": "code",
   "execution_count": null,
   "metadata": {
    "collapsed": false
   },
   "outputs": [],
   "source": [
    "%%sql --module TCGA_BRAF\n",
    "\n",
    "SELECT\n",
    "  Hugo_Symbol,\n",
    "  Protein_Change,\n",
    "  MutationAssessor_score,\n",
    "  TUTE\n",
    "FROM (\n",
    "  SELECT\n",
    "    Hugo_Symbol,\n",
    "    Protein_Change\n",
    "  FROM\n",
    "    $t\n",
    "  WHERE\n",
    "    ( Hugo_Symbol=\"BRAF\" )\n",
    "  GROUP BY\n",
    "    Hugo_Symbol,\n",
    "    Protein_Change ) AS tcga\n",
    "JOIN (\n",
    "  SELECT\n",
    "    Gene,\n",
    "    AA,\n",
    "    MutationAssessor_score,\n",
    "    TUTE\n",
    "  FROM\n",
    "    [silver-wall-555:TuteTable.hg19]\n",
    "  WHERE\n",
    "    ( Gene=\"BRAF\" ) ) AS tute\n",
    "ON\n",
    "  tcga.Hugo_Symbol=tute.Gene\n",
    "  AND tcga.Protein_Change=tute.AA"
   ]
  },
  {
   "cell_type": "code",
   "execution_count": null,
   "metadata": {
    "collapsed": false
   },
   "outputs": [],
   "source": [
    "tcgaBRAFscores = bq.Query(TCGA_BRAF,t=somatic_mutations_BQtable).results().to_dataframe()\n",
    "tcgaBRAFscores.describe()"
   ]
  },
  {
   "cell_type": "code",
   "execution_count": null,
   "metadata": {
    "collapsed": true
   },
   "outputs": [],
   "source": [
    "import numpy as np\n",
    "import matplotlib.pyplot as plt"
   ]
  },
  {
   "cell_type": "code",
   "execution_count": null,
   "metadata": {
    "collapsed": false
   },
   "outputs": [],
   "source": [
    "plt.hist(tuteBRAFscores['TUTE'],bins=50,normed=True,color='red',alpha=0.6,label='all variants');\n",
    "plt.hist(tcgaBRAFscores['TUTE'],bins=50,normed=True,color='blue',alpha=0.4,label='TCGA somatic mutations');\n",
    "plt.legend(loc='upper right');\n",
    "plt.xlabel('TUTE score');\n",
    "plt.ylabel('probability');"
   ]
  },
  {
   "cell_type": "code",
   "execution_count": null,
   "metadata": {
    "collapsed": false
   },
   "outputs": [],
   "source": [
    "plt.hist(tuteBRAFscores['MutationAssessor_score'],bins=45,range=[-4,5],normed=True,color='red',alpha=0.6,label='all variants');\n",
    "plt.hist(tcgaBRAFscores['MutationAssessor_score'],bins=45,range=[-4,5],normed=True,color='blue',alpha=0.4,label='TCGA somatic mutations');\n",
    "plt.legend(loc='upper right');\n",
    "plt.xlabel('MutationAssessor score');\n",
    "plt.ylabel('probability');"
   ]
  },
  {
   "cell_type": "markdown",
   "metadata": {},
   "source": [
    "Both of these plots suggest that some of the somatic BRAF mutations observed in TCGA tumor samples are scored as more deleterious by both TUTE and MutationAssessor.  In the TUTE histogram, a larger fraction of somatic mutations also get a score of 0.\n",
    "\n",
    "Note that in these histograms, each count represents a *single* variant, *ie* a specific protein change.  Mutations that are seen across multiple patients are **not** being counted multiple times."
   ]
  },
  {
   "cell_type": "code",
   "execution_count": null,
   "metadata": {
    "collapsed": true
   },
   "outputs": [],
   "source": []
  }
 ],
 "metadata": {
  "kernelspec": {
   "display_name": "Python 2",
   "language": "python",
   "name": "python2"
  },
  "language_info": {
   "codemirror_mode": {
    "name": "ipython",
    "version": 2
   },
   "file_extension": ".py",
   "mimetype": "text/x-python",
   "name": "python",
   "nbconvert_exporter": "python",
   "pygments_lexer": "ipython2",
   "version": "2.7.9"
  }
 },
 "nbformat": 4,
 "nbformat_minor": 0
}
